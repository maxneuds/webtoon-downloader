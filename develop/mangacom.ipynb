{
 "cells": [
  {
   "cell_type": "code",
   "execution_count": null,
   "id": "5c134404",
   "metadata": {},
   "outputs": [
    {
     "ename": "AttributeError",
     "evalue": "Can only use .str accessor with string values!",
     "output_type": "error",
     "traceback": [
      "\u001b[31m---------------------------------------------------------------------------\u001b[39m",
      "\u001b[31mAttributeError\u001b[39m                            Traceback (most recent call last)",
      "\u001b[36mCell\u001b[39m\u001b[36m \u001b[39m\u001b[32mIn[42]\u001b[39m\u001b[32m, line 118\u001b[39m\n\u001b[32m    115\u001b[39m     exit(\u001b[32m1\u001b[39m)\n\u001b[32m    117\u001b[39m \u001b[38;5;66;03m# Step 2: Get the list of episode URLs from the first episode\u001b[39;00m\n\u001b[32m--> \u001b[39m\u001b[32m118\u001b[39m episodes = \u001b[43mget_episodes\u001b[49m\u001b[43m(\u001b[49m\u001b[43msoup\u001b[49m\u001b[43m)\u001b[49m\n\u001b[32m    119\u001b[39m episodes = \u001b[38;5;28mdict\u001b[39m(\u001b[38;5;28msorted\u001b[39m(episodes.items(), key=\u001b[38;5;28;01mlambda\u001b[39;00m item: item[\u001b[32m0\u001b[39m]))\n\u001b[32m    121\u001b[39m \u001b[38;5;66;03m# Step 3: Download each episode as a CBZ file\u001b[39;00m\n",
      "\u001b[36mCell\u001b[39m\u001b[36m \u001b[39m\u001b[32mIn[42]\u001b[39m\u001b[32m, line 56\u001b[39m, in \u001b[36mget_episodes\u001b[39m\u001b[34m(soup)\u001b[39m\n\u001b[32m     54\u001b[39m df_chapters = pd.DataFrame({\u001b[33m'\u001b[39m\u001b[33mchapter_url\u001b[39m\u001b[33m'\u001b[39m: chapter_links})\n\u001b[32m     55\u001b[39m df_chapters = df_chapters.drop_duplicates(subset=\u001b[33m'\u001b[39m\u001b[33mchapter_url\u001b[39m\u001b[33m'\u001b[39m).reset_index(drop=\u001b[38;5;28;01mTrue\u001b[39;00m)\n\u001b[32m---> \u001b[39m\u001b[32m56\u001b[39m df_chapters[\u001b[33m'\u001b[39m\u001b[33mchapter_no\u001b[39m\u001b[33m'\u001b[39m] = \u001b[43mdf_chapters\u001b[49m\u001b[43m[\u001b[49m\u001b[33;43m'\u001b[39;49m\u001b[33;43mchapter_url\u001b[39;49m\u001b[33;43m'\u001b[39;49m\u001b[43m]\u001b[49m\u001b[43m.\u001b[49m\u001b[43mstr\u001b[49m.extract(\u001b[33mr\u001b[39m\u001b[33m'\u001b[39m\u001b[33m-ch[a-zA-Z]*-(\u001b[39m\u001b[33m\\\u001b[39m\u001b[33md+.*)?/\u001b[39m\u001b[33m'\u001b[39m)\n\u001b[32m     57\u001b[39m df_chapters[\u001b[33m'\u001b[39m\u001b[33mchapter_no\u001b[39m\u001b[33m'\u001b[39m] = df_chapters[\u001b[33m'\u001b[39m\u001b[33mchapter_no\u001b[39m\u001b[33m'\u001b[39m].str.replace(\u001b[33m'\u001b[39m\u001b[33m-\u001b[39m\u001b[33m'\u001b[39m, \u001b[33m'\u001b[39m\u001b[33m.\u001b[39m\u001b[33m'\u001b[39m, regex=\u001b[38;5;28;01mFalse\u001b[39;00m).astype(\u001b[38;5;28mfloat\u001b[39m)\n\u001b[32m     58\u001b[39m df_chapters = df_chapters.sort_values(by=\u001b[33m'\u001b[39m\u001b[33mchapter_no\u001b[39m\u001b[33m'\u001b[39m).reset_index(drop=\u001b[38;5;28;01mTrue\u001b[39;00m)\n",
      "\u001b[36mFile \u001b[39m\u001b[32m/workspace/webtoon-downloader/.venv/lib/python3.12/site-packages/pandas/core/generic.py:6299\u001b[39m, in \u001b[36mNDFrame.__getattr__\u001b[39m\u001b[34m(self, name)\u001b[39m\n\u001b[32m   6292\u001b[39m \u001b[38;5;28;01mif\u001b[39;00m (\n\u001b[32m   6293\u001b[39m     name \u001b[38;5;129;01mnot\u001b[39;00m \u001b[38;5;129;01min\u001b[39;00m \u001b[38;5;28mself\u001b[39m._internal_names_set\n\u001b[32m   6294\u001b[39m     \u001b[38;5;129;01mand\u001b[39;00m name \u001b[38;5;129;01mnot\u001b[39;00m \u001b[38;5;129;01min\u001b[39;00m \u001b[38;5;28mself\u001b[39m._metadata\n\u001b[32m   6295\u001b[39m     \u001b[38;5;129;01mand\u001b[39;00m name \u001b[38;5;129;01mnot\u001b[39;00m \u001b[38;5;129;01min\u001b[39;00m \u001b[38;5;28mself\u001b[39m._accessors\n\u001b[32m   6296\u001b[39m     \u001b[38;5;129;01mand\u001b[39;00m \u001b[38;5;28mself\u001b[39m._info_axis._can_hold_identifiers_and_holds_name(name)\n\u001b[32m   6297\u001b[39m ):\n\u001b[32m   6298\u001b[39m     \u001b[38;5;28;01mreturn\u001b[39;00m \u001b[38;5;28mself\u001b[39m[name]\n\u001b[32m-> \u001b[39m\u001b[32m6299\u001b[39m \u001b[38;5;28;01mreturn\u001b[39;00m \u001b[38;5;28;43mobject\u001b[39;49m\u001b[43m.\u001b[49m\u001b[34;43m__getattribute__\u001b[39;49m\u001b[43m(\u001b[49m\u001b[38;5;28;43mself\u001b[39;49m\u001b[43m,\u001b[49m\u001b[43m \u001b[49m\u001b[43mname\u001b[49m\u001b[43m)\u001b[49m\n",
      "\u001b[36mFile \u001b[39m\u001b[32m/workspace/webtoon-downloader/.venv/lib/python3.12/site-packages/pandas/core/accessor.py:224\u001b[39m, in \u001b[36mCachedAccessor.__get__\u001b[39m\u001b[34m(self, obj, cls)\u001b[39m\n\u001b[32m    221\u001b[39m \u001b[38;5;28;01mif\u001b[39;00m obj \u001b[38;5;129;01mis\u001b[39;00m \u001b[38;5;28;01mNone\u001b[39;00m:\n\u001b[32m    222\u001b[39m     \u001b[38;5;66;03m# we're accessing the attribute of the class, i.e., Dataset.geo\u001b[39;00m\n\u001b[32m    223\u001b[39m     \u001b[38;5;28;01mreturn\u001b[39;00m \u001b[38;5;28mself\u001b[39m._accessor\n\u001b[32m--> \u001b[39m\u001b[32m224\u001b[39m accessor_obj = \u001b[38;5;28;43mself\u001b[39;49m\u001b[43m.\u001b[49m\u001b[43m_accessor\u001b[49m\u001b[43m(\u001b[49m\u001b[43mobj\u001b[49m\u001b[43m)\u001b[49m\n\u001b[32m    225\u001b[39m \u001b[38;5;66;03m# Replace the property with the accessor object. Inspired by:\u001b[39;00m\n\u001b[32m    226\u001b[39m \u001b[38;5;66;03m# https://www.pydanny.com/cached-property.html\u001b[39;00m\n\u001b[32m    227\u001b[39m \u001b[38;5;66;03m# We need to use object.__setattr__ because we overwrite __setattr__ on\u001b[39;00m\n\u001b[32m    228\u001b[39m \u001b[38;5;66;03m# NDFrame\u001b[39;00m\n\u001b[32m    229\u001b[39m \u001b[38;5;28mobject\u001b[39m.\u001b[34m__setattr__\u001b[39m(obj, \u001b[38;5;28mself\u001b[39m._name, accessor_obj)\n",
      "\u001b[36mFile \u001b[39m\u001b[32m/workspace/webtoon-downloader/.venv/lib/python3.12/site-packages/pandas/core/strings/accessor.py:191\u001b[39m, in \u001b[36mStringMethods.__init__\u001b[39m\u001b[34m(self, data)\u001b[39m\n\u001b[32m    188\u001b[39m \u001b[38;5;28;01mdef\u001b[39;00m\u001b[38;5;250m \u001b[39m\u001b[34m__init__\u001b[39m(\u001b[38;5;28mself\u001b[39m, data) -> \u001b[38;5;28;01mNone\u001b[39;00m:\n\u001b[32m    189\u001b[39m     \u001b[38;5;28;01mfrom\u001b[39;00m\u001b[38;5;250m \u001b[39m\u001b[34;01mpandas\u001b[39;00m\u001b[34;01m.\u001b[39;00m\u001b[34;01mcore\u001b[39;00m\u001b[34;01m.\u001b[39;00m\u001b[34;01marrays\u001b[39;00m\u001b[34;01m.\u001b[39;00m\u001b[34;01mstring_\u001b[39;00m\u001b[38;5;250m \u001b[39m\u001b[38;5;28;01mimport\u001b[39;00m StringDtype\n\u001b[32m--> \u001b[39m\u001b[32m191\u001b[39m     \u001b[38;5;28mself\u001b[39m._inferred_dtype = \u001b[38;5;28;43mself\u001b[39;49m\u001b[43m.\u001b[49m\u001b[43m_validate\u001b[49m\u001b[43m(\u001b[49m\u001b[43mdata\u001b[49m\u001b[43m)\u001b[49m\n\u001b[32m    192\u001b[39m     \u001b[38;5;28mself\u001b[39m._is_categorical = \u001b[38;5;28misinstance\u001b[39m(data.dtype, CategoricalDtype)\n\u001b[32m    193\u001b[39m     \u001b[38;5;28mself\u001b[39m._is_string = \u001b[38;5;28misinstance\u001b[39m(data.dtype, StringDtype)\n",
      "\u001b[36mFile \u001b[39m\u001b[32m/workspace/webtoon-downloader/.venv/lib/python3.12/site-packages/pandas/core/strings/accessor.py:245\u001b[39m, in \u001b[36mStringMethods._validate\u001b[39m\u001b[34m(data)\u001b[39m\n\u001b[32m    242\u001b[39m inferred_dtype = lib.infer_dtype(values, skipna=\u001b[38;5;28;01mTrue\u001b[39;00m)\n\u001b[32m    244\u001b[39m \u001b[38;5;28;01mif\u001b[39;00m inferred_dtype \u001b[38;5;129;01mnot\u001b[39;00m \u001b[38;5;129;01min\u001b[39;00m allowed_types:\n\u001b[32m--> \u001b[39m\u001b[32m245\u001b[39m     \u001b[38;5;28;01mraise\u001b[39;00m \u001b[38;5;167;01mAttributeError\u001b[39;00m(\u001b[33m\"\u001b[39m\u001b[33mCan only use .str accessor with string values!\u001b[39m\u001b[33m\"\u001b[39m)\n\u001b[32m    246\u001b[39m \u001b[38;5;28;01mreturn\u001b[39;00m inferred_dtype\n",
      "\u001b[31mAttributeError\u001b[39m: Can only use .str accessor with string values!"
     ]
    }
   ],
   "source": [
    "import re\n",
    "import os\n",
    "import zipfile\n",
    "import httpx\n",
    "import pandas as pd\n",
    "from bs4 import BeautifulSoup\n",
    "from PIL import Image\n",
    "from io import BytesIO\n",
    "import pillow_avif\n",
    "import tempfile\n",
    "from tqdm.notebook import tqdm\n",
    "\n",
    "\n",
    "START_URL = \"https://thebeginningaftertheendmanga.com\"\n",
    "START_CHAPTER = 185\n",
    "\n",
    "\n",
    "# Setup download directory\n",
    "dir_output = \"downloads\"\n",
    "os.makedirs(dir_output, exist_ok=True)\n",
    "# Setup headers\n",
    "header_ua = '\"Google Chrome\";v=\"135\", \"Not-A.Brand\";v=\"8\", \"Chromium\";v=\"135\"'\n",
    "header_ua_mobile = \"?0\"\n",
    "header_ua_platform = '\"Linux\"'\n",
    "header_user_agent = \"Mozilla/5.0 (X11; Linux x86_64) AppleWebKit/537.36 (KHTML, like Gecko) Chrome/135.0.0.0 Safari/537.36\"\n",
    "headers = {\n",
    "    \"sec-ch-ua\": header_ua,\n",
    "    \"sec-ch-ua-mobile\": header_ua_mobile,\n",
    "    \"sec-ch-ua-platform\": header_ua_platform,\n",
    "    \"user-agent\": header_user_agent,\n",
    "}\n",
    "\n",
    "def httpx_get_soup(url, headers) -> BeautifulSoup:\n",
    "    \"\"\"\n",
    "    Fetches the content of a URL and returns a BeautifulSoup object.\n",
    "    \"\"\"\n",
    "    with httpx.Client() as client:\n",
    "        response = client.get(url, headers=headers)\n",
    "        if response.status_code == 200:\n",
    "            return BeautifulSoup(response.text, 'html.parser')\n",
    "        else:\n",
    "            print(f\"Failed to retrieve the page: {url}\\nStatus code: {response.status_code}\")\n",
    "            exit(1)\n",
    "            return None\n",
    "\n",
    "def get_episodes(soup) -> dict:\n",
    "    \"\"\"\n",
    "    Extracts episode URLs from the soup object based on the provided regex.\n",
    "    Returns a dictionary with episode numbers as keys and URLs as values.\n",
    "    \"\"\"\n",
    "    chapter_links = [\n",
    "        a['href'] for a in soup.find_all('a', href=re.compile(r'https://.+manga\\.com/(manga|uncategorized)/.+-ch.*-\\d+.*'))\n",
    "    ]\n",
    "    df_chapters = pd.DataFrame({'chapter_url': chapter_links})\n",
    "    df_chapters = df_chapters.drop_duplicates(subset='chapter_url').reset_index(drop=True)\n",
    "    df_chapters['chapter_no'] = df_chapters['chapter_url'].str.extract(r'-ch[a-zA-Z]*-(\\d+.*)?/')\n",
    "    df_chapters['chapter_no'] = df_chapters['chapter_no'].str.replace('-', '.', regex=False).astype(float)\n",
    "    df_chapters = df_chapters.sort_values(by='chapter_no').reset_index(drop=True)\n",
    "    out = dict(zip(df_chapters['chapter_no'], df_chapters['chapter_url']))\n",
    "    return out\n",
    "\n",
    "def download_cbz(url, episode_no, path_cbz, img_format=\"avif\"):\n",
    "    \"\"\"\n",
    "    Downloads a CBZ file from the given URL and saves it to the specified path.\n",
    "    Default format is AVIF. Options are AVIF or JPEG.\n",
    "    \"\"\"\n",
    "    # Step 1: Fetch the page content as soup\n",
    "    soup = httpx_get_soup(url, headers)\n",
    "    # --> DEBUG\n",
    "    # with open(\"soup.txt\", \"w\", encoding=\"utf-8\") as f:\n",
    "    #     f.write(str(soup))\n",
    "    # --> DEBUG\n",
    "    # Step 2: Find all image links of content images\n",
    "    image_urls = [\n",
    "        img['data-src'] if 'data-src' in img.attrs else img['src']\n",
    "        for div in soup.find_all('div', class_='kt-inside-inner-col')\n",
    "        for img in div.find_all('img')\n",
    "    ]\n",
    "    # # Setp 3: Download images\n",
    "    headers['referer'] = url\n",
    "    n = 0\n",
    "    with tempfile.TemporaryDirectory() as temp_dir:\n",
    "        with httpx.Client() as client:\n",
    "            for url in tqdm(image_urls, desc=f\"Downloading Episode: {episode_no}\", unit=\"image\", leave=False):\n",
    "                image_url = url\n",
    "                response = client.get(image_url, headers=headers)\n",
    "                if response.status_code == 200:\n",
    "                    n += 1\n",
    "                    image = Image.open(BytesIO(response.content))\n",
    "                    file_name = f\"{str(n).zfill(3)}.{img_format}\"\n",
    "                    if img_format == \"avif\":\n",
    "                        image.save(os.path.join(temp_dir, file_name), format=\"AVIF\")\n",
    "                    else:\n",
    "                        image.save(os.path.join(temp_dir, file_name), format=\"JPEG\")\n",
    "                else:\n",
    "                    print(f\"Failed to download image of episode {episode_no}: {response.status_code}\")\n",
    "                    exit(1)        \n",
    "        # Step 4: Create new CBZ with downloaded images\n",
    "        with zipfile.ZipFile(path_cbz, 'w', compression=zipfile.ZIP_DEFLATED) as zipf:\n",
    "            for filename in sorted(os.listdir(temp_dir)):\n",
    "                file_path = os.path.join(temp_dir, filename)\n",
    "                zipf.write(file_path, arcname=filename)\n",
    "\n",
    "\n",
    "# Step 1: Fetch the series page content as soup and extract title first episode url\n",
    "soup = httpx_get_soup(START_URL, headers)\n",
    "# --> DEBUG\n",
    "# with open(\"soup.txt\", \"w\", encoding=\"utf-8\") as f:\n",
    "#     f.write(str(soup))\n",
    "# --> DEBUG\n",
    "site_title_elem = soup.find(class_=\"site-title\")\n",
    "series_title = site_title_elem.text.strip() if site_title_elem else None\n",
    "if not series_title:\n",
    "    print(\"Failed to find the series title.\")\n",
    "    exit(1)\n",
    "\n",
    "# Step 2: Get the list of episode URLs from the first episode\n",
    "episodes = get_episodes(soup)\n",
    "episodes = dict(sorted(episodes.items(), key=lambda item: item[0]))\n",
    "\n",
    "# Step 3: Download each episode as a CBZ file\n",
    "dir_output = os.path.join(dir_output, series_title)\n",
    "os.makedirs(dir_output, exist_ok=True)\n",
    "for key in tqdm(episodes.keys(), desc=\"Processing Episodes\", unit=\"url\"):\n",
    "    episode_no = key\n",
    "    url = episodes[key]\n",
    "    if isinstance(episode_no, float) and episode_no.is_integer():\n",
    "        episode_no = int(episode_no)\n",
    "    if episode_no < START_CHAPTER:\n",
    "        continue\n",
    "    path_cbz = os.path.join(dir_output, f\"{series_title}, Episode {episode_no}.cbz\")\n",
    "    if os.path.exists(path_cbz):\n",
    "        continue\n",
    "    download_cbz(url, episode_no, path_cbz, img_format=\"avif\")\n"
   ]
  },
  {
   "cell_type": "code",
   "execution_count": null,
   "id": "95487f71",
   "metadata": {},
   "outputs": [
    {
     "data": {
      "application/vnd.jupyter.widget-view+json": {
       "model_id": "707ba4f3bddb4a21baa6c109ee491859",
       "version_major": 2,
       "version_minor": 0
      },
      "text/plain": [
       "Processing Episodes:   0%|          | 0/252 [00:00<?, ?url/s]"
      ]
     },
     "metadata": {},
     "output_type": "display_data"
    },
    {
     "data": {
      "application/vnd.jupyter.widget-view+json": {
       "model_id": "fbb985e850d64a808a69c859d3bcee3c",
       "version_major": 2,
       "version_minor": 0
      },
      "text/plain": [
       "Downloading Episode: 39:   0%|          | 0/151 [00:00<?, ?image/s]"
      ]
     },
     "metadata": {},
     "output_type": "display_data"
    },
    {
     "data": {
      "application/vnd.jupyter.widget-view+json": {
       "model_id": "521266d20d614e34b50d4dba2c015793",
       "version_major": 2,
       "version_minor": 0
      },
      "text/plain": [
       "Downloading Episode: 40:   0%|          | 0/145 [00:00<?, ?image/s]"
      ]
     },
     "metadata": {},
     "output_type": "display_data"
    },
    {
     "data": {
      "application/vnd.jupyter.widget-view+json": {
       "model_id": "38cef6c2028a4c60a3eb95d0082073b4",
       "version_major": 2,
       "version_minor": 0
      },
      "text/plain": [
       "Downloading Episode: 41:   0%|          | 0/127 [00:00<?, ?image/s]"
      ]
     },
     "metadata": {},
     "output_type": "display_data"
    },
    {
     "data": {
      "application/vnd.jupyter.widget-view+json": {
       "model_id": "fcde365bf7ba4eb299a2ca32ee2939eb",
       "version_major": 2,
       "version_minor": 0
      },
      "text/plain": [
       "Downloading Episode: 42:   0%|          | 0/143 [00:00<?, ?image/s]"
      ]
     },
     "metadata": {},
     "output_type": "display_data"
    },
    {
     "data": {
      "application/vnd.jupyter.widget-view+json": {
       "model_id": "af1bea9046d44bd29137ab72955f010e",
       "version_major": 2,
       "version_minor": 0
      },
      "text/plain": [
       "Downloading Episode: 43:   0%|          | 0/170 [00:00<?, ?image/s]"
      ]
     },
     "metadata": {},
     "output_type": "display_data"
    },
    {
     "data": {
      "application/vnd.jupyter.widget-view+json": {
       "model_id": "c612c48508d044649473543abfb29a43",
       "version_major": 2,
       "version_minor": 0
      },
      "text/plain": [
       "Downloading Episode: 44:   0%|          | 0/153 [00:00<?, ?image/s]"
      ]
     },
     "metadata": {},
     "output_type": "display_data"
    },
    {
     "data": {
      "application/vnd.jupyter.widget-view+json": {
       "model_id": "64bf47e623e74ee7bcf205a9d2c41628",
       "version_major": 2,
       "version_minor": 0
      },
      "text/plain": [
       "Downloading Episode: 45:   0%|          | 0/150 [00:00<?, ?image/s]"
      ]
     },
     "metadata": {},
     "output_type": "display_data"
    },
    {
     "data": {
      "application/vnd.jupyter.widget-view+json": {
       "model_id": "1a73b3a9543647b79d9e6030157514c9",
       "version_major": 2,
       "version_minor": 0
      },
      "text/plain": [
       "Downloading Episode: 46:   0%|          | 0/141 [00:00<?, ?image/s]"
      ]
     },
     "metadata": {},
     "output_type": "display_data"
    },
    {
     "data": {
      "application/vnd.jupyter.widget-view+json": {
       "model_id": "8437e92dc6a84f3cbf7268488fe5adfe",
       "version_major": 2,
       "version_minor": 0
      },
      "text/plain": [
       "Downloading Episode: 47:   0%|          | 0/131 [00:00<?, ?image/s]"
      ]
     },
     "metadata": {},
     "output_type": "display_data"
    },
    {
     "data": {
      "application/vnd.jupyter.widget-view+json": {
       "model_id": "89feb27c3edb4fec9eaac479decb89a1",
       "version_major": 2,
       "version_minor": 0
      },
      "text/plain": [
       "Downloading Episode: 48:   0%|          | 0/156 [00:00<?, ?image/s]"
      ]
     },
     "metadata": {},
     "output_type": "display_data"
    },
    {
     "data": {
      "application/vnd.jupyter.widget-view+json": {
       "model_id": "26e763c240b6445a87940777e561f1b9",
       "version_major": 2,
       "version_minor": 0
      },
      "text/plain": [
       "Downloading Episode: 49:   0%|          | 0/146 [00:00<?, ?image/s]"
      ]
     },
     "metadata": {},
     "output_type": "display_data"
    },
    {
     "data": {
      "application/vnd.jupyter.widget-view+json": {
       "model_id": "adda1c50c7d84e0a8355469f1c36455b",
       "version_major": 2,
       "version_minor": 0
      },
      "text/plain": [
       "Downloading Episode: 50:   0%|          | 0/134 [00:00<?, ?image/s]"
      ]
     },
     "metadata": {},
     "output_type": "display_data"
    },
    {
     "data": {
      "application/vnd.jupyter.widget-view+json": {
       "model_id": "ea8b4eeaee6d456cb2f6deab8a2b28fe",
       "version_major": 2,
       "version_minor": 0
      },
      "text/plain": [
       "Downloading Episode: 51:   0%|          | 0/148 [00:00<?, ?image/s]"
      ]
     },
     "metadata": {},
     "output_type": "display_data"
    },
    {
     "data": {
      "application/vnd.jupyter.widget-view+json": {
       "model_id": "1cb991a43f184c54ab0dc54471d8e6d1",
       "version_major": 2,
       "version_minor": 0
      },
      "text/plain": [
       "Downloading Episode: 52:   0%|          | 0/143 [00:00<?, ?image/s]"
      ]
     },
     "metadata": {},
     "output_type": "display_data"
    },
    {
     "data": {
      "application/vnd.jupyter.widget-view+json": {
       "model_id": "9aba1c7cc15b43f9b7a5086d0d9e1113",
       "version_major": 2,
       "version_minor": 0
      },
      "text/plain": [
       "Downloading Episode: 53:   0%|          | 0/144 [00:00<?, ?image/s]"
      ]
     },
     "metadata": {},
     "output_type": "display_data"
    },
    {
     "data": {
      "application/vnd.jupyter.widget-view+json": {
       "model_id": "89fd9fad6e1249b694102e94183ffbc7",
       "version_major": 2,
       "version_minor": 0
      },
      "text/plain": [
       "Downloading Episode: 54:   0%|          | 0/162 [00:00<?, ?image/s]"
      ]
     },
     "metadata": {},
     "output_type": "display_data"
    },
    {
     "data": {
      "application/vnd.jupyter.widget-view+json": {
       "model_id": "6ec6997b38ca4884bfa08cad84d75fef",
       "version_major": 2,
       "version_minor": 0
      },
      "text/plain": [
       "Downloading Episode: 55:   0%|          | 0/163 [00:00<?, ?image/s]"
      ]
     },
     "metadata": {},
     "output_type": "display_data"
    },
    {
     "data": {
      "application/vnd.jupyter.widget-view+json": {
       "model_id": "71e6d07ba4734c0eae2c4cb9e4d9f436",
       "version_major": 2,
       "version_minor": 0
      },
      "text/plain": [
       "Downloading Episode: 56:   0%|          | 0/153 [00:00<?, ?image/s]"
      ]
     },
     "metadata": {},
     "output_type": "display_data"
    },
    {
     "data": {
      "application/vnd.jupyter.widget-view+json": {
       "model_id": "617cb2f16b354d9db2eaafb7a3ea3b42",
       "version_major": 2,
       "version_minor": 0
      },
      "text/plain": [
       "Downloading Episode: 57:   0%|          | 0/141 [00:00<?, ?image/s]"
      ]
     },
     "metadata": {},
     "output_type": "display_data"
    },
    {
     "data": {
      "application/vnd.jupyter.widget-view+json": {
       "model_id": "f13b215188a447f48111ad5359c4944d",
       "version_major": 2,
       "version_minor": 0
      },
      "text/plain": [
       "Downloading Episode: 58:   0%|          | 0/129 [00:00<?, ?image/s]"
      ]
     },
     "metadata": {},
     "output_type": "display_data"
    },
    {
     "data": {
      "application/vnd.jupyter.widget-view+json": {
       "model_id": "bc4064f58f5146baa676ea32937e05f8",
       "version_major": 2,
       "version_minor": 0
      },
      "text/plain": [
       "Downloading Episode: 59:   0%|          | 0/153 [00:00<?, ?image/s]"
      ]
     },
     "metadata": {},
     "output_type": "display_data"
    },
    {
     "data": {
      "application/vnd.jupyter.widget-view+json": {
       "model_id": "5d0441ab7c6e467c9b4e14f017d30876",
       "version_major": 2,
       "version_minor": 0
      },
      "text/plain": [
       "Downloading Episode: 60:   0%|          | 0/141 [00:00<?, ?image/s]"
      ]
     },
     "metadata": {},
     "output_type": "display_data"
    },
    {
     "data": {
      "application/vnd.jupyter.widget-view+json": {
       "model_id": "d76ef06f74084f5b94e383cfd9846ccf",
       "version_major": 2,
       "version_minor": 0
      },
      "text/plain": [
       "Downloading Episode: 61:   0%|          | 0/151 [00:00<?, ?image/s]"
      ]
     },
     "metadata": {},
     "output_type": "display_data"
    },
    {
     "data": {
      "application/vnd.jupyter.widget-view+json": {
       "model_id": "330f9278d7c14f55a64da5280f299b01",
       "version_major": 2,
       "version_minor": 0
      },
      "text/plain": [
       "Downloading Episode: 62:   0%|          | 0/146 [00:00<?, ?image/s]"
      ]
     },
     "metadata": {},
     "output_type": "display_data"
    },
    {
     "data": {
      "application/vnd.jupyter.widget-view+json": {
       "model_id": "f504374098214fecb1a7f26cd92b3c4f",
       "version_major": 2,
       "version_minor": 0
      },
      "text/plain": [
       "Downloading Episode: 63:   0%|          | 0/172 [00:00<?, ?image/s]"
      ]
     },
     "metadata": {},
     "output_type": "display_data"
    },
    {
     "data": {
      "application/vnd.jupyter.widget-view+json": {
       "model_id": "742cc0b001f44927a8d164685b066627",
       "version_major": 2,
       "version_minor": 0
      },
      "text/plain": [
       "Downloading Episode: 64:   0%|          | 0/162 [00:00<?, ?image/s]"
      ]
     },
     "metadata": {},
     "output_type": "display_data"
    },
    {
     "data": {
      "application/vnd.jupyter.widget-view+json": {
       "model_id": "f8c9e105cdd0492b96f25fe0982533bb",
       "version_major": 2,
       "version_minor": 0
      },
      "text/plain": [
       "Downloading Episode: 65:   0%|          | 0/173 [00:00<?, ?image/s]"
      ]
     },
     "metadata": {},
     "output_type": "display_data"
    },
    {
     "data": {
      "application/vnd.jupyter.widget-view+json": {
       "model_id": "3e4e22256f1a421890adc10abd81554f",
       "version_major": 2,
       "version_minor": 0
      },
      "text/plain": [
       "Downloading Episode: 66:   0%|          | 0/165 [00:00<?, ?image/s]"
      ]
     },
     "metadata": {},
     "output_type": "display_data"
    },
    {
     "data": {
      "application/vnd.jupyter.widget-view+json": {
       "model_id": "ffb5553d6b624d1dbe88979aa9c98892",
       "version_major": 2,
       "version_minor": 0
      },
      "text/plain": [
       "Downloading Episode: 67:   0%|          | 0/121 [00:00<?, ?image/s]"
      ]
     },
     "metadata": {},
     "output_type": "display_data"
    },
    {
     "data": {
      "application/vnd.jupyter.widget-view+json": {
       "model_id": "2a30e8781472446795a6e6103c39a15d",
       "version_major": 2,
       "version_minor": 0
      },
      "text/plain": [
       "Downloading Episode: 68:   0%|          | 0/180 [00:00<?, ?image/s]"
      ]
     },
     "metadata": {},
     "output_type": "display_data"
    },
    {
     "data": {
      "application/vnd.jupyter.widget-view+json": {
       "model_id": "7c519bbbfaa440dba83a2147cc291e21",
       "version_major": 2,
       "version_minor": 0
      },
      "text/plain": [
       "Downloading Episode: 69:   0%|          | 0/131 [00:00<?, ?image/s]"
      ]
     },
     "metadata": {},
     "output_type": "display_data"
    },
    {
     "data": {
      "application/vnd.jupyter.widget-view+json": {
       "model_id": "e0c6c256a3e54d218ad91ef41d0a69ef",
       "version_major": 2,
       "version_minor": 0
      },
      "text/plain": [
       "Downloading Episode: 70:   0%|          | 0/174 [00:00<?, ?image/s]"
      ]
     },
     "metadata": {},
     "output_type": "display_data"
    },
    {
     "data": {
      "application/vnd.jupyter.widget-view+json": {
       "model_id": "bb40dfdabdba44a6b005c25a68b717a6",
       "version_major": 2,
       "version_minor": 0
      },
      "text/plain": [
       "Downloading Episode: 71:   0%|          | 0/89 [00:00<?, ?image/s]"
      ]
     },
     "metadata": {},
     "output_type": "display_data"
    },
    {
     "data": {
      "application/vnd.jupyter.widget-view+json": {
       "model_id": "186529c90cc84b1792840e9defcb275c",
       "version_major": 2,
       "version_minor": 0
      },
      "text/plain": [
       "Downloading Episode: 72:   0%|          | 0/130 [00:00<?, ?image/s]"
      ]
     },
     "metadata": {},
     "output_type": "display_data"
    },
    {
     "data": {
      "application/vnd.jupyter.widget-view+json": {
       "model_id": "0e45c573ad1f4148928e225648feaef1",
       "version_major": 2,
       "version_minor": 0
      },
      "text/plain": [
       "Downloading Episode: 73:   0%|          | 0/161 [00:00<?, ?image/s]"
      ]
     },
     "metadata": {},
     "output_type": "display_data"
    },
    {
     "data": {
      "application/vnd.jupyter.widget-view+json": {
       "model_id": "6b86b484245440d084afac46e8b54834",
       "version_major": 2,
       "version_minor": 0
      },
      "text/plain": [
       "Downloading Episode: 74:   0%|          | 0/135 [00:00<?, ?image/s]"
      ]
     },
     "metadata": {},
     "output_type": "display_data"
    },
    {
     "data": {
      "application/vnd.jupyter.widget-view+json": {
       "model_id": "50514c3336d248bf8d96d7f8a7397f87",
       "version_major": 2,
       "version_minor": 0
      },
      "text/plain": [
       "Downloading Episode: 75:   0%|          | 0/147 [00:00<?, ?image/s]"
      ]
     },
     "metadata": {},
     "output_type": "display_data"
    },
    {
     "data": {
      "application/vnd.jupyter.widget-view+json": {
       "model_id": "3560f102c82a4b38ade1bff5445f7ba8",
       "version_major": 2,
       "version_minor": 0
      },
      "text/plain": [
       "Downloading Episode: 76:   0%|          | 0/158 [00:00<?, ?image/s]"
      ]
     },
     "metadata": {},
     "output_type": "display_data"
    },
    {
     "data": {
      "application/vnd.jupyter.widget-view+json": {
       "model_id": "9e54a363fe4d428b8f181f8d9e1cb73c",
       "version_major": 2,
       "version_minor": 0
      },
      "text/plain": [
       "Downloading Episode: 77:   0%|          | 0/135 [00:00<?, ?image/s]"
      ]
     },
     "metadata": {},
     "output_type": "display_data"
    },
    {
     "data": {
      "application/vnd.jupyter.widget-view+json": {
       "model_id": "cb0f51f7a0534d0eb946485216db8c19",
       "version_major": 2,
       "version_minor": 0
      },
      "text/plain": [
       "Downloading Episode: 78:   0%|          | 0/144 [00:00<?, ?image/s]"
      ]
     },
     "metadata": {},
     "output_type": "display_data"
    },
    {
     "data": {
      "application/vnd.jupyter.widget-view+json": {
       "model_id": "3d5e73ade29d41d2b1cf1f8e46757ca5",
       "version_major": 2,
       "version_minor": 0
      },
      "text/plain": [
       "Downloading Episode: 79:   0%|          | 0/166 [00:00<?, ?image/s]"
      ]
     },
     "metadata": {},
     "output_type": "display_data"
    },
    {
     "data": {
      "application/vnd.jupyter.widget-view+json": {
       "model_id": "c1bf8e6400cd497c9723b099115c67f2",
       "version_major": 2,
       "version_minor": 0
      },
      "text/plain": [
       "Downloading Episode: 80:   0%|          | 0/153 [00:00<?, ?image/s]"
      ]
     },
     "metadata": {},
     "output_type": "display_data"
    },
    {
     "data": {
      "application/vnd.jupyter.widget-view+json": {
       "model_id": "031bff67a75547d285aa4796648f89d2",
       "version_major": 2,
       "version_minor": 0
      },
      "text/plain": [
       "Downloading Episode: 81:   0%|          | 0/165 [00:00<?, ?image/s]"
      ]
     },
     "metadata": {},
     "output_type": "display_data"
    },
    {
     "data": {
      "application/vnd.jupyter.widget-view+json": {
       "model_id": "c9dd78e49b4346168af9bf813547975d",
       "version_major": 2,
       "version_minor": 0
      },
      "text/plain": [
       "Downloading Episode: 82:   0%|          | 0/152 [00:00<?, ?image/s]"
      ]
     },
     "metadata": {},
     "output_type": "display_data"
    },
    {
     "data": {
      "application/vnd.jupyter.widget-view+json": {
       "model_id": "27f62bd7d2f74d29a35977f396163d93",
       "version_major": 2,
       "version_minor": 0
      },
      "text/plain": [
       "Downloading Episode: 83:   0%|          | 0/157 [00:00<?, ?image/s]"
      ]
     },
     "metadata": {},
     "output_type": "display_data"
    },
    {
     "data": {
      "application/vnd.jupyter.widget-view+json": {
       "model_id": "73d119169f0d41f6bde7942a49e6e0e7",
       "version_major": 2,
       "version_minor": 0
      },
      "text/plain": [
       "Downloading Episode: 84:   0%|          | 0/149 [00:00<?, ?image/s]"
      ]
     },
     "metadata": {},
     "output_type": "display_data"
    },
    {
     "data": {
      "application/vnd.jupyter.widget-view+json": {
       "model_id": "c79b996a79974279b73fb59987b9e198",
       "version_major": 2,
       "version_minor": 0
      },
      "text/plain": [
       "Downloading Episode: 85:   0%|          | 0/157 [00:00<?, ?image/s]"
      ]
     },
     "metadata": {},
     "output_type": "display_data"
    },
    {
     "data": {
      "application/vnd.jupyter.widget-view+json": {
       "model_id": "9fdd20f8f06b425d8739a5fb5496196e",
       "version_major": 2,
       "version_minor": 0
      },
      "text/plain": [
       "Downloading Episode: 86:   0%|          | 0/157 [00:00<?, ?image/s]"
      ]
     },
     "metadata": {},
     "output_type": "display_data"
    },
    {
     "data": {
      "application/vnd.jupyter.widget-view+json": {
       "model_id": "552e3cc9a172407994adc7ae1c2d7518",
       "version_major": 2,
       "version_minor": 0
      },
      "text/plain": [
       "Downloading Episode: 87:   0%|          | 0/151 [00:00<?, ?image/s]"
      ]
     },
     "metadata": {},
     "output_type": "display_data"
    },
    {
     "data": {
      "application/vnd.jupyter.widget-view+json": {
       "model_id": "32da305fd51f40c78c5ddd6fe8fad0be",
       "version_major": 2,
       "version_minor": 0
      },
      "text/plain": [
       "Downloading Episode: 88:   0%|          | 0/172 [00:00<?, ?image/s]"
      ]
     },
     "metadata": {},
     "output_type": "display_data"
    },
    {
     "data": {
      "application/vnd.jupyter.widget-view+json": {
       "model_id": "fa3663885d5649838939e0064dade6ff",
       "version_major": 2,
       "version_minor": 0
      },
      "text/plain": [
       "Downloading Episode: 89:   0%|          | 0/143 [00:00<?, ?image/s]"
      ]
     },
     "metadata": {},
     "output_type": "display_data"
    },
    {
     "data": {
      "application/vnd.jupyter.widget-view+json": {
       "model_id": "d2839fa3b3da46209c51c586413228c4",
       "version_major": 2,
       "version_minor": 0
      },
      "text/plain": [
       "Downloading Episode: 90:   0%|          | 0/121 [00:00<?, ?image/s]"
      ]
     },
     "metadata": {},
     "output_type": "display_data"
    },
    {
     "data": {
      "application/vnd.jupyter.widget-view+json": {
       "model_id": "35087948dfe54f67a569bd3f8e1c02f4",
       "version_major": 2,
       "version_minor": 0
      },
      "text/plain": [
       "Downloading Episode: 91:   0%|          | 0/95 [00:00<?, ?image/s]"
      ]
     },
     "metadata": {},
     "output_type": "display_data"
    },
    {
     "data": {
      "application/vnd.jupyter.widget-view+json": {
       "model_id": "7a1d32f11fc24427bcb711a50d24186b",
       "version_major": 2,
       "version_minor": 0
      },
      "text/plain": [
       "Downloading Episode: 92:   0%|          | 0/148 [00:00<?, ?image/s]"
      ]
     },
     "metadata": {},
     "output_type": "display_data"
    },
    {
     "data": {
      "application/vnd.jupyter.widget-view+json": {
       "model_id": "7dac6c62f2844d0fb4ac92dab08b24a0",
       "version_major": 2,
       "version_minor": 0
      },
      "text/plain": [
       "Downloading Episode: 93:   0%|          | 0/168 [00:00<?, ?image/s]"
      ]
     },
     "metadata": {},
     "output_type": "display_data"
    },
    {
     "data": {
      "application/vnd.jupyter.widget-view+json": {
       "model_id": "dce9008ac3c4462c99a4f8007e2f8904",
       "version_major": 2,
       "version_minor": 0
      },
      "text/plain": [
       "Downloading Episode: 94:   0%|          | 0/122 [00:00<?, ?image/s]"
      ]
     },
     "metadata": {},
     "output_type": "display_data"
    },
    {
     "data": {
      "application/vnd.jupyter.widget-view+json": {
       "model_id": "a7d447a980774046a3bdb708a13b5199",
       "version_major": 2,
       "version_minor": 0
      },
      "text/plain": [
       "Downloading Episode: 95:   0%|          | 0/145 [00:00<?, ?image/s]"
      ]
     },
     "metadata": {},
     "output_type": "display_data"
    },
    {
     "data": {
      "application/vnd.jupyter.widget-view+json": {
       "model_id": "7ed785adc59a4a39ad085907dd6206d7",
       "version_major": 2,
       "version_minor": 0
      },
      "text/plain": [
       "Downloading Episode: 96:   0%|          | 0/130 [00:00<?, ?image/s]"
      ]
     },
     "metadata": {},
     "output_type": "display_data"
    },
    {
     "data": {
      "application/vnd.jupyter.widget-view+json": {
       "model_id": "d04744ffd7d04978bdf5f9f5db0c7531",
       "version_major": 2,
       "version_minor": 0
      },
      "text/plain": [
       "Downloading Episode: 97:   0%|          | 0/137 [00:00<?, ?image/s]"
      ]
     },
     "metadata": {},
     "output_type": "display_data"
    },
    {
     "data": {
      "application/vnd.jupyter.widget-view+json": {
       "model_id": "93785c7003c54667b5ed73209fbd9784",
       "version_major": 2,
       "version_minor": 0
      },
      "text/plain": [
       "Downloading Episode: 98:   0%|          | 0/125 [00:00<?, ?image/s]"
      ]
     },
     "metadata": {},
     "output_type": "display_data"
    },
    {
     "data": {
      "application/vnd.jupyter.widget-view+json": {
       "model_id": "0db9553203e243c597a3a23d135fd159",
       "version_major": 2,
       "version_minor": 0
      },
      "text/plain": [
       "Downloading Episode: 99:   0%|          | 0/112 [00:00<?, ?image/s]"
      ]
     },
     "metadata": {},
     "output_type": "display_data"
    },
    {
     "data": {
      "application/vnd.jupyter.widget-view+json": {
       "model_id": "ccb16faa25ff431fbbb862bb4a65c94f",
       "version_major": 2,
       "version_minor": 0
      },
      "text/plain": [
       "Downloading Episode: 100:   0%|          | 0/127 [00:00<?, ?image/s]"
      ]
     },
     "metadata": {},
     "output_type": "display_data"
    },
    {
     "data": {
      "application/vnd.jupyter.widget-view+json": {
       "model_id": "800d65207ad04a11a82974d2e9a7fd88",
       "version_major": 2,
       "version_minor": 0
      },
      "text/plain": [
       "Downloading Episode: 101:   0%|          | 0/131 [00:00<?, ?image/s]"
      ]
     },
     "metadata": {},
     "output_type": "display_data"
    },
    {
     "data": {
      "application/vnd.jupyter.widget-view+json": {
       "model_id": "c9180dddb31245e6b6d43356d4f64b07",
       "version_major": 2,
       "version_minor": 0
      },
      "text/plain": [
       "Downloading Episode: 102:   0%|          | 0/191 [00:00<?, ?image/s]"
      ]
     },
     "metadata": {},
     "output_type": "display_data"
    },
    {
     "data": {
      "application/vnd.jupyter.widget-view+json": {
       "model_id": "6c7f0eb189df441db0f6d52f16ae304a",
       "version_major": 2,
       "version_minor": 0
      },
      "text/plain": [
       "Downloading Episode: 103:   0%|          | 0/100 [00:00<?, ?image/s]"
      ]
     },
     "metadata": {},
     "output_type": "display_data"
    },
    {
     "data": {
      "application/vnd.jupyter.widget-view+json": {
       "model_id": "13da4e541c2c4cafa0f405080ef6ebeb",
       "version_major": 2,
       "version_minor": 0
      },
      "text/plain": [
       "Downloading Episode: 104:   0%|          | 0/108 [00:00<?, ?image/s]"
      ]
     },
     "metadata": {},
     "output_type": "display_data"
    },
    {
     "data": {
      "application/vnd.jupyter.widget-view+json": {
       "model_id": "7b7f29e7bc684a9bb06e66bd1f41178c",
       "version_major": 2,
       "version_minor": 0
      },
      "text/plain": [
       "Downloading Episode: 105:   0%|          | 0/119 [00:00<?, ?image/s]"
      ]
     },
     "metadata": {},
     "output_type": "display_data"
    },
    {
     "data": {
      "application/vnd.jupyter.widget-view+json": {
       "model_id": "3ae6b18d90ea4e48a6320f963a47724d",
       "version_major": 2,
       "version_minor": 0
      },
      "text/plain": [
       "Downloading Episode: 106:   0%|          | 0/101 [00:00<?, ?image/s]"
      ]
     },
     "metadata": {},
     "output_type": "display_data"
    },
    {
     "data": {
      "application/vnd.jupyter.widget-view+json": {
       "model_id": "8b867bc1a19a40b4a8caa91ed2c19ef1",
       "version_major": 2,
       "version_minor": 0
      },
      "text/plain": [
       "Downloading Episode: 107:   0%|          | 0/90 [00:00<?, ?image/s]"
      ]
     },
     "metadata": {},
     "output_type": "display_data"
    },
    {
     "data": {
      "application/vnd.jupyter.widget-view+json": {
       "model_id": "6f2bd329d9af4eae8fc9a56b84083023",
       "version_major": 2,
       "version_minor": 0
      },
      "text/plain": [
       "Downloading Episode: 108:   0%|          | 0/88 [00:00<?, ?image/s]"
      ]
     },
     "metadata": {},
     "output_type": "display_data"
    },
    {
     "data": {
      "application/vnd.jupyter.widget-view+json": {
       "model_id": "0c6bbe3d749d41efb178815a6c719b96",
       "version_major": 2,
       "version_minor": 0
      },
      "text/plain": [
       "Downloading Episode: 109:   0%|          | 0/98 [00:00<?, ?image/s]"
      ]
     },
     "metadata": {},
     "output_type": "display_data"
    },
    {
     "data": {
      "application/vnd.jupyter.widget-view+json": {
       "model_id": "1f860df5f0da44fdb53b93fc42361015",
       "version_major": 2,
       "version_minor": 0
      },
      "text/plain": [
       "Downloading Episode: 110:   0%|          | 0/87 [00:00<?, ?image/s]"
      ]
     },
     "metadata": {},
     "output_type": "display_data"
    },
    {
     "data": {
      "application/vnd.jupyter.widget-view+json": {
       "model_id": "7250bc268cca4569b2b871151227f9c7",
       "version_major": 2,
       "version_minor": 0
      },
      "text/plain": [
       "Downloading Episode: 111:   0%|          | 0/87 [00:00<?, ?image/s]"
      ]
     },
     "metadata": {},
     "output_type": "display_data"
    },
    {
     "data": {
      "application/vnd.jupyter.widget-view+json": {
       "model_id": "19c7b9a74c6e4466adea1b0643972127",
       "version_major": 2,
       "version_minor": 0
      },
      "text/plain": [
       "Downloading Episode: 112:   0%|          | 0/110 [00:00<?, ?image/s]"
      ]
     },
     "metadata": {},
     "output_type": "display_data"
    },
    {
     "data": {
      "application/vnd.jupyter.widget-view+json": {
       "model_id": "d3d35da46ca0480bb17b1a3ab8f5b51b",
       "version_major": 2,
       "version_minor": 0
      },
      "text/plain": [
       "Downloading Episode: 113:   0%|          | 0/102 [00:00<?, ?image/s]"
      ]
     },
     "metadata": {},
     "output_type": "display_data"
    },
    {
     "data": {
      "application/vnd.jupyter.widget-view+json": {
       "model_id": "1b68a930371644ef8043701e936197a1",
       "version_major": 2,
       "version_minor": 0
      },
      "text/plain": [
       "Downloading Episode: 114:   0%|          | 0/97 [00:00<?, ?image/s]"
      ]
     },
     "metadata": {},
     "output_type": "display_data"
    },
    {
     "data": {
      "application/vnd.jupyter.widget-view+json": {
       "model_id": "4b6a66650bb74d22be53709b684eb0e6",
       "version_major": 2,
       "version_minor": 0
      },
      "text/plain": [
       "Downloading Episode: 115:   0%|          | 0/85 [00:00<?, ?image/s]"
      ]
     },
     "metadata": {},
     "output_type": "display_data"
    },
    {
     "data": {
      "application/vnd.jupyter.widget-view+json": {
       "model_id": "7df4e7b432284e03ae8c288d88de1acf",
       "version_major": 2,
       "version_minor": 0
      },
      "text/plain": [
       "Downloading Episode: 116:   0%|          | 0/124 [00:00<?, ?image/s]"
      ]
     },
     "metadata": {},
     "output_type": "display_data"
    },
    {
     "data": {
      "application/vnd.jupyter.widget-view+json": {
       "model_id": "a1647b76364443bfaa821e182a4b6faf",
       "version_major": 2,
       "version_minor": 0
      },
      "text/plain": [
       "Downloading Episode: 117:   0%|          | 0/137 [00:00<?, ?image/s]"
      ]
     },
     "metadata": {},
     "output_type": "display_data"
    },
    {
     "data": {
      "application/vnd.jupyter.widget-view+json": {
       "model_id": "95509fc34352469fa147e6e85da722b5",
       "version_major": 2,
       "version_minor": 0
      },
      "text/plain": [
       "Downloading Episode: 118:   0%|          | 0/90 [00:00<?, ?image/s]"
      ]
     },
     "metadata": {},
     "output_type": "display_data"
    },
    {
     "data": {
      "application/vnd.jupyter.widget-view+json": {
       "model_id": "ab53624b27f84b35b1c90df8c2ecd5b2",
       "version_major": 2,
       "version_minor": 0
      },
      "text/plain": [
       "Downloading Episode: 119:   0%|          | 0/115 [00:00<?, ?image/s]"
      ]
     },
     "metadata": {},
     "output_type": "display_data"
    },
    {
     "data": {
      "application/vnd.jupyter.widget-view+json": {
       "model_id": "ef039bff3aaf46f28a69de33465ad804",
       "version_major": 2,
       "version_minor": 0
      },
      "text/plain": [
       "Downloading Episode: 120:   0%|          | 0/92 [00:00<?, ?image/s]"
      ]
     },
     "metadata": {},
     "output_type": "display_data"
    },
    {
     "data": {
      "application/vnd.jupyter.widget-view+json": {
       "model_id": "a3b618ae5b0145d886f02dc4bd624c36",
       "version_major": 2,
       "version_minor": 0
      },
      "text/plain": [
       "Downloading Episode: 121:   0%|          | 0/99 [00:00<?, ?image/s]"
      ]
     },
     "metadata": {},
     "output_type": "display_data"
    },
    {
     "data": {
      "application/vnd.jupyter.widget-view+json": {
       "model_id": "16df3eee51b840498f77b2798935c7ce",
       "version_major": 2,
       "version_minor": 0
      },
      "text/plain": [
       "Downloading Episode: 122:   0%|          | 0/106 [00:00<?, ?image/s]"
      ]
     },
     "metadata": {},
     "output_type": "display_data"
    },
    {
     "data": {
      "application/vnd.jupyter.widget-view+json": {
       "model_id": "0508bf11aecc46f5b61f750f42693a19",
       "version_major": 2,
       "version_minor": 0
      },
      "text/plain": [
       "Downloading Episode: 123:   0%|          | 0/89 [00:00<?, ?image/s]"
      ]
     },
     "metadata": {},
     "output_type": "display_data"
    },
    {
     "data": {
      "application/vnd.jupyter.widget-view+json": {
       "model_id": "3f642536433a4885b40c5cd13f9fca3e",
       "version_major": 2,
       "version_minor": 0
      },
      "text/plain": [
       "Downloading Episode: 124:   0%|          | 0/111 [00:00<?, ?image/s]"
      ]
     },
     "metadata": {},
     "output_type": "display_data"
    },
    {
     "data": {
      "application/vnd.jupyter.widget-view+json": {
       "model_id": "f30451c857de4e529057a091e10438f4",
       "version_major": 2,
       "version_minor": 0
      },
      "text/plain": [
       "Downloading Episode: 125:   0%|          | 0/116 [00:00<?, ?image/s]"
      ]
     },
     "metadata": {},
     "output_type": "display_data"
    },
    {
     "data": {
      "application/vnd.jupyter.widget-view+json": {
       "model_id": "d11699f00b754e77865a90b2b0ecb331",
       "version_major": 2,
       "version_minor": 0
      },
      "text/plain": [
       "Downloading Episode: 126:   0%|          | 0/110 [00:00<?, ?image/s]"
      ]
     },
     "metadata": {},
     "output_type": "display_data"
    },
    {
     "data": {
      "application/vnd.jupyter.widget-view+json": {
       "model_id": "c0d75ca77cbd4930a3672f7cc2efd769",
       "version_major": 2,
       "version_minor": 0
      },
      "text/plain": [
       "Downloading Episode: 127:   0%|          | 0/115 [00:00<?, ?image/s]"
      ]
     },
     "metadata": {},
     "output_type": "display_data"
    },
    {
     "data": {
      "application/vnd.jupyter.widget-view+json": {
       "model_id": "37a99b31a3394fe78e8c06752300216e",
       "version_major": 2,
       "version_minor": 0
      },
      "text/plain": [
       "Downloading Episode: 128:   0%|          | 0/128 [00:00<?, ?image/s]"
      ]
     },
     "metadata": {},
     "output_type": "display_data"
    },
    {
     "data": {
      "application/vnd.jupyter.widget-view+json": {
       "model_id": "ae817f04909642f4b38b6ec90a6beda9",
       "version_major": 2,
       "version_minor": 0
      },
      "text/plain": [
       "Downloading Episode: 129:   0%|          | 0/118 [00:00<?, ?image/s]"
      ]
     },
     "metadata": {},
     "output_type": "display_data"
    },
    {
     "data": {
      "application/vnd.jupyter.widget-view+json": {
       "model_id": "8e7c5c6673324da6a0d64f371188b66e",
       "version_major": 2,
       "version_minor": 0
      },
      "text/plain": [
       "Downloading Episode: 130:   0%|          | 0/153 [00:00<?, ?image/s]"
      ]
     },
     "metadata": {},
     "output_type": "display_data"
    },
    {
     "data": {
      "application/vnd.jupyter.widget-view+json": {
       "model_id": "9cf535ce1ff84e839d9422d20e7672e5",
       "version_major": 2,
       "version_minor": 0
      },
      "text/plain": [
       "Downloading Episode: 131:   0%|          | 0/121 [00:00<?, ?image/s]"
      ]
     },
     "metadata": {},
     "output_type": "display_data"
    },
    {
     "data": {
      "application/vnd.jupyter.widget-view+json": {
       "model_id": "72b97063afe94dd2964b0c8c3ea3f820",
       "version_major": 2,
       "version_minor": 0
      },
      "text/plain": [
       "Downloading Episode: 132:   0%|          | 0/137 [00:00<?, ?image/s]"
      ]
     },
     "metadata": {},
     "output_type": "display_data"
    },
    {
     "data": {
      "application/vnd.jupyter.widget-view+json": {
       "model_id": "3459e00fc4d14b73a1f0551d23cffb29",
       "version_major": 2,
       "version_minor": 0
      },
      "text/plain": [
       "Downloading Episode: 133:   0%|          | 0/121 [00:00<?, ?image/s]"
      ]
     },
     "metadata": {},
     "output_type": "display_data"
    },
    {
     "data": {
      "application/vnd.jupyter.widget-view+json": {
       "model_id": "8a0734bda8c04afda37b3092a7f4517b",
       "version_major": 2,
       "version_minor": 0
      },
      "text/plain": [
       "Downloading Episode: 134:   0%|          | 0/116 [00:00<?, ?image/s]"
      ]
     },
     "metadata": {},
     "output_type": "display_data"
    },
    {
     "data": {
      "application/vnd.jupyter.widget-view+json": {
       "model_id": "5e6cccb416864a419bc61a88e9647985",
       "version_major": 2,
       "version_minor": 0
      },
      "text/plain": [
       "Downloading Episode: 135:   0%|          | 0/147 [00:00<?, ?image/s]"
      ]
     },
     "metadata": {},
     "output_type": "display_data"
    },
    {
     "data": {
      "application/vnd.jupyter.widget-view+json": {
       "model_id": "4ee06615f6cd45a292b22dd277beee82",
       "version_major": 2,
       "version_minor": 0
      },
      "text/plain": [
       "Downloading Episode: 136:   0%|          | 0/141 [00:00<?, ?image/s]"
      ]
     },
     "metadata": {},
     "output_type": "display_data"
    },
    {
     "data": {
      "application/vnd.jupyter.widget-view+json": {
       "model_id": "dbcb4aa4da324f8798e16e3552d1ddba",
       "version_major": 2,
       "version_minor": 0
      },
      "text/plain": [
       "Downloading Episode: 137:   0%|          | 0/119 [00:00<?, ?image/s]"
      ]
     },
     "metadata": {},
     "output_type": "display_data"
    },
    {
     "data": {
      "application/vnd.jupyter.widget-view+json": {
       "model_id": "6bb1c1ccb21f4c619b01dc3767eeeddf",
       "version_major": 2,
       "version_minor": 0
      },
      "text/plain": [
       "Downloading Episode: 138:   0%|          | 0/95 [00:00<?, ?image/s]"
      ]
     },
     "metadata": {},
     "output_type": "display_data"
    },
    {
     "data": {
      "application/vnd.jupyter.widget-view+json": {
       "model_id": "079983bec56b4f18b695cdddb90cd821",
       "version_major": 2,
       "version_minor": 0
      },
      "text/plain": [
       "Downloading Episode: 139:   0%|          | 0/121 [00:00<?, ?image/s]"
      ]
     },
     "metadata": {},
     "output_type": "display_data"
    },
    {
     "data": {
      "application/vnd.jupyter.widget-view+json": {
       "model_id": "91e6c78c760849faad381791310c4a08",
       "version_major": 2,
       "version_minor": 0
      },
      "text/plain": [
       "Downloading Episode: 140:   0%|          | 0/101 [00:00<?, ?image/s]"
      ]
     },
     "metadata": {},
     "output_type": "display_data"
    },
    {
     "data": {
      "application/vnd.jupyter.widget-view+json": {
       "model_id": "fc1999cb226243009c804c1d2f5fa371",
       "version_major": 2,
       "version_minor": 0
      },
      "text/plain": [
       "Downloading Episode: 141:   0%|          | 0/118 [00:00<?, ?image/s]"
      ]
     },
     "metadata": {},
     "output_type": "display_data"
    },
    {
     "data": {
      "application/vnd.jupyter.widget-view+json": {
       "model_id": "4fba7daa6fb243c28c2ad1d262796060",
       "version_major": 2,
       "version_minor": 0
      },
      "text/plain": [
       "Downloading Episode: 142:   0%|          | 0/116 [00:00<?, ?image/s]"
      ]
     },
     "metadata": {},
     "output_type": "display_data"
    },
    {
     "data": {
      "application/vnd.jupyter.widget-view+json": {
       "model_id": "9317094749b64cfab2735d5139c7b0f1",
       "version_major": 2,
       "version_minor": 0
      },
      "text/plain": [
       "Downloading Episode: 143:   0%|          | 0/120 [00:00<?, ?image/s]"
      ]
     },
     "metadata": {},
     "output_type": "display_data"
    },
    {
     "data": {
      "application/vnd.jupyter.widget-view+json": {
       "model_id": "d960cac2474548c88900ae7c24e1c72c",
       "version_major": 2,
       "version_minor": 0
      },
      "text/plain": [
       "Downloading Episode: 144:   0%|          | 0/95 [00:00<?, ?image/s]"
      ]
     },
     "metadata": {},
     "output_type": "display_data"
    },
    {
     "data": {
      "application/vnd.jupyter.widget-view+json": {
       "model_id": "788fec3ec09744ef8bdcdf2261b2dd1f",
       "version_major": 2,
       "version_minor": 0
      },
      "text/plain": [
       "Downloading Episode: 145:   0%|          | 0/100 [00:00<?, ?image/s]"
      ]
     },
     "metadata": {},
     "output_type": "display_data"
    },
    {
     "data": {
      "application/vnd.jupyter.widget-view+json": {
       "model_id": "38feb71038674988a9fd1f54035bb20d",
       "version_major": 2,
       "version_minor": 0
      },
      "text/plain": [
       "Downloading Episode: 146:   0%|          | 0/123 [00:00<?, ?image/s]"
      ]
     },
     "metadata": {},
     "output_type": "display_data"
    },
    {
     "data": {
      "application/vnd.jupyter.widget-view+json": {
       "model_id": "24ae9c0fd1d24198a25debb3c3c23765",
       "version_major": 2,
       "version_minor": 0
      },
      "text/plain": [
       "Downloading Episode: 147:   0%|          | 0/137 [00:00<?, ?image/s]"
      ]
     },
     "metadata": {},
     "output_type": "display_data"
    },
    {
     "data": {
      "application/vnd.jupyter.widget-view+json": {
       "model_id": "ef0b2f4f7d1c4b65a19ebb37cb92f767",
       "version_major": 2,
       "version_minor": 0
      },
      "text/plain": [
       "Downloading Episode: 148:   0%|          | 0/81 [00:00<?, ?image/s]"
      ]
     },
     "metadata": {},
     "output_type": "display_data"
    },
    {
     "data": {
      "application/vnd.jupyter.widget-view+json": {
       "model_id": "1cba16091b8c4dadaa3f17bb66434308",
       "version_major": 2,
       "version_minor": 0
      },
      "text/plain": [
       "Downloading Episode: 149:   0%|          | 0/97 [00:00<?, ?image/s]"
      ]
     },
     "metadata": {},
     "output_type": "display_data"
    },
    {
     "data": {
      "application/vnd.jupyter.widget-view+json": {
       "model_id": "b34f7ff23ccb469d8df894054db9f17b",
       "version_major": 2,
       "version_minor": 0
      },
      "text/plain": [
       "Downloading Episode: 150:   0%|          | 0/103 [00:00<?, ?image/s]"
      ]
     },
     "metadata": {},
     "output_type": "display_data"
    },
    {
     "data": {
      "application/vnd.jupyter.widget-view+json": {
       "model_id": "2d81bf0b7ca84911a2d4b0d8aa7b3ce6",
       "version_major": 2,
       "version_minor": 0
      },
      "text/plain": [
       "Downloading Episode: 151:   0%|          | 0/94 [00:00<?, ?image/s]"
      ]
     },
     "metadata": {},
     "output_type": "display_data"
    },
    {
     "data": {
      "application/vnd.jupyter.widget-view+json": {
       "model_id": "c8e0da0646204258a34fde35ce902f23",
       "version_major": 2,
       "version_minor": 0
      },
      "text/plain": [
       "Downloading Episode: 152:   0%|          | 0/92 [00:00<?, ?image/s]"
      ]
     },
     "metadata": {},
     "output_type": "display_data"
    },
    {
     "data": {
      "application/vnd.jupyter.widget-view+json": {
       "model_id": "efcf2d734f9e417e8ec43c2eae680f7f",
       "version_major": 2,
       "version_minor": 0
      },
      "text/plain": [
       "Downloading Episode: 153:   0%|          | 0/97 [00:00<?, ?image/s]"
      ]
     },
     "metadata": {},
     "output_type": "display_data"
    },
    {
     "data": {
      "application/vnd.jupyter.widget-view+json": {
       "model_id": "1f1f8d1d419e44bba939c5fd69ece96b",
       "version_major": 2,
       "version_minor": 0
      },
      "text/plain": [
       "Downloading Episode: 154:   0%|          | 0/104 [00:00<?, ?image/s]"
      ]
     },
     "metadata": {},
     "output_type": "display_data"
    },
    {
     "data": {
      "application/vnd.jupyter.widget-view+json": {
       "model_id": "0ff448ddf10d437592443601d0e3dad3",
       "version_major": 2,
       "version_minor": 0
      },
      "text/plain": [
       "Downloading Episode: 155:   0%|          | 0/112 [00:00<?, ?image/s]"
      ]
     },
     "metadata": {},
     "output_type": "display_data"
    },
    {
     "data": {
      "application/vnd.jupyter.widget-view+json": {
       "model_id": "1e15c0bd6f794f28a946420e5ddb64d2",
       "version_major": 2,
       "version_minor": 0
      },
      "text/plain": [
       "Downloading Episode: 156:   0%|          | 0/105 [00:00<?, ?image/s]"
      ]
     },
     "metadata": {},
     "output_type": "display_data"
    },
    {
     "data": {
      "application/vnd.jupyter.widget-view+json": {
       "model_id": "f2c06c3de3d34cb082e62aa2ea479eda",
       "version_major": 2,
       "version_minor": 0
      },
      "text/plain": [
       "Downloading Episode: 157:   0%|          | 0/116 [00:00<?, ?image/s]"
      ]
     },
     "metadata": {},
     "output_type": "display_data"
    },
    {
     "data": {
      "application/vnd.jupyter.widget-view+json": {
       "model_id": "68e9152b8d0b48da918d794e5b6fcded",
       "version_major": 2,
       "version_minor": 0
      },
      "text/plain": [
       "Downloading Episode: 158:   0%|          | 0/112 [00:00<?, ?image/s]"
      ]
     },
     "metadata": {},
     "output_type": "display_data"
    },
    {
     "data": {
      "application/vnd.jupyter.widget-view+json": {
       "model_id": "37c0297be4ab4b529f90bccde5a10e25",
       "version_major": 2,
       "version_minor": 0
      },
      "text/plain": [
       "Downloading Episode: 159:   0%|          | 0/85 [00:00<?, ?image/s]"
      ]
     },
     "metadata": {},
     "output_type": "display_data"
    },
    {
     "data": {
      "application/vnd.jupyter.widget-view+json": {
       "model_id": "30b616cdce064aef88c49a38ba7dabe3",
       "version_major": 2,
       "version_minor": 0
      },
      "text/plain": [
       "Downloading Episode: 160:   0%|          | 0/95 [00:00<?, ?image/s]"
      ]
     },
     "metadata": {},
     "output_type": "display_data"
    },
    {
     "data": {
      "application/vnd.jupyter.widget-view+json": {
       "model_id": "a052125b3bac4d7dbd528e4f8b1cca58",
       "version_major": 2,
       "version_minor": 0
      },
      "text/plain": [
       "Downloading Episode: 161:   0%|          | 0/88 [00:00<?, ?image/s]"
      ]
     },
     "metadata": {},
     "output_type": "display_data"
    },
    {
     "data": {
      "application/vnd.jupyter.widget-view+json": {
       "model_id": "9e93c47741fa405697edd06e0e3fdd37",
       "version_major": 2,
       "version_minor": 0
      },
      "text/plain": [
       "Downloading Episode: 162:   0%|          | 0/114 [00:00<?, ?image/s]"
      ]
     },
     "metadata": {},
     "output_type": "display_data"
    },
    {
     "data": {
      "application/vnd.jupyter.widget-view+json": {
       "model_id": "2852d2ddf47143338806201d458e213f",
       "version_major": 2,
       "version_minor": 0
      },
      "text/plain": [
       "Downloading Episode: 163:   0%|          | 0/132 [00:00<?, ?image/s]"
      ]
     },
     "metadata": {},
     "output_type": "display_data"
    },
    {
     "data": {
      "application/vnd.jupyter.widget-view+json": {
       "model_id": "d625acbcd1f34899907ead77acb906e0",
       "version_major": 2,
       "version_minor": 0
      },
      "text/plain": [
       "Downloading Episode: 164:   0%|          | 0/105 [00:00<?, ?image/s]"
      ]
     },
     "metadata": {},
     "output_type": "display_data"
    },
    {
     "data": {
      "application/vnd.jupyter.widget-view+json": {
       "model_id": "fdaf5b68c26d4457a4832baea53bed05",
       "version_major": 2,
       "version_minor": 0
      },
      "text/plain": [
       "Downloading Episode: 165:   0%|          | 0/111 [00:00<?, ?image/s]"
      ]
     },
     "metadata": {},
     "output_type": "display_data"
    },
    {
     "data": {
      "application/vnd.jupyter.widget-view+json": {
       "model_id": "aa075c3cf14c462cb59f7d6aea9be4a5",
       "version_major": 2,
       "version_minor": 0
      },
      "text/plain": [
       "Downloading Episode: 166:   0%|          | 0/111 [00:00<?, ?image/s]"
      ]
     },
     "metadata": {},
     "output_type": "display_data"
    },
    {
     "data": {
      "application/vnd.jupyter.widget-view+json": {
       "model_id": "07e835dc1bca4a85b48180a99cb2ffcb",
       "version_major": 2,
       "version_minor": 0
      },
      "text/plain": [
       "Downloading Episode: 167:   0%|          | 0/101 [00:00<?, ?image/s]"
      ]
     },
     "metadata": {},
     "output_type": "display_data"
    },
    {
     "data": {
      "application/vnd.jupyter.widget-view+json": {
       "model_id": "94651ff993474ae184d557b113e40029",
       "version_major": 2,
       "version_minor": 0
      },
      "text/plain": [
       "Downloading Episode: 168:   0%|          | 0/90 [00:00<?, ?image/s]"
      ]
     },
     "metadata": {},
     "output_type": "display_data"
    },
    {
     "data": {
      "application/vnd.jupyter.widget-view+json": {
       "model_id": "3ae7ebf29cbe4974ae37235f9d29ebc4",
       "version_major": 2,
       "version_minor": 0
      },
      "text/plain": [
       "Downloading Episode: 169:   0%|          | 0/104 [00:00<?, ?image/s]"
      ]
     },
     "metadata": {},
     "output_type": "display_data"
    },
    {
     "data": {
      "application/vnd.jupyter.widget-view+json": {
       "model_id": "3e24c126a1c74f949339bfcfbc90b563",
       "version_major": 2,
       "version_minor": 0
      },
      "text/plain": [
       "Downloading Episode: 170:   0%|          | 0/113 [00:00<?, ?image/s]"
      ]
     },
     "metadata": {},
     "output_type": "display_data"
    },
    {
     "data": {
      "application/vnd.jupyter.widget-view+json": {
       "model_id": "f99128fd758840c3b493fbd2f9201ec4",
       "version_major": 2,
       "version_minor": 0
      },
      "text/plain": [
       "Downloading Episode: 171:   0%|          | 0/91 [00:00<?, ?image/s]"
      ]
     },
     "metadata": {},
     "output_type": "display_data"
    },
    {
     "data": {
      "application/vnd.jupyter.widget-view+json": {
       "model_id": "3d1359c10a3d45b69df18b7c879b2188",
       "version_major": 2,
       "version_minor": 0
      },
      "text/plain": [
       "Downloading Episode: 172:   0%|          | 0/109 [00:00<?, ?image/s]"
      ]
     },
     "metadata": {},
     "output_type": "display_data"
    },
    {
     "data": {
      "application/vnd.jupyter.widget-view+json": {
       "model_id": "0dc71a0108ee47908434a895f367a1d5",
       "version_major": 2,
       "version_minor": 0
      },
      "text/plain": [
       "Downloading Episode: 173:   0%|          | 0/119 [00:00<?, ?image/s]"
      ]
     },
     "metadata": {},
     "output_type": "display_data"
    },
    {
     "data": {
      "application/vnd.jupyter.widget-view+json": {
       "model_id": "a8eb549c4a79459381ece0f629b56b63",
       "version_major": 2,
       "version_minor": 0
      },
      "text/plain": [
       "Downloading Episode: 174:   0%|          | 0/124 [00:00<?, ?image/s]"
      ]
     },
     "metadata": {},
     "output_type": "display_data"
    },
    {
     "data": {
      "application/vnd.jupyter.widget-view+json": {
       "model_id": "9373079929cb4a7399865f94e84cf686",
       "version_major": 2,
       "version_minor": 0
      },
      "text/plain": [
       "Downloading Episode: 175:   0%|          | 0/117 [00:00<?, ?image/s]"
      ]
     },
     "metadata": {},
     "output_type": "display_data"
    },
    {
     "data": {
      "application/vnd.jupyter.widget-view+json": {
       "model_id": "9c84bc1f46e44936b4292ff981d06bbd",
       "version_major": 2,
       "version_minor": 0
      },
      "text/plain": [
       "Downloading Episode: 176:   0%|          | 0/120 [00:00<?, ?image/s]"
      ]
     },
     "metadata": {},
     "output_type": "display_data"
    },
    {
     "data": {
      "application/vnd.jupyter.widget-view+json": {
       "model_id": "637c1eeafb214f1f9592b85443774eb8",
       "version_major": 2,
       "version_minor": 0
      },
      "text/plain": [
       "Downloading Episode: 177:   0%|          | 0/124 [00:00<?, ?image/s]"
      ]
     },
     "metadata": {},
     "output_type": "display_data"
    },
    {
     "data": {
      "application/vnd.jupyter.widget-view+json": {
       "model_id": "031869e0b7424819af2cf6d97b9a0049",
       "version_major": 2,
       "version_minor": 0
      },
      "text/plain": [
       "Downloading Episode: 178:   0%|          | 0/140 [00:00<?, ?image/s]"
      ]
     },
     "metadata": {},
     "output_type": "display_data"
    },
    {
     "data": {
      "application/vnd.jupyter.widget-view+json": {
       "model_id": "65f7f0b237a64a20a5b6ab84736053af",
       "version_major": 2,
       "version_minor": 0
      },
      "text/plain": [
       "Downloading Episode: 179:   0%|          | 0/125 [00:00<?, ?image/s]"
      ]
     },
     "metadata": {},
     "output_type": "display_data"
    },
    {
     "data": {
      "application/vnd.jupyter.widget-view+json": {
       "model_id": "43ba5a548d764e659c3832a9e957ab7d",
       "version_major": 2,
       "version_minor": 0
      },
      "text/plain": [
       "Downloading Episode: 180:   0%|          | 0/145 [00:00<?, ?image/s]"
      ]
     },
     "metadata": {},
     "output_type": "display_data"
    },
    {
     "data": {
      "application/vnd.jupyter.widget-view+json": {
       "model_id": "10e97e33f3a34333b0f77cddad440458",
       "version_major": 2,
       "version_minor": 0
      },
      "text/plain": [
       "Downloading Episode: 181:   0%|          | 0/113 [00:00<?, ?image/s]"
      ]
     },
     "metadata": {},
     "output_type": "display_data"
    },
    {
     "data": {
      "application/vnd.jupyter.widget-view+json": {
       "model_id": "5469dbcb2b354e0e9a12a5ae9fa97578",
       "version_major": 2,
       "version_minor": 0
      },
      "text/plain": [
       "Downloading Episode: 182:   0%|          | 0/99 [00:00<?, ?image/s]"
      ]
     },
     "metadata": {},
     "output_type": "display_data"
    },
    {
     "data": {
      "application/vnd.jupyter.widget-view+json": {
       "model_id": "b4b9796daabd438b97846543d857f4f3",
       "version_major": 2,
       "version_minor": 0
      },
      "text/plain": [
       "Downloading Episode: 183:   0%|          | 0/130 [00:00<?, ?image/s]"
      ]
     },
     "metadata": {},
     "output_type": "display_data"
    },
    {
     "data": {
      "application/vnd.jupyter.widget-view+json": {
       "model_id": "f1a479ba6c7f496f908d141da062f40d",
       "version_major": 2,
       "version_minor": 0
      },
      "text/plain": [
       "Downloading Episode: 184:   0%|          | 0/103 [00:00<?, ?image/s]"
      ]
     },
     "metadata": {},
     "output_type": "display_data"
    },
    {
     "data": {
      "application/vnd.jupyter.widget-view+json": {
       "model_id": "6eb04b79adbe435796b91826a35b7f62",
       "version_major": 2,
       "version_minor": 0
      },
      "text/plain": [
       "Downloading Episode: 185:   0%|          | 0/104 [00:00<?, ?image/s]"
      ]
     },
     "metadata": {},
     "output_type": "display_data"
    },
    {
     "data": {
      "application/vnd.jupyter.widget-view+json": {
       "model_id": "455d27beb6504a16a83a6611010cf24d",
       "version_major": 2,
       "version_minor": 0
      },
      "text/plain": [
       "Downloading Episode: 186:   0%|          | 0/102 [00:00<?, ?image/s]"
      ]
     },
     "metadata": {},
     "output_type": "display_data"
    },
    {
     "data": {
      "application/vnd.jupyter.widget-view+json": {
       "model_id": "9f4a04b9b6ac4006bde9658af6f365b9",
       "version_major": 2,
       "version_minor": 0
      },
      "text/plain": [
       "Downloading Episode: 187:   0%|          | 0/85 [00:00<?, ?image/s]"
      ]
     },
     "metadata": {},
     "output_type": "display_data"
    },
    {
     "data": {
      "application/vnd.jupyter.widget-view+json": {
       "model_id": "c6d6b0737a964a8480dc7c52a92b1246",
       "version_major": 2,
       "version_minor": 0
      },
      "text/plain": [
       "Downloading Episode: 188:   0%|          | 0/124 [00:00<?, ?image/s]"
      ]
     },
     "metadata": {},
     "output_type": "display_data"
    },
    {
     "data": {
      "application/vnd.jupyter.widget-view+json": {
       "model_id": "7ec068bf318e460a8e36ec823a5a6d07",
       "version_major": 2,
       "version_minor": 0
      },
      "text/plain": [
       "Downloading Episode: 189:   0%|          | 0/100 [00:00<?, ?image/s]"
      ]
     },
     "metadata": {},
     "output_type": "display_data"
    },
    {
     "data": {
      "application/vnd.jupyter.widget-view+json": {
       "model_id": "40ef098a7c94466896d4539959ab1d71",
       "version_major": 2,
       "version_minor": 0
      },
      "text/plain": [
       "Downloading Episode: 190:   0%|          | 0/106 [00:00<?, ?image/s]"
      ]
     },
     "metadata": {},
     "output_type": "display_data"
    },
    {
     "data": {
      "application/vnd.jupyter.widget-view+json": {
       "model_id": "2824e51be65447bf8ef2bdc1afd2c079",
       "version_major": 2,
       "version_minor": 0
      },
      "text/plain": [
       "Downloading Episode: 191:   0%|          | 0/113 [00:00<?, ?image/s]"
      ]
     },
     "metadata": {},
     "output_type": "display_data"
    },
    {
     "data": {
      "application/vnd.jupyter.widget-view+json": {
       "model_id": "a9accc3a213645c49025601aecc2c41f",
       "version_major": 2,
       "version_minor": 0
      },
      "text/plain": [
       "Downloading Episode: 192:   0%|          | 0/123 [00:00<?, ?image/s]"
      ]
     },
     "metadata": {},
     "output_type": "display_data"
    },
    {
     "data": {
      "application/vnd.jupyter.widget-view+json": {
       "model_id": "729330dcd8ee46868f5e5cce9281218f",
       "version_major": 2,
       "version_minor": 0
      },
      "text/plain": [
       "Downloading Episode: 193:   0%|          | 0/102 [00:00<?, ?image/s]"
      ]
     },
     "metadata": {},
     "output_type": "display_data"
    },
    {
     "data": {
      "application/vnd.jupyter.widget-view+json": {
       "model_id": "191a512b901e4e6c98f2002d2927de18",
       "version_major": 2,
       "version_minor": 0
      },
      "text/plain": [
       "Downloading Episode: 194:   0%|          | 0/105 [00:00<?, ?image/s]"
      ]
     },
     "metadata": {},
     "output_type": "display_data"
    },
    {
     "data": {
      "application/vnd.jupyter.widget-view+json": {
       "model_id": "91dd781339a94b9b8f101def64bd66f4",
       "version_major": 2,
       "version_minor": 0
      },
      "text/plain": [
       "Downloading Episode: 195:   0%|          | 0/152 [00:00<?, ?image/s]"
      ]
     },
     "metadata": {},
     "output_type": "display_data"
    },
    {
     "data": {
      "application/vnd.jupyter.widget-view+json": {
       "model_id": "bb3afb88ef064ab1af7bb32836247d03",
       "version_major": 2,
       "version_minor": 0
      },
      "text/plain": [
       "Downloading Episode: 196:   0%|          | 0/98 [00:00<?, ?image/s]"
      ]
     },
     "metadata": {},
     "output_type": "display_data"
    },
    {
     "data": {
      "application/vnd.jupyter.widget-view+json": {
       "model_id": "91cc7a1cc79a4a4fb1f43dfad94856bc",
       "version_major": 2,
       "version_minor": 0
      },
      "text/plain": [
       "Downloading Episode: 197:   0%|          | 0/98 [00:00<?, ?image/s]"
      ]
     },
     "metadata": {},
     "output_type": "display_data"
    },
    {
     "data": {
      "application/vnd.jupyter.widget-view+json": {
       "model_id": "891f3c107d8842e3af1b79a64e069742",
       "version_major": 2,
       "version_minor": 0
      },
      "text/plain": [
       "Downloading Episode: 198:   0%|          | 0/90 [00:00<?, ?image/s]"
      ]
     },
     "metadata": {},
     "output_type": "display_data"
    },
    {
     "data": {
      "application/vnd.jupyter.widget-view+json": {
       "model_id": "55f6c3c023f24b1cbb1852dfa295af4b",
       "version_major": 2,
       "version_minor": 0
      },
      "text/plain": [
       "Downloading Episode: 199:   0%|          | 0/116 [00:00<?, ?image/s]"
      ]
     },
     "metadata": {},
     "output_type": "display_data"
    },
    {
     "data": {
      "application/vnd.jupyter.widget-view+json": {
       "model_id": "cbea5a2452814cec8124d7b56cfadf32",
       "version_major": 2,
       "version_minor": 0
      },
      "text/plain": [
       "Downloading Episode: 200:   0%|          | 0/100 [00:00<?, ?image/s]"
      ]
     },
     "metadata": {},
     "output_type": "display_data"
    },
    {
     "data": {
      "application/vnd.jupyter.widget-view+json": {
       "model_id": "44e09e78b949400da267cd9d07b4dd94",
       "version_major": 2,
       "version_minor": 0
      },
      "text/plain": [
       "Downloading Episode: 201:   0%|          | 0/105 [00:00<?, ?image/s]"
      ]
     },
     "metadata": {},
     "output_type": "display_data"
    },
    {
     "data": {
      "application/vnd.jupyter.widget-view+json": {
       "model_id": "196ce9a019a94b6cb2bf2113137e0966",
       "version_major": 2,
       "version_minor": 0
      },
      "text/plain": [
       "Downloading Episode: 202:   0%|          | 0/119 [00:00<?, ?image/s]"
      ]
     },
     "metadata": {},
     "output_type": "display_data"
    },
    {
     "data": {
      "application/vnd.jupyter.widget-view+json": {
       "model_id": "bea481da11bf44fc953f5f750dfb1176",
       "version_major": 2,
       "version_minor": 0
      },
      "text/plain": [
       "Downloading Episode: 203:   0%|          | 0/113 [00:00<?, ?image/s]"
      ]
     },
     "metadata": {},
     "output_type": "display_data"
    },
    {
     "data": {
      "application/vnd.jupyter.widget-view+json": {
       "model_id": "29149de5b41e4a648aa929dd69a8625c",
       "version_major": 2,
       "version_minor": 0
      },
      "text/plain": [
       "Downloading Episode: 204:   0%|          | 0/114 [00:00<?, ?image/s]"
      ]
     },
     "metadata": {},
     "output_type": "display_data"
    },
    {
     "data": {
      "application/vnd.jupyter.widget-view+json": {
       "model_id": "a1eed4307a6a40989db72f0c621cb991",
       "version_major": 2,
       "version_minor": 0
      },
      "text/plain": [
       "Downloading Episode: 205:   0%|          | 0/110 [00:00<?, ?image/s]"
      ]
     },
     "metadata": {},
     "output_type": "display_data"
    },
    {
     "data": {
      "application/vnd.jupyter.widget-view+json": {
       "model_id": "5ec3792557f74603b83b2d92a6d4e1b4",
       "version_major": 2,
       "version_minor": 0
      },
      "text/plain": [
       "Downloading Episode: 206:   0%|          | 0/95 [00:00<?, ?image/s]"
      ]
     },
     "metadata": {},
     "output_type": "display_data"
    },
    {
     "data": {
      "application/vnd.jupyter.widget-view+json": {
       "model_id": "906a9ebabff6402798fc39190f9ad01d",
       "version_major": 2,
       "version_minor": 0
      },
      "text/plain": [
       "Downloading Episode: 207:   0%|          | 0/81 [00:00<?, ?image/s]"
      ]
     },
     "metadata": {},
     "output_type": "display_data"
    },
    {
     "data": {
      "application/vnd.jupyter.widget-view+json": {
       "model_id": "8e3b1718fe2f4748bdadb3f7cd3d1307",
       "version_major": 2,
       "version_minor": 0
      },
      "text/plain": [
       "Downloading Episode: 208:   0%|          | 0/110 [00:00<?, ?image/s]"
      ]
     },
     "metadata": {},
     "output_type": "display_data"
    },
    {
     "data": {
      "application/vnd.jupyter.widget-view+json": {
       "model_id": "d4e56ff74878447b9400bbcbb35b2bc0",
       "version_major": 2,
       "version_minor": 0
      },
      "text/plain": [
       "Downloading Episode: 209:   0%|          | 0/154 [00:00<?, ?image/s]"
      ]
     },
     "metadata": {},
     "output_type": "display_data"
    },
    {
     "data": {
      "application/vnd.jupyter.widget-view+json": {
       "model_id": "15b4d6533dcb4836a9dce8f9da26e920",
       "version_major": 2,
       "version_minor": 0
      },
      "text/plain": [
       "Downloading Episode: 210:   0%|          | 0/97 [00:00<?, ?image/s]"
      ]
     },
     "metadata": {},
     "output_type": "display_data"
    },
    {
     "data": {
      "application/vnd.jupyter.widget-view+json": {
       "model_id": "9ef36f8b72e94ed5b13833ecd85f406c",
       "version_major": 2,
       "version_minor": 0
      },
      "text/plain": [
       "Downloading Episode: 211:   0%|          | 0/89 [00:00<?, ?image/s]"
      ]
     },
     "metadata": {},
     "output_type": "display_data"
    },
    {
     "data": {
      "application/vnd.jupyter.widget-view+json": {
       "model_id": "0a86e78a88a74b75a3a230c3910baa6c",
       "version_major": 2,
       "version_minor": 0
      },
      "text/plain": [
       "Downloading Episode: 212:   0%|          | 0/93 [00:00<?, ?image/s]"
      ]
     },
     "metadata": {},
     "output_type": "display_data"
    },
    {
     "data": {
      "application/vnd.jupyter.widget-view+json": {
       "model_id": "ed274a61b5cf40e8869ff8940f92b1f2",
       "version_major": 2,
       "version_minor": 0
      },
      "text/plain": [
       "Downloading Episode: 213:   0%|          | 0/92 [00:00<?, ?image/s]"
      ]
     },
     "metadata": {},
     "output_type": "display_data"
    },
    {
     "data": {
      "application/vnd.jupyter.widget-view+json": {
       "model_id": "bde2ffa52e1248438f36f2bbff92370f",
       "version_major": 2,
       "version_minor": 0
      },
      "text/plain": [
       "Downloading Episode: 214:   0%|          | 0/86 [00:00<?, ?image/s]"
      ]
     },
     "metadata": {},
     "output_type": "display_data"
    },
    {
     "data": {
      "application/vnd.jupyter.widget-view+json": {
       "model_id": "ecfa1d87cd5046c8a7642e8c19335a21",
       "version_major": 2,
       "version_minor": 0
      },
      "text/plain": [
       "Downloading Episode: 215:   0%|          | 0/97 [00:00<?, ?image/s]"
      ]
     },
     "metadata": {},
     "output_type": "display_data"
    },
    {
     "data": {
      "application/vnd.jupyter.widget-view+json": {
       "model_id": "64e3c347c37542f9a312c9dd3a36b92c",
       "version_major": 2,
       "version_minor": 0
      },
      "text/plain": [
       "Downloading Episode: 216:   0%|          | 0/99 [00:00<?, ?image/s]"
      ]
     },
     "metadata": {},
     "output_type": "display_data"
    },
    {
     "data": {
      "application/vnd.jupyter.widget-view+json": {
       "model_id": "9acb89d080e64a7bb083764f02b62e7e",
       "version_major": 2,
       "version_minor": 0
      },
      "text/plain": [
       "Downloading Episode: 217:   0%|          | 0/70 [00:00<?, ?image/s]"
      ]
     },
     "metadata": {},
     "output_type": "display_data"
    },
    {
     "data": {
      "application/vnd.jupyter.widget-view+json": {
       "model_id": "ded769b9de2f4b8abc1d04df4f160dc3",
       "version_major": 2,
       "version_minor": 0
      },
      "text/plain": [
       "Downloading Episode: 218:   0%|          | 0/104 [00:00<?, ?image/s]"
      ]
     },
     "metadata": {},
     "output_type": "display_data"
    },
    {
     "data": {
      "application/vnd.jupyter.widget-view+json": {
       "model_id": "e929a24dcca140d6b8e0f6bd2d595bbd",
       "version_major": 2,
       "version_minor": 0
      },
      "text/plain": [
       "Downloading Episode: 219:   0%|          | 0/90 [00:00<?, ?image/s]"
      ]
     },
     "metadata": {},
     "output_type": "display_data"
    },
    {
     "data": {
      "application/vnd.jupyter.widget-view+json": {
       "model_id": "a650d501b684466f8886aafee9878ca3",
       "version_major": 2,
       "version_minor": 0
      },
      "text/plain": [
       "Downloading Episode: 220:   0%|          | 0/83 [00:00<?, ?image/s]"
      ]
     },
     "metadata": {},
     "output_type": "display_data"
    },
    {
     "data": {
      "application/vnd.jupyter.widget-view+json": {
       "model_id": "9a9edcff297d479a902292101fd355a8",
       "version_major": 2,
       "version_minor": 0
      },
      "text/plain": [
       "Downloading Episode: 221:   0%|          | 0/138 [00:00<?, ?image/s]"
      ]
     },
     "metadata": {},
     "output_type": "display_data"
    },
    {
     "data": {
      "application/vnd.jupyter.widget-view+json": {
       "model_id": "deadf796c0934c4581513dc1bd504bda",
       "version_major": 2,
       "version_minor": 0
      },
      "text/plain": [
       "Downloading Episode: 222:   0%|          | 0/85 [00:00<?, ?image/s]"
      ]
     },
     "metadata": {},
     "output_type": "display_data"
    },
    {
     "data": {
      "application/vnd.jupyter.widget-view+json": {
       "model_id": "3bfe0385e6b34f5ba888579818fc8db2",
       "version_major": 2,
       "version_minor": 0
      },
      "text/plain": [
       "Downloading Episode: 223:   0%|          | 0/91 [00:00<?, ?image/s]"
      ]
     },
     "metadata": {},
     "output_type": "display_data"
    },
    {
     "data": {
      "application/vnd.jupyter.widget-view+json": {
       "model_id": "a3b06ec32cf5440a826bad94e88e8598",
       "version_major": 2,
       "version_minor": 0
      },
      "text/plain": [
       "Downloading Episode: 224:   0%|          | 0/125 [00:00<?, ?image/s]"
      ]
     },
     "metadata": {},
     "output_type": "display_data"
    },
    {
     "data": {
      "application/vnd.jupyter.widget-view+json": {
       "model_id": "40500eb0ccfc48e1a62e41d1cba27c0d",
       "version_major": 2,
       "version_minor": 0
      },
      "text/plain": [
       "Downloading Episode: 225:   0%|          | 0/118 [00:00<?, ?image/s]"
      ]
     },
     "metadata": {},
     "output_type": "display_data"
    },
    {
     "data": {
      "application/vnd.jupyter.widget-view+json": {
       "model_id": "dc11ac04d8754b1cb8c96413744b09d9",
       "version_major": 2,
       "version_minor": 0
      },
      "text/plain": [
       "Downloading Episode: 226:   0%|          | 0/94 [00:00<?, ?image/s]"
      ]
     },
     "metadata": {},
     "output_type": "display_data"
    },
    {
     "data": {
      "application/vnd.jupyter.widget-view+json": {
       "model_id": "607c66b4f07347c89ffb6bc159c32c2f",
       "version_major": 2,
       "version_minor": 0
      },
      "text/plain": [
       "Downloading Episode: 227:   0%|          | 0/119 [00:00<?, ?image/s]"
      ]
     },
     "metadata": {},
     "output_type": "display_data"
    },
    {
     "data": {
      "application/vnd.jupyter.widget-view+json": {
       "model_id": "9913960298c7453fb19cad4123a15d33",
       "version_major": 2,
       "version_minor": 0
      },
      "text/plain": [
       "Downloading Episode: 228:   0%|          | 0/96 [00:00<?, ?image/s]"
      ]
     },
     "metadata": {},
     "output_type": "display_data"
    },
    {
     "data": {
      "application/vnd.jupyter.widget-view+json": {
       "model_id": "ccc87fa9a5dc42bc8c9bfe70796b77e9",
       "version_major": 2,
       "version_minor": 0
      },
      "text/plain": [
       "Downloading Episode: 229:   0%|          | 0/104 [00:00<?, ?image/s]"
      ]
     },
     "metadata": {},
     "output_type": "display_data"
    },
    {
     "data": {
      "application/vnd.jupyter.widget-view+json": {
       "model_id": "fdf8e5a487e0414c9243f5079aebc784",
       "version_major": 2,
       "version_minor": 0
      },
      "text/plain": [
       "Downloading Episode: 230:   0%|          | 0/103 [00:00<?, ?image/s]"
      ]
     },
     "metadata": {},
     "output_type": "display_data"
    },
    {
     "data": {
      "application/vnd.jupyter.widget-view+json": {
       "model_id": "0f908e5b4d884c0987677344dd58ec2f",
       "version_major": 2,
       "version_minor": 0
      },
      "text/plain": [
       "Downloading Episode: 231:   0%|          | 0/108 [00:00<?, ?image/s]"
      ]
     },
     "metadata": {},
     "output_type": "display_data"
    },
    {
     "data": {
      "application/vnd.jupyter.widget-view+json": {
       "model_id": "2b8345832ffa420cb5d6b80321b0df1d",
       "version_major": 2,
       "version_minor": 0
      },
      "text/plain": [
       "Downloading Episode: 232:   0%|          | 0/126 [00:00<?, ?image/s]"
      ]
     },
     "metadata": {},
     "output_type": "display_data"
    },
    {
     "data": {
      "application/vnd.jupyter.widget-view+json": {
       "model_id": "561d856eb6f948c8b066ab525edb7bad",
       "version_major": 2,
       "version_minor": 0
      },
      "text/plain": [
       "Downloading Episode: 233:   0%|          | 0/92 [00:00<?, ?image/s]"
      ]
     },
     "metadata": {},
     "output_type": "display_data"
    },
    {
     "data": {
      "application/vnd.jupyter.widget-view+json": {
       "model_id": "3e88c1f4caef4ec8b135d6c1a45ab441",
       "version_major": 2,
       "version_minor": 0
      },
      "text/plain": [
       "Downloading Episode: 234:   0%|          | 0/92 [00:00<?, ?image/s]"
      ]
     },
     "metadata": {},
     "output_type": "display_data"
    },
    {
     "data": {
      "application/vnd.jupyter.widget-view+json": {
       "model_id": "ee8bfab9b3444829a5918cc7aa4812d0",
       "version_major": 2,
       "version_minor": 0
      },
      "text/plain": [
       "Downloading Episode: 235:   0%|          | 0/101 [00:00<?, ?image/s]"
      ]
     },
     "metadata": {},
     "output_type": "display_data"
    },
    {
     "data": {
      "application/vnd.jupyter.widget-view+json": {
       "model_id": "10a3787112fa4bfcbc871b705ce97221",
       "version_major": 2,
       "version_minor": 0
      },
      "text/plain": [
       "Downloading Episode: 236:   0%|          | 0/103 [00:00<?, ?image/s]"
      ]
     },
     "metadata": {},
     "output_type": "display_data"
    },
    {
     "data": {
      "application/vnd.jupyter.widget-view+json": {
       "model_id": "d8cc9900e4164866baeb1de63f4cf7a5",
       "version_major": 2,
       "version_minor": 0
      },
      "text/plain": [
       "Downloading Episode: 237:   0%|          | 0/101 [00:00<?, ?image/s]"
      ]
     },
     "metadata": {},
     "output_type": "display_data"
    },
    {
     "data": {
      "application/vnd.jupyter.widget-view+json": {
       "model_id": "3982d22fdf324f788bd35d63d64e1a5d",
       "version_major": 2,
       "version_minor": 0
      },
      "text/plain": [
       "Downloading Episode: 238:   0%|          | 0/106 [00:00<?, ?image/s]"
      ]
     },
     "metadata": {},
     "output_type": "display_data"
    },
    {
     "data": {
      "application/vnd.jupyter.widget-view+json": {
       "model_id": "3a90a86410824edc88dba1867e80bedc",
       "version_major": 2,
       "version_minor": 0
      },
      "text/plain": [
       "Downloading Episode: 239:   0%|          | 0/104 [00:00<?, ?image/s]"
      ]
     },
     "metadata": {},
     "output_type": "display_data"
    },
    {
     "data": {
      "application/vnd.jupyter.widget-view+json": {
       "model_id": "8777cd55380a4b7da41fb7815035f6ae",
       "version_major": 2,
       "version_minor": 0
      },
      "text/plain": [
       "Downloading Episode: 240:   0%|          | 0/108 [00:00<?, ?image/s]"
      ]
     },
     "metadata": {},
     "output_type": "display_data"
    },
    {
     "data": {
      "application/vnd.jupyter.widget-view+json": {
       "model_id": "2da416824a3e46a8bd818b68689d713f",
       "version_major": 2,
       "version_minor": 0
      },
      "text/plain": [
       "Downloading Episode: 241:   0%|          | 0/89 [00:00<?, ?image/s]"
      ]
     },
     "metadata": {},
     "output_type": "display_data"
    },
    {
     "data": {
      "application/vnd.jupyter.widget-view+json": {
       "model_id": "8b7aae00673041e297b28c25c80305b7",
       "version_major": 2,
       "version_minor": 0
      },
      "text/plain": [
       "Downloading Episode: 242:   0%|          | 0/88 [00:00<?, ?image/s]"
      ]
     },
     "metadata": {},
     "output_type": "display_data"
    },
    {
     "data": {
      "application/vnd.jupyter.widget-view+json": {
       "model_id": "7308e2ef95ad4cf78889b49e1dac1170",
       "version_major": 2,
       "version_minor": 0
      },
      "text/plain": [
       "Downloading Episode: 243:   0%|          | 0/103 [00:00<?, ?image/s]"
      ]
     },
     "metadata": {},
     "output_type": "display_data"
    },
    {
     "data": {
      "application/vnd.jupyter.widget-view+json": {
       "model_id": "33e564dc63e64375a533ae7c1e8e3456",
       "version_major": 2,
       "version_minor": 0
      },
      "text/plain": [
       "Downloading Episode: 244:   0%|          | 0/119 [00:00<?, ?image/s]"
      ]
     },
     "metadata": {},
     "output_type": "display_data"
    },
    {
     "data": {
      "application/vnd.jupyter.widget-view+json": {
       "model_id": "0f27a02cbeb9432f9f575a0ac0325026",
       "version_major": 2,
       "version_minor": 0
      },
      "text/plain": [
       "Downloading Episode: 245:   0%|          | 0/115 [00:00<?, ?image/s]"
      ]
     },
     "metadata": {},
     "output_type": "display_data"
    },
    {
     "data": {
      "application/vnd.jupyter.widget-view+json": {
       "model_id": "6fa205f9616b447cac0142079c15d9d2",
       "version_major": 2,
       "version_minor": 0
      },
      "text/plain": [
       "Downloading Episode: 246:   0%|          | 0/115 [00:00<?, ?image/s]"
      ]
     },
     "metadata": {},
     "output_type": "display_data"
    },
    {
     "data": {
      "application/vnd.jupyter.widget-view+json": {
       "model_id": "0a92b38e4bbf465489fc4270667b1ed6",
       "version_major": 2,
       "version_minor": 0
      },
      "text/plain": [
       "Downloading Episode: 247:   0%|          | 0/105 [00:00<?, ?image/s]"
      ]
     },
     "metadata": {},
     "output_type": "display_data"
    },
    {
     "data": {
      "application/vnd.jupyter.widget-view+json": {
       "model_id": "46fa12cef790441bb6226c4732db7861",
       "version_major": 2,
       "version_minor": 0
      },
      "text/plain": [
       "Downloading Episode: 248:   0%|          | 0/123 [00:00<?, ?image/s]"
      ]
     },
     "metadata": {},
     "output_type": "display_data"
    },
    {
     "data": {
      "application/vnd.jupyter.widget-view+json": {
       "model_id": "b8d734a8068e4b489a9f545460997672",
       "version_major": 2,
       "version_minor": 0
      },
      "text/plain": [
       "Downloading Episode: 249:   0%|          | 0/114 [00:00<?, ?image/s]"
      ]
     },
     "metadata": {},
     "output_type": "display_data"
    },
    {
     "data": {
      "application/vnd.jupyter.widget-view+json": {
       "model_id": "487748c347e944ae84bf6ca09465f303",
       "version_major": 2,
       "version_minor": 0
      },
      "text/plain": [
       "Downloading Episode: 250:   0%|          | 0/118 [00:00<?, ?image/s]"
      ]
     },
     "metadata": {},
     "output_type": "display_data"
    },
    {
     "data": {
      "application/vnd.jupyter.widget-view+json": {
       "model_id": "662f902b626441b1b30a22916bed6225",
       "version_major": 2,
       "version_minor": 0
      },
      "text/plain": [
       "Downloading Episode: 251:   0%|          | 0/88 [00:00<?, ?image/s]"
      ]
     },
     "metadata": {},
     "output_type": "display_data"
    },
    {
     "data": {
      "application/vnd.jupyter.widget-view+json": {
       "model_id": "4101dfb33d114b8c93c36ad0eaf3ed88",
       "version_major": 2,
       "version_minor": 0
      },
      "text/plain": [
       "Downloading Episode: 252:   0%|          | 0/102 [00:00<?, ?image/s]"
      ]
     },
     "metadata": {},
     "output_type": "display_data"
    }
   ],
   "source": [
    "import re\n",
    "import os\n",
    "import zipfile\n",
    "import httpx\n",
    "from bs4 import BeautifulSoup\n",
    "from PIL import Image\n",
    "from io import BytesIO\n",
    "import pillow_avif\n",
    "import tempfile\n",
    "from tqdm.notebook import tqdm\n",
    "\n",
    "url_series = \"https://www.webtoons.com/en/action/omniscient-reader/list?title_no=2154\"\n",
    "dir_output = \"downloads\"\n",
    "os.makedirs(dir_output, exist_ok=True)\n",
    "\n",
    "# Setup headers\n",
    "header_ua = '\"Google Chrome\";v=\"135\", \"Not-A.Brand\";v=\"8\", \"Chromium\";v=\"135\"'\n",
    "header_ua_mobile = \"?0\"\n",
    "header_ua_platform = '\"Linux\"'\n",
    "header_user_agent = \"Mozilla/5.0 (X11; Linux x86_64) AppleWebKit/537.36 (KHTML, like Gecko) Chrome/135.0.0.0 Safari/537.36\"\n",
    "headers = {\n",
    "    \"sec-ch-ua\": header_ua,\n",
    "    \"sec-ch-ua-mobile\": header_ua_mobile,\n",
    "    \"sec-ch-ua-platform\": header_ua_platform,\n",
    "    \"user-agent\": header_user_agent,\n",
    "}\n",
    "\n",
    "def httpx_get_soup(url, headers) -> BeautifulSoup:\n",
    "    \"\"\"\n",
    "    Fetches the content of a URL and returns a BeautifulSoup object.\n",
    "    \"\"\"\n",
    "    with httpx.Client() as client:\n",
    "        response = client.get(url, headers=headers)\n",
    "        if response.status_code == 200:\n",
    "            return BeautifulSoup(response.text, 'html.parser')\n",
    "        else:\n",
    "            print(f\"Failed to retrieve the page: {url}\\nStatus code: {response.status_code}\")\n",
    "            exit(1)\n",
    "            return None\n",
    "\n",
    "def get_episodes(soup, regex) -> dict:\n",
    "    \"\"\"\n",
    "    Extracts episode links from the BeautifulSoup object.\n",
    "    \"\"\"\n",
    "    links = [a['href'] for a in soup.find_all('a', href=re.compile(regex))]\n",
    "    dat = {int(re.search(r'episode_no=(\\d+)', link).group(1)): link for link in links}\n",
    "    return dat\n",
    "\n",
    "def download_cbz(url, path_cbz, img_format=\"avif\"):\n",
    "    \"\"\"\n",
    "    Downloads a CBZ file from the given URL and saves it to the specified path.\n",
    "    Default format is AVIF. Options are AVIF or JPEG.\n",
    "    \"\"\"\n",
    "    # Step 1: Fetch the page content as soup\n",
    "    soup = httpx_get_soup(url, headers)\n",
    "    episode_no = re.search(r'episode_no=(\\d+)', url).group(1)\n",
    "    # Step 2: Find all image links of content images\n",
    "    regex = r'https://webtoon-phinf\\.pstatic\\.net.*\\.(jpg|jpeg|png).*'\n",
    "    links = soup.find_all('img', attrs={'data-url': re.compile(regex), 'class': '_images'})\n",
    "    # Setp 3: Download images\n",
    "    headers['referer'] = url\n",
    "    n = 0\n",
    "    with tempfile.TemporaryDirectory() as temp_dir:\n",
    "        with httpx.Client() as client:\n",
    "            for url in tqdm(links, desc=f\"Downloading Episode: {episode_no}\", unit=\"image\", leave=False):\n",
    "                image_url = url['data-url']\n",
    "                response = client.get(image_url, headers=headers)\n",
    "                if response.status_code == 200:\n",
    "                    n += 1\n",
    "                    image = Image.open(BytesIO(response.content))\n",
    "                    file_name = f\"{str(n).zfill(3)}.{img_format}\"\n",
    "                    if img_format == \"avif\":\n",
    "                        image.save(os.path.join(temp_dir, file_name), format=\"AVIF\")\n",
    "                    else:\n",
    "                        image.save(os.path.join(temp_dir, file_name), format=\"JPEG\")\n",
    "                else:\n",
    "                    print(f\"Failed to download image: {response.status_code}\")\n",
    "                    exit(1)        \n",
    "            \n",
    "        # Step 4: Create new CBZ with downloaded images\n",
    "        with zipfile.ZipFile(path_cbz, 'w', compression=zipfile.ZIP_DEFLATED) as zipf:\n",
    "            for filename in sorted(os.listdir(temp_dir)):\n",
    "                file_path = os.path.join(temp_dir, filename)\n",
    "                zipf.write(file_path, arcname=filename)\n",
    "\n",
    "# Step 1: Fetch the series page content as soup and extract title first episode url\n",
    "soup = httpx_get_soup(url_series, headers)\n",
    "series_title = soup.find('title').text.strip()\n",
    "episodes = get_episodes(soup, r'.+&episode_no=\\d+')\n",
    "first_episode_no = min(episodes.keys())\n",
    "\n",
    "# Step 2: Get the list of episode URLs from the first episode\n",
    "url = episodes[first_episode_no]\n",
    "soup = httpx_get_soup(url, headers)\n",
    "episodes = get_episodes(soup, r'https://www\\.webtoons\\.com.+viewer\\?title_no=\\d+')\n",
    "episodes = dict(sorted(episodes.items(), key=lambda item: item[0]))\n",
    "\n",
    "# Step 3: Download each episode as a CBZ file\n",
    "dir_output = os.path.join(dir_output, series_title)\n",
    "os.makedirs(dir_output, exist_ok=True)\n",
    "for key in tqdm(episodes.keys(), desc=\"Processing Episodes\", unit=\"url\"):\n",
    "    episode_no = key\n",
    "    url = episodes[key]\n",
    "    path_cbz = os.path.join(dir_output, f\"{series_title}, Episode {episode_no}.cbz\")\n",
    "    if os.path.exists(path_cbz):\n",
    "        continue\n",
    "    download_cbz(url, path_cbz, img_format=\"avif\")"
   ]
  },
  {
   "cell_type": "markdown",
   "id": "8314db97",
   "metadata": {},
   "source": [
    "Development"
   ]
  },
  {
   "cell_type": "markdown",
   "id": "46333d59",
   "metadata": {},
   "source": [
    "https://www.webtoons.com/en/action/omniscient-reader/list?title_no=2154\n",
    "\n",
    "https://www.webtoons.com/en/action/omniscient-reader/episode-0-prologue/viewer?title_no=2154&episode_no=1"
   ]
  },
  {
   "cell_type": "code",
   "execution_count": null,
   "id": "4b39aea9",
   "metadata": {},
   "outputs": [
    {
     "name": "stdout",
     "output_type": "stream",
     "text": [
      "Episode 1: https://www.webtoons.com/en/action/omniscient-reader/episode-0-prologue/viewer?title_no=2154&episode_no=1\n",
      "Episode 2: https://www.webtoons.com/en/action/omniscient-reader/episode-1/viewer?title_no=2154&episode_no=2\n",
      "Episode 3: https://www.webtoons.com/en/action/omniscient-reader/episode-2/viewer?title_no=2154&episode_no=3\n",
      "Episode 4: https://www.webtoons.com/en/action/omniscient-reader/episode-3/viewer?title_no=2154&episode_no=4\n",
      "Episode 5: https://www.webtoons.com/en/action/omniscient-reader/episode-4/viewer?title_no=2154&episode_no=5\n",
      "Episode 6: https://www.webtoons.com/en/action/omniscient-reader/episode-5/viewer?title_no=2154&episode_no=6\n",
      "Episode 7: https://www.webtoons.com/en/action/omniscient-reader/episode-6/viewer?title_no=2154&episode_no=7\n",
      "Episode 8: https://www.webtoons.com/en/action/omniscient-reader/episode-7/viewer?title_no=2154&episode_no=8\n",
      "Episode 9: https://www.webtoons.com/en/action/omniscient-reader/episode-8/viewer?title_no=2154&episode_no=9\n",
      "Episode 10: https://www.webtoons.com/en/action/omniscient-reader/episode-9/viewer?title_no=2154&episode_no=10\n",
      "Episode 11: https://www.webtoons.com/en/action/omniscient-reader/episode-10/viewer?title_no=2154&episode_no=11\n",
      "Episode 12: https://www.webtoons.com/en/action/omniscient-reader/episode-11/viewer?title_no=2154&episode_no=12\n",
      "Episode 13: https://www.webtoons.com/en/action/omniscient-reader/episode-12/viewer?title_no=2154&episode_no=13\n",
      "Episode 14: https://www.webtoons.com/en/action/omniscient-reader/episode-13/viewer?title_no=2154&episode_no=14\n",
      "Episode 15: https://www.webtoons.com/en/action/omniscient-reader/episode-14/viewer?title_no=2154&episode_no=15\n",
      "Episode 16: https://www.webtoons.com/en/action/omniscient-reader/episode-15/viewer?title_no=2154&episode_no=16\n",
      "Episode 17: https://www.webtoons.com/en/action/omniscient-reader/episode-16/viewer?title_no=2154&episode_no=17\n",
      "Episode 18: https://www.webtoons.com/en/action/omniscient-reader/episode-17/viewer?title_no=2154&episode_no=18\n",
      "Episode 19: https://www.webtoons.com/en/action/omniscient-reader/episode-18/viewer?title_no=2154&episode_no=19\n",
      "Episode 20: https://www.webtoons.com/en/action/omniscient-reader/episode-19/viewer?title_no=2154&episode_no=20\n",
      "Episode 21: https://www.webtoons.com/en/action/omniscient-reader/episode-20/viewer?title_no=2154&episode_no=21\n",
      "Episode 22: https://www.webtoons.com/en/action/omniscient-reader/episode-21/viewer?title_no=2154&episode_no=22\n",
      "Episode 23: https://www.webtoons.com/en/action/omniscient-reader/episode-22/viewer?title_no=2154&episode_no=23\n",
      "Episode 24: https://www.webtoons.com/en/action/omniscient-reader/episode-23/viewer?title_no=2154&episode_no=24\n",
      "Episode 25: https://www.webtoons.com/en/action/omniscient-reader/episode-24/viewer?title_no=2154&episode_no=25\n",
      "Episode 26: https://www.webtoons.com/en/action/omniscient-reader/episode-25/viewer?title_no=2154&episode_no=26\n",
      "Episode 27: https://www.webtoons.com/en/action/omniscient-reader/episode-26/viewer?title_no=2154&episode_no=27\n",
      "Episode 28: https://www.webtoons.com/en/action/omniscient-reader/episode-27/viewer?title_no=2154&episode_no=28\n",
      "Episode 29: https://www.webtoons.com/en/action/omniscient-reader/episode-28/viewer?title_no=2154&episode_no=29\n",
      "Episode 30: https://www.webtoons.com/en/action/omniscient-reader/episode-29/viewer?title_no=2154&episode_no=30\n",
      "Episode 31: https://www.webtoons.com/en/action/omniscient-reader/episode-30/viewer?title_no=2154&episode_no=31\n",
      "Episode 32: https://www.webtoons.com/en/action/omniscient-reader/episode-31/viewer?title_no=2154&episode_no=32\n",
      "Episode 33: https://www.webtoons.com/en/action/omniscient-reader/episode-32/viewer?title_no=2154&episode_no=33\n",
      "Episode 34: https://www.webtoons.com/en/action/omniscient-reader/episode-33/viewer?title_no=2154&episode_no=34\n",
      "Episode 35: https://www.webtoons.com/en/action/omniscient-reader/episode-34/viewer?title_no=2154&episode_no=35\n",
      "Episode 36: https://www.webtoons.com/en/action/omniscient-reader/episode-35/viewer?title_no=2154&episode_no=36\n",
      "Episode 37: https://www.webtoons.com/en/action/omniscient-reader/episode-36/viewer?title_no=2154&episode_no=37\n",
      "Episode 38: https://www.webtoons.com/en/action/omniscient-reader/episode-37/viewer?title_no=2154&episode_no=38\n",
      "Episode 39: https://www.webtoons.com/en/action/omniscient-reader/episode-38/viewer?title_no=2154&episode_no=39\n",
      "Episode 40: https://www.webtoons.com/en/action/omniscient-reader/episode-39/viewer?title_no=2154&episode_no=40\n",
      "Episode 41: https://www.webtoons.com/en/action/omniscient-reader/episode-40/viewer?title_no=2154&episode_no=41\n",
      "Episode 42: https://www.webtoons.com/en/action/omniscient-reader/episode-41/viewer?title_no=2154&episode_no=42\n",
      "Episode 43: https://www.webtoons.com/en/action/omniscient-reader/episode-42/viewer?title_no=2154&episode_no=43\n",
      "Episode 44: https://www.webtoons.com/en/action/omniscient-reader/episode-43/viewer?title_no=2154&episode_no=44\n",
      "Episode 45: https://www.webtoons.com/en/action/omniscient-reader/episode-44/viewer?title_no=2154&episode_no=45\n",
      "Episode 46: https://www.webtoons.com/en/action/omniscient-reader/episode-45/viewer?title_no=2154&episode_no=46\n",
      "Episode 47: https://www.webtoons.com/en/action/omniscient-reader/episode-46/viewer?title_no=2154&episode_no=47\n",
      "Episode 48: https://www.webtoons.com/en/action/omniscient-reader/episode-47/viewer?title_no=2154&episode_no=48\n",
      "Episode 49: https://www.webtoons.com/en/action/omniscient-reader/episode-48/viewer?title_no=2154&episode_no=49\n",
      "Episode 50: https://www.webtoons.com/en/action/omniscient-reader/episode-49/viewer?title_no=2154&episode_no=50\n",
      "Episode 51: https://www.webtoons.com/en/action/omniscient-reader/episode-50/viewer?title_no=2154&episode_no=51\n",
      "Episode 52: https://www.webtoons.com/en/action/omniscient-reader/episode-51/viewer?title_no=2154&episode_no=52\n",
      "Episode 53: https://www.webtoons.com/en/action/omniscient-reader/episode-52/viewer?title_no=2154&episode_no=53\n",
      "Episode 54: https://www.webtoons.com/en/action/omniscient-reader/episode-53/viewer?title_no=2154&episode_no=54\n",
      "Episode 55: https://www.webtoons.com/en/action/omniscient-reader/episode-54/viewer?title_no=2154&episode_no=55\n",
      "Episode 56: https://www.webtoons.com/en/action/omniscient-reader/episode-55/viewer?title_no=2154&episode_no=56\n",
      "Episode 57: https://www.webtoons.com/en/action/omniscient-reader/episode-56/viewer?title_no=2154&episode_no=57\n",
      "Episode 58: https://www.webtoons.com/en/action/omniscient-reader/episode-57/viewer?title_no=2154&episode_no=58\n",
      "Episode 59: https://www.webtoons.com/en/action/omniscient-reader/episode-58/viewer?title_no=2154&episode_no=59\n",
      "Episode 60: https://www.webtoons.com/en/action/omniscient-reader/episode-59/viewer?title_no=2154&episode_no=60\n",
      "Episode 61: https://www.webtoons.com/en/action/omniscient-reader/episode-60/viewer?title_no=2154&episode_no=61\n",
      "Episode 62: https://www.webtoons.com/en/action/omniscient-reader/episode-61/viewer?title_no=2154&episode_no=62\n",
      "Episode 63: https://www.webtoons.com/en/action/omniscient-reader/episode-62/viewer?title_no=2154&episode_no=63\n",
      "Episode 64: https://www.webtoons.com/en/action/omniscient-reader/episode-63/viewer?title_no=2154&episode_no=64\n",
      "Episode 65: https://www.webtoons.com/en/action/omniscient-reader/episode-64/viewer?title_no=2154&episode_no=65\n",
      "Episode 66: https://www.webtoons.com/en/action/omniscient-reader/episode-65/viewer?title_no=2154&episode_no=66\n",
      "Episode 67: https://www.webtoons.com/en/action/omniscient-reader/episode-66/viewer?title_no=2154&episode_no=67\n",
      "Episode 68: https://www.webtoons.com/en/action/omniscient-reader/episode-67/viewer?title_no=2154&episode_no=68\n",
      "Episode 69: https://www.webtoons.com/en/action/omniscient-reader/episode-68/viewer?title_no=2154&episode_no=69\n",
      "Episode 70: https://www.webtoons.com/en/action/omniscient-reader/episode-69/viewer?title_no=2154&episode_no=70\n",
      "Episode 71: https://www.webtoons.com/en/action/omniscient-reader/episode-70/viewer?title_no=2154&episode_no=71\n",
      "Episode 72: https://www.webtoons.com/en/action/omniscient-reader/episode-71/viewer?title_no=2154&episode_no=72\n",
      "Episode 73: https://www.webtoons.com/en/action/omniscient-reader/episode-72/viewer?title_no=2154&episode_no=73\n",
      "Episode 74: https://www.webtoons.com/en/action/omniscient-reader/episode-73/viewer?title_no=2154&episode_no=74\n",
      "Episode 75: https://www.webtoons.com/en/action/omniscient-reader/episode-74/viewer?title_no=2154&episode_no=75\n",
      "Episode 76: https://www.webtoons.com/en/action/omniscient-reader/episode-75/viewer?title_no=2154&episode_no=76\n",
      "Episode 77: https://www.webtoons.com/en/action/omniscient-reader/episode-76/viewer?title_no=2154&episode_no=77\n",
      "Episode 78: https://www.webtoons.com/en/action/omniscient-reader/episode-77/viewer?title_no=2154&episode_no=78\n",
      "Episode 79: https://www.webtoons.com/en/action/omniscient-reader/episode-78/viewer?title_no=2154&episode_no=79\n",
      "Episode 80: https://www.webtoons.com/en/action/omniscient-reader/episode-79/viewer?title_no=2154&episode_no=80\n",
      "Episode 81: https://www.webtoons.com/en/action/omniscient-reader/episode-80/viewer?title_no=2154&episode_no=81\n",
      "Episode 82: https://www.webtoons.com/en/action/omniscient-reader/episode-81/viewer?title_no=2154&episode_no=82\n",
      "Episode 83: https://www.webtoons.com/en/action/omniscient-reader/episode-82/viewer?title_no=2154&episode_no=83\n",
      "Episode 84: https://www.webtoons.com/en/action/omniscient-reader/episode-83/viewer?title_no=2154&episode_no=84\n",
      "Episode 85: https://www.webtoons.com/en/action/omniscient-reader/episode-84/viewer?title_no=2154&episode_no=85\n",
      "Episode 86: https://www.webtoons.com/en/action/omniscient-reader/episode-85/viewer?title_no=2154&episode_no=86\n",
      "Episode 87: https://www.webtoons.com/en/action/omniscient-reader/episode-86/viewer?title_no=2154&episode_no=87\n",
      "Episode 88: https://www.webtoons.com/en/action/omniscient-reader/episode-87/viewer?title_no=2154&episode_no=88\n",
      "Episode 89: https://www.webtoons.com/en/action/omniscient-reader/episode-88/viewer?title_no=2154&episode_no=89\n",
      "Episode 90: https://www.webtoons.com/en/action/omniscient-reader/episode-89/viewer?title_no=2154&episode_no=90\n",
      "Episode 91: https://www.webtoons.com/en/action/omniscient-reader/episode-90/viewer?title_no=2154&episode_no=91\n",
      "Episode 92: https://www.webtoons.com/en/action/omniscient-reader/episode-91/viewer?title_no=2154&episode_no=92\n",
      "Episode 93: https://www.webtoons.com/en/action/omniscient-reader/episode-92/viewer?title_no=2154&episode_no=93\n",
      "Episode 94: https://www.webtoons.com/en/action/omniscient-reader/episode-93/viewer?title_no=2154&episode_no=94\n",
      "Episode 95: https://www.webtoons.com/en/action/omniscient-reader/episode-94/viewer?title_no=2154&episode_no=95\n",
      "Episode 96: https://www.webtoons.com/en/action/omniscient-reader/episode-95/viewer?title_no=2154&episode_no=96\n",
      "Episode 97: https://www.webtoons.com/en/action/omniscient-reader/episode-96/viewer?title_no=2154&episode_no=97\n",
      "Episode 98: https://www.webtoons.com/en/action/omniscient-reader/episode-97/viewer?title_no=2154&episode_no=98\n",
      "Episode 99: https://www.webtoons.com/en/action/omniscient-reader/episode-98/viewer?title_no=2154&episode_no=99\n",
      "Episode 100: https://www.webtoons.com/en/action/omniscient-reader/episode-99/viewer?title_no=2154&episode_no=100\n",
      "Episode 101: https://www.webtoons.com/en/action/omniscient-reader/episode-100/viewer?title_no=2154&episode_no=101\n",
      "Episode 102: https://www.webtoons.com/en/action/omniscient-reader/episode-101/viewer?title_no=2154&episode_no=102\n",
      "Episode 103: https://www.webtoons.com/en/action/omniscient-reader/episode-102/viewer?title_no=2154&episode_no=103\n",
      "Episode 104: https://www.webtoons.com/en/action/omniscient-reader/episode-103/viewer?title_no=2154&episode_no=104\n",
      "Episode 105: https://www.webtoons.com/en/action/omniscient-reader/episode-104/viewer?title_no=2154&episode_no=105\n",
      "Episode 106: https://www.webtoons.com/en/action/omniscient-reader/episode-105/viewer?title_no=2154&episode_no=106\n",
      "Episode 107: https://www.webtoons.com/en/action/omniscient-reader/episode-106/viewer?title_no=2154&episode_no=107\n",
      "Episode 108: https://www.webtoons.com/en/action/omniscient-reader/episode-107/viewer?title_no=2154&episode_no=108\n",
      "Episode 109: https://www.webtoons.com/en/action/omniscient-reader/episode-108/viewer?title_no=2154&episode_no=109\n",
      "Episode 110: https://www.webtoons.com/en/action/omniscient-reader/episode-109/viewer?title_no=2154&episode_no=110\n",
      "Episode 111: https://www.webtoons.com/en/action/omniscient-reader/episode-110/viewer?title_no=2154&episode_no=111\n",
      "Episode 112: https://www.webtoons.com/en/action/omniscient-reader/episode-111/viewer?title_no=2154&episode_no=112\n",
      "Episode 113: https://www.webtoons.com/en/action/omniscient-reader/episode-112/viewer?title_no=2154&episode_no=113\n",
      "Episode 114: https://www.webtoons.com/en/action/omniscient-reader/episode-113/viewer?title_no=2154&episode_no=114\n",
      "Episode 115: https://www.webtoons.com/en/action/omniscient-reader/episode-114/viewer?title_no=2154&episode_no=115\n",
      "Episode 116: https://www.webtoons.com/en/action/omniscient-reader/episode-115/viewer?title_no=2154&episode_no=116\n",
      "Episode 117: https://www.webtoons.com/en/action/omniscient-reader/episode-116/viewer?title_no=2154&episode_no=117\n",
      "Episode 118: https://www.webtoons.com/en/action/omniscient-reader/episode-117/viewer?title_no=2154&episode_no=118\n",
      "Episode 119: https://www.webtoons.com/en/action/omniscient-reader/episode-118/viewer?title_no=2154&episode_no=119\n",
      "Episode 120: https://www.webtoons.com/en/action/omniscient-reader/episode-119/viewer?title_no=2154&episode_no=120\n",
      "Episode 121: https://www.webtoons.com/en/action/omniscient-reader/episode-120/viewer?title_no=2154&episode_no=121\n",
      "Episode 122: https://www.webtoons.com/en/action/omniscient-reader/episode-121/viewer?title_no=2154&episode_no=122\n",
      "Episode 123: https://www.webtoons.com/en/action/omniscient-reader/episode-122/viewer?title_no=2154&episode_no=123\n",
      "Episode 124: https://www.webtoons.com/en/action/omniscient-reader/episode-123/viewer?title_no=2154&episode_no=124\n",
      "Episode 125: https://www.webtoons.com/en/action/omniscient-reader/episode-124/viewer?title_no=2154&episode_no=125\n",
      "Episode 126: https://www.webtoons.com/en/action/omniscient-reader/episode-125/viewer?title_no=2154&episode_no=126\n",
      "Episode 127: https://www.webtoons.com/en/action/omniscient-reader/episode-126/viewer?title_no=2154&episode_no=127\n",
      "Episode 128: https://www.webtoons.com/en/action/omniscient-reader/episode-127/viewer?title_no=2154&episode_no=128\n",
      "Episode 129: https://www.webtoons.com/en/action/omniscient-reader/episode-128/viewer?title_no=2154&episode_no=129\n",
      "Episode 130: https://www.webtoons.com/en/action/omniscient-reader/episode-129/viewer?title_no=2154&episode_no=130\n",
      "Episode 131: https://www.webtoons.com/en/action/omniscient-reader/episode-130/viewer?title_no=2154&episode_no=131\n",
      "Episode 132: https://www.webtoons.com/en/action/omniscient-reader/episode-131/viewer?title_no=2154&episode_no=132\n",
      "Episode 133: https://www.webtoons.com/en/action/omniscient-reader/episode-132/viewer?title_no=2154&episode_no=133\n",
      "Episode 134: https://www.webtoons.com/en/action/omniscient-reader/episode-133/viewer?title_no=2154&episode_no=134\n",
      "Episode 135: https://www.webtoons.com/en/action/omniscient-reader/episode-134/viewer?title_no=2154&episode_no=135\n",
      "Episode 136: https://www.webtoons.com/en/action/omniscient-reader/episode-135/viewer?title_no=2154&episode_no=136\n",
      "Episode 137: https://www.webtoons.com/en/action/omniscient-reader/episode-136/viewer?title_no=2154&episode_no=137\n",
      "Episode 138: https://www.webtoons.com/en/action/omniscient-reader/episode-137/viewer?title_no=2154&episode_no=138\n",
      "Episode 139: https://www.webtoons.com/en/action/omniscient-reader/episode-138/viewer?title_no=2154&episode_no=139\n",
      "Episode 140: https://www.webtoons.com/en/action/omniscient-reader/episode-139/viewer?title_no=2154&episode_no=140\n",
      "Episode 141: https://www.webtoons.com/en/action/omniscient-reader/episode-140/viewer?title_no=2154&episode_no=141\n",
      "Episode 142: https://www.webtoons.com/en/action/omniscient-reader/episode-141/viewer?title_no=2154&episode_no=142\n",
      "Episode 143: https://www.webtoons.com/en/action/omniscient-reader/episode-142/viewer?title_no=2154&episode_no=143\n",
      "Episode 144: https://www.webtoons.com/en/action/omniscient-reader/episode-143/viewer?title_no=2154&episode_no=144\n",
      "Episode 145: https://www.webtoons.com/en/action/omniscient-reader/episode-144/viewer?title_no=2154&episode_no=145\n",
      "Episode 146: https://www.webtoons.com/en/action/omniscient-reader/episode-145/viewer?title_no=2154&episode_no=146\n",
      "Episode 147: https://www.webtoons.com/en/action/omniscient-reader/episode-146/viewer?title_no=2154&episode_no=147\n",
      "Episode 148: https://www.webtoons.com/en/action/omniscient-reader/episode-147/viewer?title_no=2154&episode_no=148\n",
      "Episode 149: https://www.webtoons.com/en/action/omniscient-reader/episode-148/viewer?title_no=2154&episode_no=149\n",
      "Episode 150: https://www.webtoons.com/en/action/omniscient-reader/episode-149/viewer?title_no=2154&episode_no=150\n",
      "Episode 151: https://www.webtoons.com/en/action/omniscient-reader/episode-150/viewer?title_no=2154&episode_no=151\n",
      "Episode 152: https://www.webtoons.com/en/action/omniscient-reader/episode-151/viewer?title_no=2154&episode_no=152\n",
      "Episode 153: https://www.webtoons.com/en/action/omniscient-reader/episode-152/viewer?title_no=2154&episode_no=153\n",
      "Episode 154: https://www.webtoons.com/en/action/omniscient-reader/episode-153/viewer?title_no=2154&episode_no=154\n",
      "Episode 155: https://www.webtoons.com/en/action/omniscient-reader/episode-154/viewer?title_no=2154&episode_no=155\n",
      "Episode 156: https://www.webtoons.com/en/action/omniscient-reader/episode-155/viewer?title_no=2154&episode_no=156\n",
      "Episode 157: https://www.webtoons.com/en/action/omniscient-reader/episode-156/viewer?title_no=2154&episode_no=157\n",
      "Episode 158: https://www.webtoons.com/en/action/omniscient-reader/episode-157/viewer?title_no=2154&episode_no=158\n",
      "Episode 159: https://www.webtoons.com/en/action/omniscient-reader/episode-158/viewer?title_no=2154&episode_no=159\n",
      "Episode 160: https://www.webtoons.com/en/action/omniscient-reader/episode-159/viewer?title_no=2154&episode_no=160\n",
      "Episode 161: https://www.webtoons.com/en/action/omniscient-reader/episode-160/viewer?title_no=2154&episode_no=161\n",
      "Episode 162: https://www.webtoons.com/en/action/omniscient-reader/episode-161/viewer?title_no=2154&episode_no=162\n",
      "Episode 163: https://www.webtoons.com/en/action/omniscient-reader/episode-162/viewer?title_no=2154&episode_no=163\n",
      "Episode 164: https://www.webtoons.com/en/action/omniscient-reader/episode-163/viewer?title_no=2154&episode_no=164\n",
      "Episode 165: https://www.webtoons.com/en/action/omniscient-reader/episode-164/viewer?title_no=2154&episode_no=165\n",
      "Episode 166: https://www.webtoons.com/en/action/omniscient-reader/episode-165/viewer?title_no=2154&episode_no=166\n",
      "Episode 167: https://www.webtoons.com/en/action/omniscient-reader/episode-166/viewer?title_no=2154&episode_no=167\n",
      "Episode 168: https://www.webtoons.com/en/action/omniscient-reader/episode-167/viewer?title_no=2154&episode_no=168\n",
      "Episode 169: https://www.webtoons.com/en/action/omniscient-reader/episode-168/viewer?title_no=2154&episode_no=169\n",
      "Episode 170: https://www.webtoons.com/en/action/omniscient-reader/episode-169/viewer?title_no=2154&episode_no=170\n",
      "Episode 171: https://www.webtoons.com/en/action/omniscient-reader/episode-170/viewer?title_no=2154&episode_no=171\n",
      "Episode 172: https://www.webtoons.com/en/action/omniscient-reader/episode-171/viewer?title_no=2154&episode_no=172\n",
      "Episode 173: https://www.webtoons.com/en/action/omniscient-reader/episode-172/viewer?title_no=2154&episode_no=173\n",
      "Episode 174: https://www.webtoons.com/en/action/omniscient-reader/episode-173/viewer?title_no=2154&episode_no=174\n",
      "Episode 175: https://www.webtoons.com/en/action/omniscient-reader/episode-174/viewer?title_no=2154&episode_no=175\n",
      "Episode 176: https://www.webtoons.com/en/action/omniscient-reader/episode-175/viewer?title_no=2154&episode_no=176\n",
      "Episode 177: https://www.webtoons.com/en/action/omniscient-reader/episode-176/viewer?title_no=2154&episode_no=177\n",
      "Episode 178: https://www.webtoons.com/en/action/omniscient-reader/episode-177/viewer?title_no=2154&episode_no=178\n",
      "Episode 179: https://www.webtoons.com/en/action/omniscient-reader/episode-178/viewer?title_no=2154&episode_no=179\n",
      "Episode 180: https://www.webtoons.com/en/action/omniscient-reader/episode-179/viewer?title_no=2154&episode_no=180\n",
      "Episode 181: https://www.webtoons.com/en/action/omniscient-reader/episode-180/viewer?title_no=2154&episode_no=181\n",
      "Episode 182: https://www.webtoons.com/en/action/omniscient-reader/episode-181/viewer?title_no=2154&episode_no=182\n",
      "Episode 183: https://www.webtoons.com/en/action/omniscient-reader/episode-182/viewer?title_no=2154&episode_no=183\n",
      "Episode 184: https://www.webtoons.com/en/action/omniscient-reader/episode-183/viewer?title_no=2154&episode_no=184\n",
      "Episode 185: https://www.webtoons.com/en/action/omniscient-reader/episode-184/viewer?title_no=2154&episode_no=185\n",
      "Episode 186: https://www.webtoons.com/en/action/omniscient-reader/episode-185/viewer?title_no=2154&episode_no=186\n",
      "Episode 187: https://www.webtoons.com/en/action/omniscient-reader/episode-186/viewer?title_no=2154&episode_no=187\n",
      "Episode 188: https://www.webtoons.com/en/action/omniscient-reader/episode-187/viewer?title_no=2154&episode_no=188\n",
      "Episode 189: https://www.webtoons.com/en/action/omniscient-reader/episode-188/viewer?title_no=2154&episode_no=189\n",
      "Episode 190: https://www.webtoons.com/en/action/omniscient-reader/episode-189/viewer?title_no=2154&episode_no=190\n",
      "Episode 191: https://www.webtoons.com/en/action/omniscient-reader/episode-190/viewer?title_no=2154&episode_no=191\n",
      "Episode 192: https://www.webtoons.com/en/action/omniscient-reader/episode-191/viewer?title_no=2154&episode_no=192\n",
      "Episode 193: https://www.webtoons.com/en/action/omniscient-reader/episode-192/viewer?title_no=2154&episode_no=193\n",
      "Episode 194: https://www.webtoons.com/en/action/omniscient-reader/episode-193/viewer?title_no=2154&episode_no=194\n",
      "Episode 195: https://www.webtoons.com/en/action/omniscient-reader/episode-194/viewer?title_no=2154&episode_no=195\n",
      "Episode 196: https://www.webtoons.com/en/action/omniscient-reader/episode-195/viewer?title_no=2154&episode_no=196\n",
      "Episode 197: https://www.webtoons.com/en/action/omniscient-reader/episode-196/viewer?title_no=2154&episode_no=197\n",
      "Episode 198: https://www.webtoons.com/en/action/omniscient-reader/episode-197/viewer?title_no=2154&episode_no=198\n",
      "Episode 199: https://www.webtoons.com/en/action/omniscient-reader/episode-198/viewer?title_no=2154&episode_no=199\n",
      "Episode 200: https://www.webtoons.com/en/action/omniscient-reader/episode-199/viewer?title_no=2154&episode_no=200\n",
      "Episode 201: https://www.webtoons.com/en/action/omniscient-reader/episode-200/viewer?title_no=2154&episode_no=201\n",
      "Episode 202: https://www.webtoons.com/en/action/omniscient-reader/episode-201/viewer?title_no=2154&episode_no=202\n",
      "Episode 203: https://www.webtoons.com/en/action/omniscient-reader/episode-202/viewer?title_no=2154&episode_no=203\n",
      "Episode 204: https://www.webtoons.com/en/action/omniscient-reader/episode-203/viewer?title_no=2154&episode_no=204\n",
      "Episode 205: https://www.webtoons.com/en/action/omniscient-reader/episode-204/viewer?title_no=2154&episode_no=205\n",
      "Episode 206: https://www.webtoons.com/en/action/omniscient-reader/episode-205/viewer?title_no=2154&episode_no=206\n",
      "Episode 207: https://www.webtoons.com/en/action/omniscient-reader/episode-206/viewer?title_no=2154&episode_no=207\n",
      "Episode 208: https://www.webtoons.com/en/action/omniscient-reader/episode-207/viewer?title_no=2154&episode_no=208\n",
      "Episode 209: https://www.webtoons.com/en/action/omniscient-reader/episode-208/viewer?title_no=2154&episode_no=209\n",
      "Episode 210: https://www.webtoons.com/en/action/omniscient-reader/episode-209/viewer?title_no=2154&episode_no=210\n",
      "Episode 211: https://www.webtoons.com/en/action/omniscient-reader/episode-210/viewer?title_no=2154&episode_no=211\n",
      "Episode 212: https://www.webtoons.com/en/action/omniscient-reader/episode-211/viewer?title_no=2154&episode_no=212\n",
      "Episode 213: https://www.webtoons.com/en/action/omniscient-reader/episode-212/viewer?title_no=2154&episode_no=213\n",
      "Episode 214: https://www.webtoons.com/en/action/omniscient-reader/episode-213/viewer?title_no=2154&episode_no=214\n",
      "Episode 215: https://www.webtoons.com/en/action/omniscient-reader/episode-214/viewer?title_no=2154&episode_no=215\n",
      "Episode 216: https://www.webtoons.com/en/action/omniscient-reader/episode-215/viewer?title_no=2154&episode_no=216\n",
      "Episode 217: https://www.webtoons.com/en/action/omniscient-reader/episode-216/viewer?title_no=2154&episode_no=217\n",
      "Episode 218: https://www.webtoons.com/en/action/omniscient-reader/episode-217/viewer?title_no=2154&episode_no=218\n",
      "Episode 219: https://www.webtoons.com/en/action/omniscient-reader/episode-218/viewer?title_no=2154&episode_no=219\n",
      "Episode 220: https://www.webtoons.com/en/action/omniscient-reader/episode-219/viewer?title_no=2154&episode_no=220\n",
      "Episode 221: https://www.webtoons.com/en/action/omniscient-reader/episode-220/viewer?title_no=2154&episode_no=221\n",
      "Episode 222: https://www.webtoons.com/en/action/omniscient-reader/episode-221/viewer?title_no=2154&episode_no=222\n",
      "Episode 223: https://www.webtoons.com/en/action/omniscient-reader/episode-222/viewer?title_no=2154&episode_no=223\n",
      "Episode 224: https://www.webtoons.com/en/action/omniscient-reader/episode-223/viewer?title_no=2154&episode_no=224\n",
      "Episode 225: https://www.webtoons.com/en/action/omniscient-reader/episode-224/viewer?title_no=2154&episode_no=225\n",
      "Episode 226: https://www.webtoons.com/en/action/omniscient-reader/episode-225/viewer?title_no=2154&episode_no=226\n",
      "Episode 227: https://www.webtoons.com/en/action/omniscient-reader/episode-226/viewer?title_no=2154&episode_no=227\n",
      "Episode 228: https://www.webtoons.com/en/action/omniscient-reader/episode-227/viewer?title_no=2154&episode_no=228\n",
      "Episode 229: https://www.webtoons.com/en/action/omniscient-reader/episode-228/viewer?title_no=2154&episode_no=229\n",
      "Episode 230: https://www.webtoons.com/en/action/omniscient-reader/episode-229/viewer?title_no=2154&episode_no=230\n",
      "Episode 231: https://www.webtoons.com/en/action/omniscient-reader/episode-230/viewer?title_no=2154&episode_no=231\n",
      "Episode 232: https://www.webtoons.com/en/action/omniscient-reader/episode-231/viewer?title_no=2154&episode_no=232\n",
      "Episode 233: https://www.webtoons.com/en/action/omniscient-reader/episode-232/viewer?title_no=2154&episode_no=233\n",
      "Episode 234: https://www.webtoons.com/en/action/omniscient-reader/episode-233/viewer?title_no=2154&episode_no=234\n",
      "Episode 235: https://www.webtoons.com/en/action/omniscient-reader/episode-234/viewer?title_no=2154&episode_no=235\n",
      "Episode 236: https://www.webtoons.com/en/action/omniscient-reader/episode-235/viewer?title_no=2154&episode_no=236\n",
      "Episode 237: https://www.webtoons.com/en/action/omniscient-reader/episode-236/viewer?title_no=2154&episode_no=237\n",
      "Episode 238: https://www.webtoons.com/en/action/omniscient-reader/episode-237/viewer?title_no=2154&episode_no=238\n",
      "Episode 239: https://www.webtoons.com/en/action/omniscient-reader/episode-238/viewer?title_no=2154&episode_no=239\n",
      "Episode 240: https://www.webtoons.com/en/action/omniscient-reader/episode-239/viewer?title_no=2154&episode_no=240\n",
      "Episode 241: https://www.webtoons.com/en/action/omniscient-reader/episode-240/viewer?title_no=2154&episode_no=241\n",
      "Episode 242: https://www.webtoons.com/en/action/omniscient-reader/episode-241/viewer?title_no=2154&episode_no=242\n",
      "Episode 243: https://www.webtoons.com/en/action/omniscient-reader/episode-242/viewer?title_no=2154&episode_no=243\n",
      "Episode 244: https://www.webtoons.com/en/action/omniscient-reader/episode-243/viewer?title_no=2154&episode_no=244\n",
      "Episode 245: https://www.webtoons.com/en/action/omniscient-reader/episode-244/viewer?title_no=2154&episode_no=245\n",
      "Episode 246: https://www.webtoons.com/en/action/omniscient-reader/episode-245/viewer?title_no=2154&episode_no=246\n",
      "Episode 247: https://www.webtoons.com/en/action/omniscient-reader/episode-246/viewer?title_no=2154&episode_no=247\n",
      "Episode 248: https://www.webtoons.com/en/action/omniscient-reader/episode-247/viewer?title_no=2154&episode_no=248\n",
      "Episode 249: https://www.webtoons.com/en/action/omniscient-reader/episode-248/viewer?title_no=2154&episode_no=249\n",
      "Episode 250: https://www.webtoons.com/en/action/omniscient-reader/episode-249/viewer?title_no=2154&episode_no=250\n",
      "Episode 251: https://www.webtoons.com/en/action/omniscient-reader/episode-250/viewer?title_no=2154&episode_no=251\n",
      "Episode 252: https://www.webtoons.com/en/action/omniscient-reader/episode-251/viewer?title_no=2154&episode_no=252\n"
     ]
    }
   ],
   "source": [
    "import re\n",
    "import os\n",
    "import zipfile\n",
    "import httpx\n",
    "from bs4 import BeautifulSoup\n",
    "from PIL import Image\n",
    "from io import BytesIO\n",
    "\n",
    "# https://www.webtoons.com/en/action/omniscient-reader/episode-1-prologue/viewer?title_no=2154&episode_no=1\n",
    "# https://www.webtoons.com/en/action/omniscient-reader/list?title_no=2154\n",
    "\n",
    "\n",
    "header_ua = '\"Google Chrome\";v=\"135\", \"Not-A.Brand\";v=\"8\", \"Chromium\";v=\"135\"'\n",
    "header_ua_mobile = \"?0\"\n",
    "header_ua_platform = '\"Linux\"'\n",
    "header_user_agent = \"Mozilla/5.0 (X11; Linux x86_64) AppleWebKit/537.36 (KHTML, like Gecko) Chrome/135.0.0.0 Safari/537.36\"\n",
    "\n",
    "\n",
    "# headers = {\n",
    "#     \"referer\": \"https://www.webtoons.com/en/action/omniscient-reader/episode-0-prologue/viewer?title_no=2154&episode_no=1\",\n",
    "#     \"sec-ch-ua\": '\"Google Chrome\";v=\"135\", \"Not-A.Brand\";v=\"8\", \"Chromium\";v=\"135\"',\n",
    "#     \"sec-ch-ua-mobile\": \"?0\",\n",
    "#     \"sec-ch-ua-platform\": '\"Linux\"',\n",
    "#     \"user-agent\": \"Mozilla/5.0 (X11; Linux x86_64) AppleWebKit/537.36 (KHTML, like Gecko) Chrome/135.0.0.0 Safari/537.36\",\n",
    "# }\n",
    "\n",
    "headers = {\n",
    "    \"sec-ch-ua\": header_ua,\n",
    "    \"sec-ch-ua-mobile\": header_ua_mobile,\n",
    "    \"sec-ch-ua-platform\": header_ua_platform,\n",
    "    \"user-agent\": header_user_agent,\n",
    "}\n",
    "\n",
    "episode_no = 1\n",
    "\n",
    "url_series = \"https://www.webtoons.com/en/action/omniscient-reader/list?title_no=2154\"\n",
    "\n",
    "# title_no = re.search(r'title_no=(\\d+)', url_series).group(1)\n",
    "# url_chapter = url_series.split('/list')[0] + '/x/viewer?title_no=' + title_no + '&episode_no=' + str(episode_no)\n",
    "\n",
    "# response = requests.get(url_chapter)\n",
    "# response.raise_for_status()  # Raise an error for bad HTTP responses\n",
    "# soup = BeautifulSoup(response.text, 'html.parser')\n",
    "\n",
    "url = url_series\n",
    "\n",
    "def httpx_get_soup(url, headers) -> BeautifulSoup:\n",
    "    \"\"\"\n",
    "    Fetches the content of a URL and returns a BeautifulSoup object.\n",
    "    \"\"\"\n",
    "    with httpx.Client() as client:\n",
    "        response = client.get(url, headers=headers)\n",
    "        if response.status_code == 200:\n",
    "            return BeautifulSoup(response.text, 'html.parser')\n",
    "        else:\n",
    "            print(f\"Failed to retrieve the page: {url}\\nStatus code: {response.status_code}\")\n",
    "            exit(1)\n",
    "            return None\n",
    "\n",
    "def get_episodes(soup, regex) -> dict:\n",
    "    \"\"\"\n",
    "    Extracts episode links from the BeautifulSoup object.\n",
    "    \"\"\"\n",
    "    links = [a['href'] for a in soup.find_all('a', href=re.compile(regex))]\n",
    "    dat = {int(re.search(r'episode_no=(\\d+)', link).group(1)): link for link in links}\n",
    "    return dat\n",
    "\n",
    "soup = httpx_get_soup(url, headers)\n",
    "episodes = get_episodes(soup, r'.+&episode_no=\\d+')\n",
    "first_episode_no = min(episodes.keys())\n",
    "\n",
    "url = episodes[episode_no]\n",
    "soup = httpx_get_soup(url, headers)\n",
    "episodes = get_episodes(soup, r'https://www\\.webtoons\\.com.+viewer\\?title_no=\\d+')\n",
    "episodes = dict(sorted(episodes.items(), key=lambda item: item[0]))\n",
    "\n",
    "for episode_no, link in episodes.items():\n",
    "    print(f\"Episode {episode_no}: {link}\")\n",
    "\n",
    "# =\"https://www.webtoons.com/en/action/omniscient-reader/episode-189/viewer?title_no=2154\n",
    "# print(soup.prettify())"
   ]
  },
  {
   "cell_type": "code",
   "execution_count": null,
   "id": "2f3ec9f6",
   "metadata": {},
   "outputs": [],
   "source": [
    "import pillow_avif\n",
    "import tempfile\n",
    "# from tqdm import tqdm\n",
    "from tqdm.notebook import tqdm\n",
    "\n",
    "folder = \"data\"\n",
    "os.makedirs(folder, exist_ok=True)\n",
    "\n",
    "path_cbz = os.path.join(folder, \"omniscient_reader.cbz\")\n",
    "\n",
    "\n",
    "url_chapter = \"https://www.webtoons.com/en/action/omniscient-reader/episode-0-prologue/viewer?title_no=2154&episode_no=1\"\n",
    "url = url_chapter\n",
    "\n",
    "def download_cbz(url, path_cbz, img_format=\"avif\"):\n",
    "    \"\"\"\n",
    "    Downloads a CBZ file from the given URL and saves it to the specified path.\n",
    "    Default format is AVIF. Options are AVIF or JPEG.\n",
    "    \"\"\"\n",
    "    # Step 1: Fetch the page content as soup\n",
    "    soup = httpx_get_soup(url, headers)\n",
    "    # Step 2: Find all image links of content images\n",
    "    regex = r'https://webtoon-phinf\\.pstatic\\.net.*\\.(jpg|jpeg|png).*'\n",
    "    links = soup.find_all('img', attrs={'data-url': re.compile(regex), 'class': '_images'})\n",
    "    # Setp 3: Download images\n",
    "    headers['referer'] = url\n",
    "    n = 0\n",
    "    with tempfile.TemporaryDirectory() as temp_dir:\n",
    "        with httpx.Client() as client:\n",
    "            for url in tqdm(links, desc=\"Downloading images\", unit=\"image\"):\n",
    "                image_url = url['data-url']\n",
    "                response = client.get(image_url, headers=headers)\n",
    "                if response.status_code == 200:\n",
    "                    n += 1\n",
    "                    image = Image.open(BytesIO(response.content))\n",
    "                    file_name = f\"{str(n).zfill(3)}.{img_format}\"\n",
    "                    if img_format == \"avif\":\n",
    "                        image.save(os.path.join(temp_dir, file_name), format=\"AVIF\")\n",
    "                    else:\n",
    "                        image.save(os.path.join(temp_dir, file_name), format=\"JPEG\")\n",
    "                else:\n",
    "                    print(f\"Failed to download image: {response.status_code}\")\n",
    "                    exit(1)        \n",
    "        # Step 4: Create new CBZ with downloaded images\n",
    "        with zipfile.ZipFile(path_cbz, 'w', compression=zipfile.ZIP_DEFLATED) as zipf:\n",
    "            for filename in sorted(os.listdir(temp_dir)):\n",
    "                file_path = os.path.join(temp_dir, filename)\n",
    "                zipf.write(file_path, arcname=filename)\n",
    "\n",
    "download_cbz(url, path_cbz, img_format=\"avif\")"
   ]
  },
  {
   "cell_type": "code",
   "execution_count": null,
   "id": "c97a6fe5",
   "metadata": {},
   "outputs": [],
   "source": [
    "urls = [\n",
    "    \"https://www.webtoons.com/en/action/omniscient-reader/episode-0-prologue/viewer?title_no=2154&episode_no=1\",\n",
    "    \"https://www.webtoons.com/en/action/omniscient-reader/episode-0-prologue/viewer?title_no=2154&episode_no=2\"\n",
    "]\n",
    "\n",
    "def download_cbz_all(urls, folder, img_format=\"avif\"):\n",
    "    \"\"\"\n",
    "    Downloads multiple CBZ files from the given URLs and saves them to the specified folder.\n",
    "    \"\"\"\n",
    "    for url in tqdm(urls, desc=\"Processing URLs\", unit=\"url\"):\n",
    "        episode_no = re.search(r'episode_no=(\\d+)', url).group(1)\n",
    "        path_cbz = os.path.join(folder, f\"omniscient_reader_{episode_no}.cbz\")\n",
    "        download_cbz(url, path_cbz, img_format)\n",
    "\n",
    "download_cbz_all(urls, folder, img_format=\"avif\")"
   ]
  }
 ],
 "metadata": {
  "kernelspec": {
   "display_name": ".venv",
   "language": "python",
   "name": "python3"
  },
  "language_info": {
   "codemirror_mode": {
    "name": "ipython",
    "version": 3
   },
   "file_extension": ".py",
   "mimetype": "text/x-python",
   "name": "python",
   "nbconvert_exporter": "python",
   "pygments_lexer": "ipython3",
   "version": "3.12.10"
  }
 },
 "nbformat": 4,
 "nbformat_minor": 5
}
