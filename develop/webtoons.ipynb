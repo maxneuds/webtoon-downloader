{
 "cells": [
  {
   "cell_type": "code",
   "execution_count": null,
   "id": "95487f71",
   "metadata": {},
   "outputs": [
    {
     "data": {
      "application/vnd.jupyter.widget-view+json": {
       "model_id": "163fcb2f436b4f118a7d881d7d92a6e1",
       "version_major": 2,
       "version_minor": 0
      },
      "text/plain": [
       "Processing Episodes:   0%|          | 0/252 [00:00<?, ?url/s]"
      ]
     },
     "metadata": {},
     "output_type": "display_data"
    },
    {
     "data": {
      "application/vnd.jupyter.widget-view+json": {
       "model_id": "1d103dec5b4e4bc4836e63fad330f6bb",
       "version_major": 2,
       "version_minor": 0
      },
      "text/plain": [
       "Downloading Episode: 8:   0%|          | 0/134 [00:00<?, ?image/s]"
      ]
     },
     "metadata": {},
     "output_type": "display_data"
    },
    {
     "data": {
      "application/vnd.jupyter.widget-view+json": {
       "model_id": "2670d1512d1e476fae10b7f9603e3764",
       "version_major": 2,
       "version_minor": 0
      },
      "text/plain": [
       "Downloading Episode: 9:   0%|          | 0/121 [00:00<?, ?image/s]"
      ]
     },
     "metadata": {},
     "output_type": "display_data"
    },
    {
     "data": {
      "application/vnd.jupyter.widget-view+json": {
       "model_id": "d86bd8f14235402cadc4ddff132c3e14",
       "version_major": 2,
       "version_minor": 0
      },
      "text/plain": [
       "Downloading Episode: 10:   0%|          | 0/95 [00:00<?, ?image/s]"
      ]
     },
     "metadata": {},
     "output_type": "display_data"
    },
    {
     "data": {
      "application/vnd.jupyter.widget-view+json": {
       "model_id": "f2c8226750504929b2ec0f65b3f32fd0",
       "version_major": 2,
       "version_minor": 0
      },
      "text/plain": [
       "Downloading Episode: 11:   0%|          | 0/154 [00:00<?, ?image/s]"
      ]
     },
     "metadata": {},
     "output_type": "display_data"
    },
    {
     "data": {
      "application/vnd.jupyter.widget-view+json": {
       "model_id": "39dfb49cd62d42c3b6a3840861d56b0b",
       "version_major": 2,
       "version_minor": 0
      },
      "text/plain": [
       "Downloading Episode: 12:   0%|          | 0/127 [00:00<?, ?image/s]"
      ]
     },
     "metadata": {},
     "output_type": "display_data"
    },
    {
     "data": {
      "application/vnd.jupyter.widget-view+json": {
       "model_id": "2cbb6a7e6cc04431960e3e536ce8bd88",
       "version_major": 2,
       "version_minor": 0
      },
      "text/plain": [
       "Downloading Episode: 13:   0%|          | 0/110 [00:00<?, ?image/s]"
      ]
     },
     "metadata": {},
     "output_type": "display_data"
    },
    {
     "data": {
      "application/vnd.jupyter.widget-view+json": {
       "model_id": "7de0460100304fe5897e43017982e2c9",
       "version_major": 2,
       "version_minor": 0
      },
      "text/plain": [
       "Downloading Episode: 14:   0%|          | 0/102 [00:00<?, ?image/s]"
      ]
     },
     "metadata": {},
     "output_type": "display_data"
    },
    {
     "data": {
      "application/vnd.jupyter.widget-view+json": {
       "model_id": "b8cfcf5d1478468c84844ca6bda63331",
       "version_major": 2,
       "version_minor": 0
      },
      "text/plain": [
       "Downloading Episode: 15:   0%|          | 0/123 [00:00<?, ?image/s]"
      ]
     },
     "metadata": {},
     "output_type": "display_data"
    },
    {
     "data": {
      "application/vnd.jupyter.widget-view+json": {
       "model_id": "ef8751d15f5d4bf78fa0973dda1e9957",
       "version_major": 2,
       "version_minor": 0
      },
      "text/plain": [
       "Downloading Episode: 16:   0%|          | 0/155 [00:00<?, ?image/s]"
      ]
     },
     "metadata": {},
     "output_type": "display_data"
    },
    {
     "data": {
      "application/vnd.jupyter.widget-view+json": {
       "model_id": "f6a63ff0b0174566a27fd2ef49e03ca0",
       "version_major": 2,
       "version_minor": 0
      },
      "text/plain": [
       "Downloading Episode: 17:   0%|          | 0/160 [00:00<?, ?image/s]"
      ]
     },
     "metadata": {},
     "output_type": "display_data"
    },
    {
     "data": {
      "application/vnd.jupyter.widget-view+json": {
       "model_id": "7fddc74425e243c190e0b31fe640cceb",
       "version_major": 2,
       "version_minor": 0
      },
      "text/plain": [
       "Downloading Episode: 18:   0%|          | 0/128 [00:00<?, ?image/s]"
      ]
     },
     "metadata": {},
     "output_type": "display_data"
    },
    {
     "data": {
      "application/vnd.jupyter.widget-view+json": {
       "model_id": "58460a5fe99247f6889f0356947989b9",
       "version_major": 2,
       "version_minor": 0
      },
      "text/plain": [
       "Downloading Episode: 19:   0%|          | 0/167 [00:00<?, ?image/s]"
      ]
     },
     "metadata": {},
     "output_type": "display_data"
    },
    {
     "data": {
      "application/vnd.jupyter.widget-view+json": {
       "model_id": "96dc4c41d64243a993106c1894bb6316",
       "version_major": 2,
       "version_minor": 0
      },
      "text/plain": [
       "Downloading Episode: 20:   0%|          | 0/146 [00:00<?, ?image/s]"
      ]
     },
     "metadata": {},
     "output_type": "display_data"
    },
    {
     "data": {
      "application/vnd.jupyter.widget-view+json": {
       "model_id": "d8eb83729e094a43bfd5ea5701c9ac0c",
       "version_major": 2,
       "version_minor": 0
      },
      "text/plain": [
       "Downloading Episode: 21:   0%|          | 0/144 [00:00<?, ?image/s]"
      ]
     },
     "metadata": {},
     "output_type": "display_data"
    },
    {
     "data": {
      "application/vnd.jupyter.widget-view+json": {
       "model_id": "3eb7c862d61347f087b900fc54085a47",
       "version_major": 2,
       "version_minor": 0
      },
      "text/plain": [
       "Downloading Episode: 22:   0%|          | 0/146 [00:00<?, ?image/s]"
      ]
     },
     "metadata": {},
     "output_type": "display_data"
    },
    {
     "data": {
      "application/vnd.jupyter.widget-view+json": {
       "model_id": "417bb985a5524db29d3ca8d368297138",
       "version_major": 2,
       "version_minor": 0
      },
      "text/plain": [
       "Downloading Episode: 23:   0%|          | 0/125 [00:00<?, ?image/s]"
      ]
     },
     "metadata": {},
     "output_type": "display_data"
    },
    {
     "data": {
      "application/vnd.jupyter.widget-view+json": {
       "model_id": "f7acc3cacebf4fbe980a622270374ac7",
       "version_major": 2,
       "version_minor": 0
      },
      "text/plain": [
       "Downloading Episode: 24:   0%|          | 0/132 [00:00<?, ?image/s]"
      ]
     },
     "metadata": {},
     "output_type": "display_data"
    },
    {
     "data": {
      "application/vnd.jupyter.widget-view+json": {
       "model_id": "9a2e4ca8c20d4973be4f2bd9cba2cc6f",
       "version_major": 2,
       "version_minor": 0
      },
      "text/plain": [
       "Downloading Episode: 25:   0%|          | 0/146 [00:00<?, ?image/s]"
      ]
     },
     "metadata": {},
     "output_type": "display_data"
    },
    {
     "data": {
      "application/vnd.jupyter.widget-view+json": {
       "model_id": "6ef617bcc72741aaa6c7658101ff6f35",
       "version_major": 2,
       "version_minor": 0
      },
      "text/plain": [
       "Downloading Episode: 26:   0%|          | 0/131 [00:00<?, ?image/s]"
      ]
     },
     "metadata": {},
     "output_type": "display_data"
    }
   ],
   "source": [
    "import re\n",
    "import os\n",
    "import zipfile\n",
    "import httpx\n",
    "from bs4 import BeautifulSoup\n",
    "from PIL import Image\n",
    "from io import BytesIO\n",
    "import pillow_avif\n",
    "import tempfile\n",
    "# from tqdm import tqdm\n",
    "from tqdm.notebook import tqdm\n",
    "\n",
    "url_series = \"https://www.webtoons.com/en/action/omniscient-reader/list?title_no=2154\"\n",
    "dir_output = \"downloads\"\n",
    "os.makedirs(dir_output, exist_ok=True)\n",
    "\n",
    "# Setup headers\n",
    "header_ua = '\"Google Chrome\";v=\"135\", \"Not-A.Brand\";v=\"8\", \"Chromium\";v=\"135\"'\n",
    "header_ua_mobile = \"?0\"\n",
    "header_ua_platform = '\"Linux\"'\n",
    "header_user_agent = \"Mozilla/5.0 (X11; Linux x86_64) AppleWebKit/537.36 (KHTML, like Gecko) Chrome/135.0.0.0 Safari/537.36\"\n",
    "headers = {\n",
    "    \"sec-ch-ua\": header_ua,\n",
    "    \"sec-ch-ua-mobile\": header_ua_mobile,\n",
    "    \"sec-ch-ua-platform\": header_ua_platform,\n",
    "    \"user-agent\": header_user_agent,\n",
    "}\n",
    "\n",
    "def httpx_get_soup(url, headers) -> BeautifulSoup:\n",
    "    \"\"\"\n",
    "    Fetches the content of a URL and returns a BeautifulSoup object.\n",
    "    \"\"\"\n",
    "    with httpx.Client() as client:\n",
    "        response = client.get(url, headers=headers)\n",
    "        if response.status_code == 200:\n",
    "            return BeautifulSoup(response.text, 'html.parser')\n",
    "        else:\n",
    "            print(f\"Failed to retrieve the page: {url}\\nStatus code: {response.status_code}\")\n",
    "            exit(1)\n",
    "            return None\n",
    "\n",
    "def get_episodes(soup, regex) -> dict:\n",
    "    \"\"\"\n",
    "    Extracts episode links from the BeautifulSoup object.\n",
    "    \"\"\"\n",
    "    links = [a['href'] for a in soup.find_all('a', href=re.compile(regex))]\n",
    "    dat = {int(re.search(r'episode_no=(\\d+)', link).group(1)): link for link in links}\n",
    "    return dat\n",
    "\n",
    "def download_cbz(url, path_cbz, img_format=\"avif\"):\n",
    "    \"\"\"\n",
    "    Downloads a CBZ file from the given URL and saves it to the specified path.\n",
    "    Default format is AVIF. Options are AVIF or JPEG.\n",
    "    \"\"\"\n",
    "    # Step 1: Fetch the page content as soup\n",
    "    soup = httpx_get_soup(url, headers)\n",
    "    episode_no = re.search(r'episode_no=(\\d+)', url).group(1)\n",
    "    # Step 2: Find all image links of content images\n",
    "    regex = r'https://webtoon-phinf\\.pstatic\\.net.*\\.(jpg|jpeg|png).*'\n",
    "    links = soup.find_all('img', attrs={'data-url': re.compile(regex), 'class': '_images'})\n",
    "    # Setp 3: Download images\n",
    "    headers['referer'] = url\n",
    "    n = 0\n",
    "    with tempfile.TemporaryDirectory() as temp_dir:\n",
    "        with httpx.Client() as client:\n",
    "            for url in tqdm(links, desc=f\"Downloading Episode: {episode_no}\", unit=\"image\", leave=False):\n",
    "                image_url = url['data-url']\n",
    "                response = client.get(image_url, headers=headers)\n",
    "                if response.status_code == 200:\n",
    "                    n += 1\n",
    "                    image = Image.open(BytesIO(response.content))\n",
    "                    file_name = f\"{str(n).zfill(3)}.{img_format}\"\n",
    "                    if img_format == \"avif\":\n",
    "                        image.save(os.path.join(temp_dir, file_name), format=\"AVIF\")\n",
    "                    else:\n",
    "                        image.save(os.path.join(temp_dir, file_name), format=\"JPEG\")\n",
    "                else:\n",
    "                    print(f\"Failed to download image: {response.status_code}\")\n",
    "                    exit(1)        \n",
    "            \n",
    "        # Step 4: Create new CBZ with downloaded images\n",
    "        with zipfile.ZipFile(path_cbz, 'w', compression=zipfile.ZIP_DEFLATED) as zipf:\n",
    "            for filename in sorted(os.listdir(temp_dir)):\n",
    "                file_path = os.path.join(temp_dir, filename)\n",
    "                zipf.write(file_path, arcname=filename)\n",
    "\n",
    "# Step 1: Fetch the series page content as soup and extract title first episode url\n",
    "soup = httpx_get_soup(url_series, headers)\n",
    "series_title = soup.find('title').text.strip()\n",
    "episodes = get_episodes(soup, r'.+&episode_no=\\d+')\n",
    "first_episode_no = min(episodes.keys())\n",
    "\n",
    "# Step 2: Get the list of episode URLs from the first episode\n",
    "url = episodes[first_episode_no]\n",
    "soup = httpx_get_soup(url, headers)\n",
    "episodes = get_episodes(soup, r'https://www\\.webtoons\\.com.+viewer\\?title_no=\\d+')\n",
    "episodes = dict(sorted(episodes.items(), key=lambda item: item[0]))\n",
    "\n",
    "# Step 3: Download each episode as a CBZ file\n",
    "dir_output = os.path.join(dir_output, series_title)\n",
    "os.makedirs(dir_output, exist_ok=True)\n",
    "for key in tqdm(episodes.keys(), desc=\"Processing Episodes\", unit=\"url\"):\n",
    "    episode_no = key\n",
    "    url = episodes[key]\n",
    "    path_cbz = os.path.join(dir_output, f\"{series_title}, Episode {episode_no}.cbz\")\n",
    "    if os.path.exists(path_cbz):\n",
    "        continue\n",
    "    download_cbz(url, path_cbz, img_format=\"avif\")"
   ]
  },
  {
   "cell_type": "markdown",
   "id": "8314db97",
   "metadata": {},
   "source": [
    "Development"
   ]
  },
  {
   "cell_type": "markdown",
   "id": "46333d59",
   "metadata": {},
   "source": [
    "https://www.webtoons.com/en/action/omniscient-reader/list?title_no=2154\n",
    "\n",
    "https://www.webtoons.com/en/action/omniscient-reader/episode-0-prologue/viewer?title_no=2154&episode_no=1"
   ]
  },
  {
   "cell_type": "code",
   "execution_count": null,
   "id": "4b39aea9",
   "metadata": {},
   "outputs": [
    {
     "name": "stdout",
     "output_type": "stream",
     "text": [
      "Episode 1: https://www.webtoons.com/en/action/omniscient-reader/episode-0-prologue/viewer?title_no=2154&episode_no=1\n",
      "Episode 2: https://www.webtoons.com/en/action/omniscient-reader/episode-1/viewer?title_no=2154&episode_no=2\n",
      "Episode 3: https://www.webtoons.com/en/action/omniscient-reader/episode-2/viewer?title_no=2154&episode_no=3\n",
      "Episode 4: https://www.webtoons.com/en/action/omniscient-reader/episode-3/viewer?title_no=2154&episode_no=4\n",
      "Episode 5: https://www.webtoons.com/en/action/omniscient-reader/episode-4/viewer?title_no=2154&episode_no=5\n",
      "Episode 6: https://www.webtoons.com/en/action/omniscient-reader/episode-5/viewer?title_no=2154&episode_no=6\n",
      "Episode 7: https://www.webtoons.com/en/action/omniscient-reader/episode-6/viewer?title_no=2154&episode_no=7\n",
      "Episode 8: https://www.webtoons.com/en/action/omniscient-reader/episode-7/viewer?title_no=2154&episode_no=8\n",
      "Episode 9: https://www.webtoons.com/en/action/omniscient-reader/episode-8/viewer?title_no=2154&episode_no=9\n",
      "Episode 10: https://www.webtoons.com/en/action/omniscient-reader/episode-9/viewer?title_no=2154&episode_no=10\n",
      "Episode 11: https://www.webtoons.com/en/action/omniscient-reader/episode-10/viewer?title_no=2154&episode_no=11\n",
      "Episode 12: https://www.webtoons.com/en/action/omniscient-reader/episode-11/viewer?title_no=2154&episode_no=12\n",
      "Episode 13: https://www.webtoons.com/en/action/omniscient-reader/episode-12/viewer?title_no=2154&episode_no=13\n",
      "Episode 14: https://www.webtoons.com/en/action/omniscient-reader/episode-13/viewer?title_no=2154&episode_no=14\n",
      "Episode 15: https://www.webtoons.com/en/action/omniscient-reader/episode-14/viewer?title_no=2154&episode_no=15\n",
      "Episode 16: https://www.webtoons.com/en/action/omniscient-reader/episode-15/viewer?title_no=2154&episode_no=16\n",
      "Episode 17: https://www.webtoons.com/en/action/omniscient-reader/episode-16/viewer?title_no=2154&episode_no=17\n",
      "Episode 18: https://www.webtoons.com/en/action/omniscient-reader/episode-17/viewer?title_no=2154&episode_no=18\n",
      "Episode 19: https://www.webtoons.com/en/action/omniscient-reader/episode-18/viewer?title_no=2154&episode_no=19\n",
      "Episode 20: https://www.webtoons.com/en/action/omniscient-reader/episode-19/viewer?title_no=2154&episode_no=20\n",
      "Episode 21: https://www.webtoons.com/en/action/omniscient-reader/episode-20/viewer?title_no=2154&episode_no=21\n",
      "Episode 22: https://www.webtoons.com/en/action/omniscient-reader/episode-21/viewer?title_no=2154&episode_no=22\n",
      "Episode 23: https://www.webtoons.com/en/action/omniscient-reader/episode-22/viewer?title_no=2154&episode_no=23\n",
      "Episode 24: https://www.webtoons.com/en/action/omniscient-reader/episode-23/viewer?title_no=2154&episode_no=24\n",
      "Episode 25: https://www.webtoons.com/en/action/omniscient-reader/episode-24/viewer?title_no=2154&episode_no=25\n",
      "Episode 26: https://www.webtoons.com/en/action/omniscient-reader/episode-25/viewer?title_no=2154&episode_no=26\n",
      "Episode 27: https://www.webtoons.com/en/action/omniscient-reader/episode-26/viewer?title_no=2154&episode_no=27\n",
      "Episode 28: https://www.webtoons.com/en/action/omniscient-reader/episode-27/viewer?title_no=2154&episode_no=28\n",
      "Episode 29: https://www.webtoons.com/en/action/omniscient-reader/episode-28/viewer?title_no=2154&episode_no=29\n",
      "Episode 30: https://www.webtoons.com/en/action/omniscient-reader/episode-29/viewer?title_no=2154&episode_no=30\n",
      "Episode 31: https://www.webtoons.com/en/action/omniscient-reader/episode-30/viewer?title_no=2154&episode_no=31\n",
      "Episode 32: https://www.webtoons.com/en/action/omniscient-reader/episode-31/viewer?title_no=2154&episode_no=32\n",
      "Episode 33: https://www.webtoons.com/en/action/omniscient-reader/episode-32/viewer?title_no=2154&episode_no=33\n",
      "Episode 34: https://www.webtoons.com/en/action/omniscient-reader/episode-33/viewer?title_no=2154&episode_no=34\n",
      "Episode 35: https://www.webtoons.com/en/action/omniscient-reader/episode-34/viewer?title_no=2154&episode_no=35\n",
      "Episode 36: https://www.webtoons.com/en/action/omniscient-reader/episode-35/viewer?title_no=2154&episode_no=36\n",
      "Episode 37: https://www.webtoons.com/en/action/omniscient-reader/episode-36/viewer?title_no=2154&episode_no=37\n",
      "Episode 38: https://www.webtoons.com/en/action/omniscient-reader/episode-37/viewer?title_no=2154&episode_no=38\n",
      "Episode 39: https://www.webtoons.com/en/action/omniscient-reader/episode-38/viewer?title_no=2154&episode_no=39\n",
      "Episode 40: https://www.webtoons.com/en/action/omniscient-reader/episode-39/viewer?title_no=2154&episode_no=40\n",
      "Episode 41: https://www.webtoons.com/en/action/omniscient-reader/episode-40/viewer?title_no=2154&episode_no=41\n",
      "Episode 42: https://www.webtoons.com/en/action/omniscient-reader/episode-41/viewer?title_no=2154&episode_no=42\n",
      "Episode 43: https://www.webtoons.com/en/action/omniscient-reader/episode-42/viewer?title_no=2154&episode_no=43\n",
      "Episode 44: https://www.webtoons.com/en/action/omniscient-reader/episode-43/viewer?title_no=2154&episode_no=44\n",
      "Episode 45: https://www.webtoons.com/en/action/omniscient-reader/episode-44/viewer?title_no=2154&episode_no=45\n",
      "Episode 46: https://www.webtoons.com/en/action/omniscient-reader/episode-45/viewer?title_no=2154&episode_no=46\n",
      "Episode 47: https://www.webtoons.com/en/action/omniscient-reader/episode-46/viewer?title_no=2154&episode_no=47\n",
      "Episode 48: https://www.webtoons.com/en/action/omniscient-reader/episode-47/viewer?title_no=2154&episode_no=48\n",
      "Episode 49: https://www.webtoons.com/en/action/omniscient-reader/episode-48/viewer?title_no=2154&episode_no=49\n",
      "Episode 50: https://www.webtoons.com/en/action/omniscient-reader/episode-49/viewer?title_no=2154&episode_no=50\n",
      "Episode 51: https://www.webtoons.com/en/action/omniscient-reader/episode-50/viewer?title_no=2154&episode_no=51\n",
      "Episode 52: https://www.webtoons.com/en/action/omniscient-reader/episode-51/viewer?title_no=2154&episode_no=52\n",
      "Episode 53: https://www.webtoons.com/en/action/omniscient-reader/episode-52/viewer?title_no=2154&episode_no=53\n",
      "Episode 54: https://www.webtoons.com/en/action/omniscient-reader/episode-53/viewer?title_no=2154&episode_no=54\n",
      "Episode 55: https://www.webtoons.com/en/action/omniscient-reader/episode-54/viewer?title_no=2154&episode_no=55\n",
      "Episode 56: https://www.webtoons.com/en/action/omniscient-reader/episode-55/viewer?title_no=2154&episode_no=56\n",
      "Episode 57: https://www.webtoons.com/en/action/omniscient-reader/episode-56/viewer?title_no=2154&episode_no=57\n",
      "Episode 58: https://www.webtoons.com/en/action/omniscient-reader/episode-57/viewer?title_no=2154&episode_no=58\n",
      "Episode 59: https://www.webtoons.com/en/action/omniscient-reader/episode-58/viewer?title_no=2154&episode_no=59\n",
      "Episode 60: https://www.webtoons.com/en/action/omniscient-reader/episode-59/viewer?title_no=2154&episode_no=60\n",
      "Episode 61: https://www.webtoons.com/en/action/omniscient-reader/episode-60/viewer?title_no=2154&episode_no=61\n",
      "Episode 62: https://www.webtoons.com/en/action/omniscient-reader/episode-61/viewer?title_no=2154&episode_no=62\n",
      "Episode 63: https://www.webtoons.com/en/action/omniscient-reader/episode-62/viewer?title_no=2154&episode_no=63\n",
      "Episode 64: https://www.webtoons.com/en/action/omniscient-reader/episode-63/viewer?title_no=2154&episode_no=64\n",
      "Episode 65: https://www.webtoons.com/en/action/omniscient-reader/episode-64/viewer?title_no=2154&episode_no=65\n",
      "Episode 66: https://www.webtoons.com/en/action/omniscient-reader/episode-65/viewer?title_no=2154&episode_no=66\n",
      "Episode 67: https://www.webtoons.com/en/action/omniscient-reader/episode-66/viewer?title_no=2154&episode_no=67\n",
      "Episode 68: https://www.webtoons.com/en/action/omniscient-reader/episode-67/viewer?title_no=2154&episode_no=68\n",
      "Episode 69: https://www.webtoons.com/en/action/omniscient-reader/episode-68/viewer?title_no=2154&episode_no=69\n",
      "Episode 70: https://www.webtoons.com/en/action/omniscient-reader/episode-69/viewer?title_no=2154&episode_no=70\n",
      "Episode 71: https://www.webtoons.com/en/action/omniscient-reader/episode-70/viewer?title_no=2154&episode_no=71\n",
      "Episode 72: https://www.webtoons.com/en/action/omniscient-reader/episode-71/viewer?title_no=2154&episode_no=72\n",
      "Episode 73: https://www.webtoons.com/en/action/omniscient-reader/episode-72/viewer?title_no=2154&episode_no=73\n",
      "Episode 74: https://www.webtoons.com/en/action/omniscient-reader/episode-73/viewer?title_no=2154&episode_no=74\n",
      "Episode 75: https://www.webtoons.com/en/action/omniscient-reader/episode-74/viewer?title_no=2154&episode_no=75\n",
      "Episode 76: https://www.webtoons.com/en/action/omniscient-reader/episode-75/viewer?title_no=2154&episode_no=76\n",
      "Episode 77: https://www.webtoons.com/en/action/omniscient-reader/episode-76/viewer?title_no=2154&episode_no=77\n",
      "Episode 78: https://www.webtoons.com/en/action/omniscient-reader/episode-77/viewer?title_no=2154&episode_no=78\n",
      "Episode 79: https://www.webtoons.com/en/action/omniscient-reader/episode-78/viewer?title_no=2154&episode_no=79\n",
      "Episode 80: https://www.webtoons.com/en/action/omniscient-reader/episode-79/viewer?title_no=2154&episode_no=80\n",
      "Episode 81: https://www.webtoons.com/en/action/omniscient-reader/episode-80/viewer?title_no=2154&episode_no=81\n",
      "Episode 82: https://www.webtoons.com/en/action/omniscient-reader/episode-81/viewer?title_no=2154&episode_no=82\n",
      "Episode 83: https://www.webtoons.com/en/action/omniscient-reader/episode-82/viewer?title_no=2154&episode_no=83\n",
      "Episode 84: https://www.webtoons.com/en/action/omniscient-reader/episode-83/viewer?title_no=2154&episode_no=84\n",
      "Episode 85: https://www.webtoons.com/en/action/omniscient-reader/episode-84/viewer?title_no=2154&episode_no=85\n",
      "Episode 86: https://www.webtoons.com/en/action/omniscient-reader/episode-85/viewer?title_no=2154&episode_no=86\n",
      "Episode 87: https://www.webtoons.com/en/action/omniscient-reader/episode-86/viewer?title_no=2154&episode_no=87\n",
      "Episode 88: https://www.webtoons.com/en/action/omniscient-reader/episode-87/viewer?title_no=2154&episode_no=88\n",
      "Episode 89: https://www.webtoons.com/en/action/omniscient-reader/episode-88/viewer?title_no=2154&episode_no=89\n",
      "Episode 90: https://www.webtoons.com/en/action/omniscient-reader/episode-89/viewer?title_no=2154&episode_no=90\n",
      "Episode 91: https://www.webtoons.com/en/action/omniscient-reader/episode-90/viewer?title_no=2154&episode_no=91\n",
      "Episode 92: https://www.webtoons.com/en/action/omniscient-reader/episode-91/viewer?title_no=2154&episode_no=92\n",
      "Episode 93: https://www.webtoons.com/en/action/omniscient-reader/episode-92/viewer?title_no=2154&episode_no=93\n",
      "Episode 94: https://www.webtoons.com/en/action/omniscient-reader/episode-93/viewer?title_no=2154&episode_no=94\n",
      "Episode 95: https://www.webtoons.com/en/action/omniscient-reader/episode-94/viewer?title_no=2154&episode_no=95\n",
      "Episode 96: https://www.webtoons.com/en/action/omniscient-reader/episode-95/viewer?title_no=2154&episode_no=96\n",
      "Episode 97: https://www.webtoons.com/en/action/omniscient-reader/episode-96/viewer?title_no=2154&episode_no=97\n",
      "Episode 98: https://www.webtoons.com/en/action/omniscient-reader/episode-97/viewer?title_no=2154&episode_no=98\n",
      "Episode 99: https://www.webtoons.com/en/action/omniscient-reader/episode-98/viewer?title_no=2154&episode_no=99\n",
      "Episode 100: https://www.webtoons.com/en/action/omniscient-reader/episode-99/viewer?title_no=2154&episode_no=100\n",
      "Episode 101: https://www.webtoons.com/en/action/omniscient-reader/episode-100/viewer?title_no=2154&episode_no=101\n",
      "Episode 102: https://www.webtoons.com/en/action/omniscient-reader/episode-101/viewer?title_no=2154&episode_no=102\n",
      "Episode 103: https://www.webtoons.com/en/action/omniscient-reader/episode-102/viewer?title_no=2154&episode_no=103\n",
      "Episode 104: https://www.webtoons.com/en/action/omniscient-reader/episode-103/viewer?title_no=2154&episode_no=104\n",
      "Episode 105: https://www.webtoons.com/en/action/omniscient-reader/episode-104/viewer?title_no=2154&episode_no=105\n",
      "Episode 106: https://www.webtoons.com/en/action/omniscient-reader/episode-105/viewer?title_no=2154&episode_no=106\n",
      "Episode 107: https://www.webtoons.com/en/action/omniscient-reader/episode-106/viewer?title_no=2154&episode_no=107\n",
      "Episode 108: https://www.webtoons.com/en/action/omniscient-reader/episode-107/viewer?title_no=2154&episode_no=108\n",
      "Episode 109: https://www.webtoons.com/en/action/omniscient-reader/episode-108/viewer?title_no=2154&episode_no=109\n",
      "Episode 110: https://www.webtoons.com/en/action/omniscient-reader/episode-109/viewer?title_no=2154&episode_no=110\n",
      "Episode 111: https://www.webtoons.com/en/action/omniscient-reader/episode-110/viewer?title_no=2154&episode_no=111\n",
      "Episode 112: https://www.webtoons.com/en/action/omniscient-reader/episode-111/viewer?title_no=2154&episode_no=112\n",
      "Episode 113: https://www.webtoons.com/en/action/omniscient-reader/episode-112/viewer?title_no=2154&episode_no=113\n",
      "Episode 114: https://www.webtoons.com/en/action/omniscient-reader/episode-113/viewer?title_no=2154&episode_no=114\n",
      "Episode 115: https://www.webtoons.com/en/action/omniscient-reader/episode-114/viewer?title_no=2154&episode_no=115\n",
      "Episode 116: https://www.webtoons.com/en/action/omniscient-reader/episode-115/viewer?title_no=2154&episode_no=116\n",
      "Episode 117: https://www.webtoons.com/en/action/omniscient-reader/episode-116/viewer?title_no=2154&episode_no=117\n",
      "Episode 118: https://www.webtoons.com/en/action/omniscient-reader/episode-117/viewer?title_no=2154&episode_no=118\n",
      "Episode 119: https://www.webtoons.com/en/action/omniscient-reader/episode-118/viewer?title_no=2154&episode_no=119\n",
      "Episode 120: https://www.webtoons.com/en/action/omniscient-reader/episode-119/viewer?title_no=2154&episode_no=120\n",
      "Episode 121: https://www.webtoons.com/en/action/omniscient-reader/episode-120/viewer?title_no=2154&episode_no=121\n",
      "Episode 122: https://www.webtoons.com/en/action/omniscient-reader/episode-121/viewer?title_no=2154&episode_no=122\n",
      "Episode 123: https://www.webtoons.com/en/action/omniscient-reader/episode-122/viewer?title_no=2154&episode_no=123\n",
      "Episode 124: https://www.webtoons.com/en/action/omniscient-reader/episode-123/viewer?title_no=2154&episode_no=124\n",
      "Episode 125: https://www.webtoons.com/en/action/omniscient-reader/episode-124/viewer?title_no=2154&episode_no=125\n",
      "Episode 126: https://www.webtoons.com/en/action/omniscient-reader/episode-125/viewer?title_no=2154&episode_no=126\n",
      "Episode 127: https://www.webtoons.com/en/action/omniscient-reader/episode-126/viewer?title_no=2154&episode_no=127\n",
      "Episode 128: https://www.webtoons.com/en/action/omniscient-reader/episode-127/viewer?title_no=2154&episode_no=128\n",
      "Episode 129: https://www.webtoons.com/en/action/omniscient-reader/episode-128/viewer?title_no=2154&episode_no=129\n",
      "Episode 130: https://www.webtoons.com/en/action/omniscient-reader/episode-129/viewer?title_no=2154&episode_no=130\n",
      "Episode 131: https://www.webtoons.com/en/action/omniscient-reader/episode-130/viewer?title_no=2154&episode_no=131\n",
      "Episode 132: https://www.webtoons.com/en/action/omniscient-reader/episode-131/viewer?title_no=2154&episode_no=132\n",
      "Episode 133: https://www.webtoons.com/en/action/omniscient-reader/episode-132/viewer?title_no=2154&episode_no=133\n",
      "Episode 134: https://www.webtoons.com/en/action/omniscient-reader/episode-133/viewer?title_no=2154&episode_no=134\n",
      "Episode 135: https://www.webtoons.com/en/action/omniscient-reader/episode-134/viewer?title_no=2154&episode_no=135\n",
      "Episode 136: https://www.webtoons.com/en/action/omniscient-reader/episode-135/viewer?title_no=2154&episode_no=136\n",
      "Episode 137: https://www.webtoons.com/en/action/omniscient-reader/episode-136/viewer?title_no=2154&episode_no=137\n",
      "Episode 138: https://www.webtoons.com/en/action/omniscient-reader/episode-137/viewer?title_no=2154&episode_no=138\n",
      "Episode 139: https://www.webtoons.com/en/action/omniscient-reader/episode-138/viewer?title_no=2154&episode_no=139\n",
      "Episode 140: https://www.webtoons.com/en/action/omniscient-reader/episode-139/viewer?title_no=2154&episode_no=140\n",
      "Episode 141: https://www.webtoons.com/en/action/omniscient-reader/episode-140/viewer?title_no=2154&episode_no=141\n",
      "Episode 142: https://www.webtoons.com/en/action/omniscient-reader/episode-141/viewer?title_no=2154&episode_no=142\n",
      "Episode 143: https://www.webtoons.com/en/action/omniscient-reader/episode-142/viewer?title_no=2154&episode_no=143\n",
      "Episode 144: https://www.webtoons.com/en/action/omniscient-reader/episode-143/viewer?title_no=2154&episode_no=144\n",
      "Episode 145: https://www.webtoons.com/en/action/omniscient-reader/episode-144/viewer?title_no=2154&episode_no=145\n",
      "Episode 146: https://www.webtoons.com/en/action/omniscient-reader/episode-145/viewer?title_no=2154&episode_no=146\n",
      "Episode 147: https://www.webtoons.com/en/action/omniscient-reader/episode-146/viewer?title_no=2154&episode_no=147\n",
      "Episode 148: https://www.webtoons.com/en/action/omniscient-reader/episode-147/viewer?title_no=2154&episode_no=148\n",
      "Episode 149: https://www.webtoons.com/en/action/omniscient-reader/episode-148/viewer?title_no=2154&episode_no=149\n",
      "Episode 150: https://www.webtoons.com/en/action/omniscient-reader/episode-149/viewer?title_no=2154&episode_no=150\n",
      "Episode 151: https://www.webtoons.com/en/action/omniscient-reader/episode-150/viewer?title_no=2154&episode_no=151\n",
      "Episode 152: https://www.webtoons.com/en/action/omniscient-reader/episode-151/viewer?title_no=2154&episode_no=152\n",
      "Episode 153: https://www.webtoons.com/en/action/omniscient-reader/episode-152/viewer?title_no=2154&episode_no=153\n",
      "Episode 154: https://www.webtoons.com/en/action/omniscient-reader/episode-153/viewer?title_no=2154&episode_no=154\n",
      "Episode 155: https://www.webtoons.com/en/action/omniscient-reader/episode-154/viewer?title_no=2154&episode_no=155\n",
      "Episode 156: https://www.webtoons.com/en/action/omniscient-reader/episode-155/viewer?title_no=2154&episode_no=156\n",
      "Episode 157: https://www.webtoons.com/en/action/omniscient-reader/episode-156/viewer?title_no=2154&episode_no=157\n",
      "Episode 158: https://www.webtoons.com/en/action/omniscient-reader/episode-157/viewer?title_no=2154&episode_no=158\n",
      "Episode 159: https://www.webtoons.com/en/action/omniscient-reader/episode-158/viewer?title_no=2154&episode_no=159\n",
      "Episode 160: https://www.webtoons.com/en/action/omniscient-reader/episode-159/viewer?title_no=2154&episode_no=160\n",
      "Episode 161: https://www.webtoons.com/en/action/omniscient-reader/episode-160/viewer?title_no=2154&episode_no=161\n",
      "Episode 162: https://www.webtoons.com/en/action/omniscient-reader/episode-161/viewer?title_no=2154&episode_no=162\n",
      "Episode 163: https://www.webtoons.com/en/action/omniscient-reader/episode-162/viewer?title_no=2154&episode_no=163\n",
      "Episode 164: https://www.webtoons.com/en/action/omniscient-reader/episode-163/viewer?title_no=2154&episode_no=164\n",
      "Episode 165: https://www.webtoons.com/en/action/omniscient-reader/episode-164/viewer?title_no=2154&episode_no=165\n",
      "Episode 166: https://www.webtoons.com/en/action/omniscient-reader/episode-165/viewer?title_no=2154&episode_no=166\n",
      "Episode 167: https://www.webtoons.com/en/action/omniscient-reader/episode-166/viewer?title_no=2154&episode_no=167\n",
      "Episode 168: https://www.webtoons.com/en/action/omniscient-reader/episode-167/viewer?title_no=2154&episode_no=168\n",
      "Episode 169: https://www.webtoons.com/en/action/omniscient-reader/episode-168/viewer?title_no=2154&episode_no=169\n",
      "Episode 170: https://www.webtoons.com/en/action/omniscient-reader/episode-169/viewer?title_no=2154&episode_no=170\n",
      "Episode 171: https://www.webtoons.com/en/action/omniscient-reader/episode-170/viewer?title_no=2154&episode_no=171\n",
      "Episode 172: https://www.webtoons.com/en/action/omniscient-reader/episode-171/viewer?title_no=2154&episode_no=172\n",
      "Episode 173: https://www.webtoons.com/en/action/omniscient-reader/episode-172/viewer?title_no=2154&episode_no=173\n",
      "Episode 174: https://www.webtoons.com/en/action/omniscient-reader/episode-173/viewer?title_no=2154&episode_no=174\n",
      "Episode 175: https://www.webtoons.com/en/action/omniscient-reader/episode-174/viewer?title_no=2154&episode_no=175\n",
      "Episode 176: https://www.webtoons.com/en/action/omniscient-reader/episode-175/viewer?title_no=2154&episode_no=176\n",
      "Episode 177: https://www.webtoons.com/en/action/omniscient-reader/episode-176/viewer?title_no=2154&episode_no=177\n",
      "Episode 178: https://www.webtoons.com/en/action/omniscient-reader/episode-177/viewer?title_no=2154&episode_no=178\n",
      "Episode 179: https://www.webtoons.com/en/action/omniscient-reader/episode-178/viewer?title_no=2154&episode_no=179\n",
      "Episode 180: https://www.webtoons.com/en/action/omniscient-reader/episode-179/viewer?title_no=2154&episode_no=180\n",
      "Episode 181: https://www.webtoons.com/en/action/omniscient-reader/episode-180/viewer?title_no=2154&episode_no=181\n",
      "Episode 182: https://www.webtoons.com/en/action/omniscient-reader/episode-181/viewer?title_no=2154&episode_no=182\n",
      "Episode 183: https://www.webtoons.com/en/action/omniscient-reader/episode-182/viewer?title_no=2154&episode_no=183\n",
      "Episode 184: https://www.webtoons.com/en/action/omniscient-reader/episode-183/viewer?title_no=2154&episode_no=184\n",
      "Episode 185: https://www.webtoons.com/en/action/omniscient-reader/episode-184/viewer?title_no=2154&episode_no=185\n",
      "Episode 186: https://www.webtoons.com/en/action/omniscient-reader/episode-185/viewer?title_no=2154&episode_no=186\n",
      "Episode 187: https://www.webtoons.com/en/action/omniscient-reader/episode-186/viewer?title_no=2154&episode_no=187\n",
      "Episode 188: https://www.webtoons.com/en/action/omniscient-reader/episode-187/viewer?title_no=2154&episode_no=188\n",
      "Episode 189: https://www.webtoons.com/en/action/omniscient-reader/episode-188/viewer?title_no=2154&episode_no=189\n",
      "Episode 190: https://www.webtoons.com/en/action/omniscient-reader/episode-189/viewer?title_no=2154&episode_no=190\n",
      "Episode 191: https://www.webtoons.com/en/action/omniscient-reader/episode-190/viewer?title_no=2154&episode_no=191\n",
      "Episode 192: https://www.webtoons.com/en/action/omniscient-reader/episode-191/viewer?title_no=2154&episode_no=192\n",
      "Episode 193: https://www.webtoons.com/en/action/omniscient-reader/episode-192/viewer?title_no=2154&episode_no=193\n",
      "Episode 194: https://www.webtoons.com/en/action/omniscient-reader/episode-193/viewer?title_no=2154&episode_no=194\n",
      "Episode 195: https://www.webtoons.com/en/action/omniscient-reader/episode-194/viewer?title_no=2154&episode_no=195\n",
      "Episode 196: https://www.webtoons.com/en/action/omniscient-reader/episode-195/viewer?title_no=2154&episode_no=196\n",
      "Episode 197: https://www.webtoons.com/en/action/omniscient-reader/episode-196/viewer?title_no=2154&episode_no=197\n",
      "Episode 198: https://www.webtoons.com/en/action/omniscient-reader/episode-197/viewer?title_no=2154&episode_no=198\n",
      "Episode 199: https://www.webtoons.com/en/action/omniscient-reader/episode-198/viewer?title_no=2154&episode_no=199\n",
      "Episode 200: https://www.webtoons.com/en/action/omniscient-reader/episode-199/viewer?title_no=2154&episode_no=200\n",
      "Episode 201: https://www.webtoons.com/en/action/omniscient-reader/episode-200/viewer?title_no=2154&episode_no=201\n",
      "Episode 202: https://www.webtoons.com/en/action/omniscient-reader/episode-201/viewer?title_no=2154&episode_no=202\n",
      "Episode 203: https://www.webtoons.com/en/action/omniscient-reader/episode-202/viewer?title_no=2154&episode_no=203\n",
      "Episode 204: https://www.webtoons.com/en/action/omniscient-reader/episode-203/viewer?title_no=2154&episode_no=204\n",
      "Episode 205: https://www.webtoons.com/en/action/omniscient-reader/episode-204/viewer?title_no=2154&episode_no=205\n",
      "Episode 206: https://www.webtoons.com/en/action/omniscient-reader/episode-205/viewer?title_no=2154&episode_no=206\n",
      "Episode 207: https://www.webtoons.com/en/action/omniscient-reader/episode-206/viewer?title_no=2154&episode_no=207\n",
      "Episode 208: https://www.webtoons.com/en/action/omniscient-reader/episode-207/viewer?title_no=2154&episode_no=208\n",
      "Episode 209: https://www.webtoons.com/en/action/omniscient-reader/episode-208/viewer?title_no=2154&episode_no=209\n",
      "Episode 210: https://www.webtoons.com/en/action/omniscient-reader/episode-209/viewer?title_no=2154&episode_no=210\n",
      "Episode 211: https://www.webtoons.com/en/action/omniscient-reader/episode-210/viewer?title_no=2154&episode_no=211\n",
      "Episode 212: https://www.webtoons.com/en/action/omniscient-reader/episode-211/viewer?title_no=2154&episode_no=212\n",
      "Episode 213: https://www.webtoons.com/en/action/omniscient-reader/episode-212/viewer?title_no=2154&episode_no=213\n",
      "Episode 214: https://www.webtoons.com/en/action/omniscient-reader/episode-213/viewer?title_no=2154&episode_no=214\n",
      "Episode 215: https://www.webtoons.com/en/action/omniscient-reader/episode-214/viewer?title_no=2154&episode_no=215\n",
      "Episode 216: https://www.webtoons.com/en/action/omniscient-reader/episode-215/viewer?title_no=2154&episode_no=216\n",
      "Episode 217: https://www.webtoons.com/en/action/omniscient-reader/episode-216/viewer?title_no=2154&episode_no=217\n",
      "Episode 218: https://www.webtoons.com/en/action/omniscient-reader/episode-217/viewer?title_no=2154&episode_no=218\n",
      "Episode 219: https://www.webtoons.com/en/action/omniscient-reader/episode-218/viewer?title_no=2154&episode_no=219\n",
      "Episode 220: https://www.webtoons.com/en/action/omniscient-reader/episode-219/viewer?title_no=2154&episode_no=220\n",
      "Episode 221: https://www.webtoons.com/en/action/omniscient-reader/episode-220/viewer?title_no=2154&episode_no=221\n",
      "Episode 222: https://www.webtoons.com/en/action/omniscient-reader/episode-221/viewer?title_no=2154&episode_no=222\n",
      "Episode 223: https://www.webtoons.com/en/action/omniscient-reader/episode-222/viewer?title_no=2154&episode_no=223\n",
      "Episode 224: https://www.webtoons.com/en/action/omniscient-reader/episode-223/viewer?title_no=2154&episode_no=224\n",
      "Episode 225: https://www.webtoons.com/en/action/omniscient-reader/episode-224/viewer?title_no=2154&episode_no=225\n",
      "Episode 226: https://www.webtoons.com/en/action/omniscient-reader/episode-225/viewer?title_no=2154&episode_no=226\n",
      "Episode 227: https://www.webtoons.com/en/action/omniscient-reader/episode-226/viewer?title_no=2154&episode_no=227\n",
      "Episode 228: https://www.webtoons.com/en/action/omniscient-reader/episode-227/viewer?title_no=2154&episode_no=228\n",
      "Episode 229: https://www.webtoons.com/en/action/omniscient-reader/episode-228/viewer?title_no=2154&episode_no=229\n",
      "Episode 230: https://www.webtoons.com/en/action/omniscient-reader/episode-229/viewer?title_no=2154&episode_no=230\n",
      "Episode 231: https://www.webtoons.com/en/action/omniscient-reader/episode-230/viewer?title_no=2154&episode_no=231\n",
      "Episode 232: https://www.webtoons.com/en/action/omniscient-reader/episode-231/viewer?title_no=2154&episode_no=232\n",
      "Episode 233: https://www.webtoons.com/en/action/omniscient-reader/episode-232/viewer?title_no=2154&episode_no=233\n",
      "Episode 234: https://www.webtoons.com/en/action/omniscient-reader/episode-233/viewer?title_no=2154&episode_no=234\n",
      "Episode 235: https://www.webtoons.com/en/action/omniscient-reader/episode-234/viewer?title_no=2154&episode_no=235\n",
      "Episode 236: https://www.webtoons.com/en/action/omniscient-reader/episode-235/viewer?title_no=2154&episode_no=236\n",
      "Episode 237: https://www.webtoons.com/en/action/omniscient-reader/episode-236/viewer?title_no=2154&episode_no=237\n",
      "Episode 238: https://www.webtoons.com/en/action/omniscient-reader/episode-237/viewer?title_no=2154&episode_no=238\n",
      "Episode 239: https://www.webtoons.com/en/action/omniscient-reader/episode-238/viewer?title_no=2154&episode_no=239\n",
      "Episode 240: https://www.webtoons.com/en/action/omniscient-reader/episode-239/viewer?title_no=2154&episode_no=240\n",
      "Episode 241: https://www.webtoons.com/en/action/omniscient-reader/episode-240/viewer?title_no=2154&episode_no=241\n",
      "Episode 242: https://www.webtoons.com/en/action/omniscient-reader/episode-241/viewer?title_no=2154&episode_no=242\n",
      "Episode 243: https://www.webtoons.com/en/action/omniscient-reader/episode-242/viewer?title_no=2154&episode_no=243\n",
      "Episode 244: https://www.webtoons.com/en/action/omniscient-reader/episode-243/viewer?title_no=2154&episode_no=244\n",
      "Episode 245: https://www.webtoons.com/en/action/omniscient-reader/episode-244/viewer?title_no=2154&episode_no=245\n",
      "Episode 246: https://www.webtoons.com/en/action/omniscient-reader/episode-245/viewer?title_no=2154&episode_no=246\n",
      "Episode 247: https://www.webtoons.com/en/action/omniscient-reader/episode-246/viewer?title_no=2154&episode_no=247\n",
      "Episode 248: https://www.webtoons.com/en/action/omniscient-reader/episode-247/viewer?title_no=2154&episode_no=248\n",
      "Episode 249: https://www.webtoons.com/en/action/omniscient-reader/episode-248/viewer?title_no=2154&episode_no=249\n",
      "Episode 250: https://www.webtoons.com/en/action/omniscient-reader/episode-249/viewer?title_no=2154&episode_no=250\n",
      "Episode 251: https://www.webtoons.com/en/action/omniscient-reader/episode-250/viewer?title_no=2154&episode_no=251\n",
      "Episode 252: https://www.webtoons.com/en/action/omniscient-reader/episode-251/viewer?title_no=2154&episode_no=252\n"
     ]
    }
   ],
   "source": [
    "import re\n",
    "import os\n",
    "import zipfile\n",
    "import httpx\n",
    "from bs4 import BeautifulSoup\n",
    "from PIL import Image\n",
    "from io import BytesIO\n",
    "\n",
    "# https://www.webtoons.com/en/action/omniscient-reader/episode-1-prologue/viewer?title_no=2154&episode_no=1\n",
    "# https://www.webtoons.com/en/action/omniscient-reader/list?title_no=2154\n",
    "\n",
    "\n",
    "header_ua = '\"Google Chrome\";v=\"135\", \"Not-A.Brand\";v=\"8\", \"Chromium\";v=\"135\"'\n",
    "header_ua_mobile = \"?0\"\n",
    "header_ua_platform = '\"Linux\"'\n",
    "header_user_agent = \"Mozilla/5.0 (X11; Linux x86_64) AppleWebKit/537.36 (KHTML, like Gecko) Chrome/135.0.0.0 Safari/537.36\"\n",
    "\n",
    "\n",
    "# headers = {\n",
    "#     \"referer\": \"https://www.webtoons.com/en/action/omniscient-reader/episode-0-prologue/viewer?title_no=2154&episode_no=1\",\n",
    "#     \"sec-ch-ua\": '\"Google Chrome\";v=\"135\", \"Not-A.Brand\";v=\"8\", \"Chromium\";v=\"135\"',\n",
    "#     \"sec-ch-ua-mobile\": \"?0\",\n",
    "#     \"sec-ch-ua-platform\": '\"Linux\"',\n",
    "#     \"user-agent\": \"Mozilla/5.0 (X11; Linux x86_64) AppleWebKit/537.36 (KHTML, like Gecko) Chrome/135.0.0.0 Safari/537.36\",\n",
    "# }\n",
    "\n",
    "headers = {\n",
    "    \"sec-ch-ua\": header_ua,\n",
    "    \"sec-ch-ua-mobile\": header_ua_mobile,\n",
    "    \"sec-ch-ua-platform\": header_ua_platform,\n",
    "    \"user-agent\": header_user_agent,\n",
    "}\n",
    "\n",
    "episode_no = 1\n",
    "\n",
    "url_series = \"https://www.webtoons.com/en/action/omniscient-reader/list?title_no=2154\"\n",
    "\n",
    "# title_no = re.search(r'title_no=(\\d+)', url_series).group(1)\n",
    "# url_chapter = url_series.split('/list')[0] + '/x/viewer?title_no=' + title_no + '&episode_no=' + str(episode_no)\n",
    "\n",
    "# response = requests.get(url_chapter)\n",
    "# response.raise_for_status()  # Raise an error for bad HTTP responses\n",
    "# soup = BeautifulSoup(response.text, 'html.parser')\n",
    "\n",
    "url = url_series\n",
    "\n",
    "def httpx_get_soup(url, headers) -> BeautifulSoup:\n",
    "    \"\"\"\n",
    "    Fetches the content of a URL and returns a BeautifulSoup object.\n",
    "    \"\"\"\n",
    "    with httpx.Client() as client:\n",
    "        response = client.get(url, headers=headers)\n",
    "        if response.status_code == 200:\n",
    "            return BeautifulSoup(response.text, 'html.parser')\n",
    "        else:\n",
    "            print(f\"Failed to retrieve the page: {url}\\nStatus code: {response.status_code}\")\n",
    "            exit(1)\n",
    "            return None\n",
    "\n",
    "def get_episodes(soup, regex) -> dict:\n",
    "    \"\"\"\n",
    "    Extracts episode links from the BeautifulSoup object.\n",
    "    \"\"\"\n",
    "    links = [a['href'] for a in soup.find_all('a', href=re.compile(regex))]\n",
    "    dat = {int(re.search(r'episode_no=(\\d+)', link).group(1)): link for link in links}\n",
    "    return dat\n",
    "\n",
    "soup = httpx_get_soup(url, headers)\n",
    "episodes = get_episodes(soup, r'.+&episode_no=\\d+')\n",
    "first_episode_no = min(episodes.keys())\n",
    "\n",
    "url = episodes[episode_no]\n",
    "soup = httpx_get_soup(url, headers)\n",
    "episodes = get_episodes(soup, r'https://www\\.webtoons\\.com.+viewer\\?title_no=\\d+')\n",
    "episodes = dict(sorted(episodes.items(), key=lambda item: item[0]))\n",
    "\n",
    "for episode_no, link in episodes.items():\n",
    "    print(f\"Episode {episode_no}: {link}\")\n",
    "\n",
    "# =\"https://www.webtoons.com/en/action/omniscient-reader/episode-189/viewer?title_no=2154\n",
    "# print(soup.prettify())"
   ]
  },
  {
   "cell_type": "code",
   "execution_count": null,
   "id": "2f3ec9f6",
   "metadata": {},
   "outputs": [],
   "source": [
    "import pillow_avif\n",
    "import tempfile\n",
    "# from tqdm import tqdm\n",
    "from tqdm.notebook import tqdm\n",
    "\n",
    "folder = \"data\"\n",
    "os.makedirs(folder, exist_ok=True)\n",
    "\n",
    "path_cbz = os.path.join(folder, \"omniscient_reader.cbz\")\n",
    "\n",
    "\n",
    "url_chapter = \"https://www.webtoons.com/en/action/omniscient-reader/episode-0-prologue/viewer?title_no=2154&episode_no=1\"\n",
    "url = url_chapter\n",
    "\n",
    "def download_cbz(url, path_cbz, img_format=\"avif\"):\n",
    "    \"\"\"\n",
    "    Downloads a CBZ file from the given URL and saves it to the specified path.\n",
    "    Default format is AVIF. Options are AVIF or JPEG.\n",
    "    \"\"\"\n",
    "    # Step 1: Fetch the page content as soup\n",
    "    soup = httpx_get_soup(url, headers)\n",
    "    # Step 2: Find all image links of content images\n",
    "    regex = r'https://webtoon-phinf\\.pstatic\\.net.*\\.(jpg|jpeg|png).*'\n",
    "    links = soup.find_all('img', attrs={'data-url': re.compile(regex), 'class': '_images'})\n",
    "    # Setp 3: Download images\n",
    "    headers['referer'] = url\n",
    "    n = 0\n",
    "    with tempfile.TemporaryDirectory() as temp_dir:\n",
    "        with httpx.Client() as client:\n",
    "            for url in tqdm(links, desc=\"Downloading images\", unit=\"image\"):\n",
    "                image_url = url['data-url']\n",
    "                response = client.get(image_url, headers=headers)\n",
    "                if response.status_code == 200:\n",
    "                    n += 1\n",
    "                    image = Image.open(BytesIO(response.content))\n",
    "                    file_name = f\"{str(n).zfill(3)}.{img_format}\"\n",
    "                    if img_format == \"avif\":\n",
    "                        image.save(os.path.join(temp_dir, file_name), format=\"AVIF\")\n",
    "                    else:\n",
    "                        image.save(os.path.join(temp_dir, file_name), format=\"JPEG\")\n",
    "                else:\n",
    "                    print(f\"Failed to download image: {response.status_code}\")\n",
    "                    exit(1)        \n",
    "        # Step 4: Create new CBZ with downloaded images\n",
    "        with zipfile.ZipFile(path_cbz, 'w', compression=zipfile.ZIP_DEFLATED) as zipf:\n",
    "            for filename in sorted(os.listdir(temp_dir)):\n",
    "                file_path = os.path.join(temp_dir, filename)\n",
    "                zipf.write(file_path, arcname=filename)\n",
    "\n",
    "download_cbz(url, path_cbz, img_format=\"avif\")"
   ]
  },
  {
   "cell_type": "code",
   "execution_count": null,
   "id": "c97a6fe5",
   "metadata": {},
   "outputs": [],
   "source": [
    "urls = [\n",
    "    \"https://www.webtoons.com/en/action/omniscient-reader/episode-0-prologue/viewer?title_no=2154&episode_no=1\",\n",
    "    \"https://www.webtoons.com/en/action/omniscient-reader/episode-0-prologue/viewer?title_no=2154&episode_no=2\"\n",
    "]\n",
    "\n",
    "def download_cbz_all(urls, folder, img_format=\"avif\"):\n",
    "    \"\"\"\n",
    "    Downloads multiple CBZ files from the given URLs and saves them to the specified folder.\n",
    "    \"\"\"\n",
    "    for url in tqdm(urls, desc=\"Processing URLs\", unit=\"url\"):\n",
    "        episode_no = re.search(r'episode_no=(\\d+)', url).group(1)\n",
    "        path_cbz = os.path.join(folder, f\"omniscient_reader_{episode_no}.cbz\")\n",
    "        download_cbz(url, path_cbz, img_format)\n",
    "\n",
    "download_cbz_all(urls, folder, img_format=\"avif\")"
   ]
  }
 ],
 "metadata": {
  "kernelspec": {
   "display_name": ".venv",
   "language": "python",
   "name": "python3"
  },
  "language_info": {
   "codemirror_mode": {
    "name": "ipython",
    "version": 3
   },
   "file_extension": ".py",
   "mimetype": "text/x-python",
   "name": "python",
   "nbconvert_exporter": "python",
   "pygments_lexer": "ipython3",
   "version": "3.12.10"
  }
 },
 "nbformat": 4,
 "nbformat_minor": 5
}
